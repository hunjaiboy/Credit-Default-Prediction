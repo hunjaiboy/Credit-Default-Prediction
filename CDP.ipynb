{
  "cells": [
    {
      "cell_type": "markdown",
      "metadata": {
        "id": "P_peVmuS_guZ"
      },
      "source": [
        "## Keras: A high level neural network library\n",
        "\n",
        "In this exercise we will revisit classification using simple neural networks. To do so we will use Keras, a popular neural network package. Keras is a high level library that allows rapid prototyping of neural networks due to its precompiled layers, just as Scikit-learn contains a number of prebuilt classifiers.\n"
      ]
    },
    {
      "cell_type": "markdown",
      "metadata": {
        "id": "1c3g71Ke_guZ"
      },
      "source": [
        "## Keras\n",
        "\n",
        "Detailed instructions can be found at https://keras.io.\n"
      ]
    },
    {
      "cell_type": "markdown",
      "metadata": {
        "id": "-QvnyQHg_guZ"
      },
      "source": [
        "To start the demo, we have a 2D dataset so we can visualize what the network is doing."
      ]
    },
    {
      "cell_type": "markdown",
      "metadata": {
        "id": "MqReWzn1_guZ"
      },
      "source": [
        "Neural networks are so popular now due to their ability to quickly learn nonlinear boundaries. So, we have an example that would be impossible for a linear classifier and demonstrate how a neural network can be used to solve this. As you can see, in the dataset below there is no straight line that you can draw that perfectly separates the red and blue classes"
      ]
    },
    {
      "cell_type": "code",
      "execution_count": null,
      "metadata": {
        "colab": {
          "base_uri": "https://localhost:8080/",
          "height": 90
        },
        "id": "EeTd5EzMe_fM",
        "outputId": "7ecf012f-cc64-4e4b-ca8f-583b279865bf",
        "scrolled": true
      },
      "outputs": [
        {
          "output_type": "display_data",
          "data": {
            "text/plain": [
              "<IPython.core.display.HTML object>"
            ],
            "text/html": [
              "\n",
              "     <input type=\"file\" id=\"files-6ceccefb-e3d0-4edb-b5f5-36834f6ce6ff\" name=\"files[]\" multiple disabled\n",
              "        style=\"border:none\" />\n",
              "     <output id=\"result-6ceccefb-e3d0-4edb-b5f5-36834f6ce6ff\">\n",
              "      Upload widget is only available when the cell has been executed in the\n",
              "      current browser session. Please rerun this cell to enable.\n",
              "      </output>\n",
              "      <script>// Copyright 2017 Google LLC\n",
              "//\n",
              "// Licensed under the Apache License, Version 2.0 (the \"License\");\n",
              "// you may not use this file except in compliance with the License.\n",
              "// You may obtain a copy of the License at\n",
              "//\n",
              "//      http://www.apache.org/licenses/LICENSE-2.0\n",
              "//\n",
              "// Unless required by applicable law or agreed to in writing, software\n",
              "// distributed under the License is distributed on an \"AS IS\" BASIS,\n",
              "// WITHOUT WARRANTIES OR CONDITIONS OF ANY KIND, either express or implied.\n",
              "// See the License for the specific language governing permissions and\n",
              "// limitations under the License.\n",
              "\n",
              "/**\n",
              " * @fileoverview Helpers for google.colab Python module.\n",
              " */\n",
              "(function(scope) {\n",
              "function span(text, styleAttributes = {}) {\n",
              "  const element = document.createElement('span');\n",
              "  element.textContent = text;\n",
              "  for (const key of Object.keys(styleAttributes)) {\n",
              "    element.style[key] = styleAttributes[key];\n",
              "  }\n",
              "  return element;\n",
              "}\n",
              "\n",
              "// Max number of bytes which will be uploaded at a time.\n",
              "const MAX_PAYLOAD_SIZE = 100 * 1024;\n",
              "\n",
              "function _uploadFiles(inputId, outputId) {\n",
              "  const steps = uploadFilesStep(inputId, outputId);\n",
              "  const outputElement = document.getElementById(outputId);\n",
              "  // Cache steps on the outputElement to make it available for the next call\n",
              "  // to uploadFilesContinue from Python.\n",
              "  outputElement.steps = steps;\n",
              "\n",
              "  return _uploadFilesContinue(outputId);\n",
              "}\n",
              "\n",
              "// This is roughly an async generator (not supported in the browser yet),\n",
              "// where there are multiple asynchronous steps and the Python side is going\n",
              "// to poll for completion of each step.\n",
              "// This uses a Promise to block the python side on completion of each step,\n",
              "// then passes the result of the previous step as the input to the next step.\n",
              "function _uploadFilesContinue(outputId) {\n",
              "  const outputElement = document.getElementById(outputId);\n",
              "  const steps = outputElement.steps;\n",
              "\n",
              "  const next = steps.next(outputElement.lastPromiseValue);\n",
              "  return Promise.resolve(next.value.promise).then((value) => {\n",
              "    // Cache the last promise value to make it available to the next\n",
              "    // step of the generator.\n",
              "    outputElement.lastPromiseValue = value;\n",
              "    return next.value.response;\n",
              "  });\n",
              "}\n",
              "\n",
              "/**\n",
              " * Generator function which is called between each async step of the upload\n",
              " * process.\n",
              " * @param {string} inputId Element ID of the input file picker element.\n",
              " * @param {string} outputId Element ID of the output display.\n",
              " * @return {!Iterable<!Object>} Iterable of next steps.\n",
              " */\n",
              "function* uploadFilesStep(inputId, outputId) {\n",
              "  const inputElement = document.getElementById(inputId);\n",
              "  inputElement.disabled = false;\n",
              "\n",
              "  const outputElement = document.getElementById(outputId);\n",
              "  outputElement.innerHTML = '';\n",
              "\n",
              "  const pickedPromise = new Promise((resolve) => {\n",
              "    inputElement.addEventListener('change', (e) => {\n",
              "      resolve(e.target.files);\n",
              "    });\n",
              "  });\n",
              "\n",
              "  const cancel = document.createElement('button');\n",
              "  inputElement.parentElement.appendChild(cancel);\n",
              "  cancel.textContent = 'Cancel upload';\n",
              "  const cancelPromise = new Promise((resolve) => {\n",
              "    cancel.onclick = () => {\n",
              "      resolve(null);\n",
              "    };\n",
              "  });\n",
              "\n",
              "  // Wait for the user to pick the files.\n",
              "  const files = yield {\n",
              "    promise: Promise.race([pickedPromise, cancelPromise]),\n",
              "    response: {\n",
              "      action: 'starting',\n",
              "    }\n",
              "  };\n",
              "\n",
              "  cancel.remove();\n",
              "\n",
              "  // Disable the input element since further picks are not allowed.\n",
              "  inputElement.disabled = true;\n",
              "\n",
              "  if (!files) {\n",
              "    return {\n",
              "      response: {\n",
              "        action: 'complete',\n",
              "      }\n",
              "    };\n",
              "  }\n",
              "\n",
              "  for (const file of files) {\n",
              "    const li = document.createElement('li');\n",
              "    li.append(span(file.name, {fontWeight: 'bold'}));\n",
              "    li.append(span(\n",
              "        `(${file.type || 'n/a'}) - ${file.size} bytes, ` +\n",
              "        `last modified: ${\n",
              "            file.lastModifiedDate ? file.lastModifiedDate.toLocaleDateString() :\n",
              "                                    'n/a'} - `));\n",
              "    const percent = span('0% done');\n",
              "    li.appendChild(percent);\n",
              "\n",
              "    outputElement.appendChild(li);\n",
              "\n",
              "    const fileDataPromise = new Promise((resolve) => {\n",
              "      const reader = new FileReader();\n",
              "      reader.onload = (e) => {\n",
              "        resolve(e.target.result);\n",
              "      };\n",
              "      reader.readAsArrayBuffer(file);\n",
              "    });\n",
              "    // Wait for the data to be ready.\n",
              "    let fileData = yield {\n",
              "      promise: fileDataPromise,\n",
              "      response: {\n",
              "        action: 'continue',\n",
              "      }\n",
              "    };\n",
              "\n",
              "    // Use a chunked sending to avoid message size limits. See b/62115660.\n",
              "    let position = 0;\n",
              "    do {\n",
              "      const length = Math.min(fileData.byteLength - position, MAX_PAYLOAD_SIZE);\n",
              "      const chunk = new Uint8Array(fileData, position, length);\n",
              "      position += length;\n",
              "\n",
              "      const base64 = btoa(String.fromCharCode.apply(null, chunk));\n",
              "      yield {\n",
              "        response: {\n",
              "          action: 'append',\n",
              "          file: file.name,\n",
              "          data: base64,\n",
              "        },\n",
              "      };\n",
              "\n",
              "      let percentDone = fileData.byteLength === 0 ?\n",
              "          100 :\n",
              "          Math.round((position / fileData.byteLength) * 100);\n",
              "      percent.textContent = `${percentDone}% done`;\n",
              "\n",
              "    } while (position < fileData.byteLength);\n",
              "  }\n",
              "\n",
              "  // All done.\n",
              "  yield {\n",
              "    response: {\n",
              "      action: 'complete',\n",
              "    }\n",
              "  };\n",
              "}\n",
              "\n",
              "scope.google = scope.google || {};\n",
              "scope.google.colab = scope.google.colab || {};\n",
              "scope.google.colab._files = {\n",
              "  _uploadFiles,\n",
              "  _uploadFilesContinue,\n",
              "};\n",
              "})(self);\n",
              "</script> "
            ]
          },
          "metadata": {}
        },
        {
          "output_type": "stream",
          "name": "stdout",
          "text": [
            "Saving utils.py to utils.py\n"
          ]
        },
        {
          "output_type": "execute_result",
          "data": {
            "text/plain": [
              "2747"
            ]
          },
          "metadata": {},
          "execution_count": 3
        }
      ],
      "source": [
        "from google.colab import files\n",
        "src = list(files.upload().values())[0]\n",
        "open('utilss.py','wb').write(src)\n",
        "#import utils"
      ]
    },
    {
      "cell_type": "code",
      "execution_count": null,
      "metadata": {
        "id": "LsZ_d2zYwX04"
      },
      "outputs": [],
      "source": []
    },
    {
      "cell_type": "code",
      "execution_count": null,
      "metadata": {
        "id": "TnkrTv6jwX05"
      },
      "outputs": [],
      "source": [
        "import utilss"
      ]
    },
    {
      "cell_type": "code",
      "execution_count": null,
      "metadata": {
        "colab": {
          "base_uri": "https://localhost:8080/",
          "height": 487
        },
        "id": "pl3znvIx_guZ",
        "outputId": "78121145-cecb-442f-af78-b0fa359587c1"
      },
      "outputs": [
        {
          "output_type": "display_data",
          "data": {
            "text/plain": [
              "<Figure size 640x480 with 1 Axes>"
            ],
            "image/png": "[encoded data removed]"
          },
          "metadata": {}
        }
      ],
      "source": [
        "import matplotlib.pyplot as plt\n",
        "from sklearn.datasets import make_circles\n",
        "import numpy as np\n",
        "\n",
        "# Generate a non-linearly separable dataset\n",
        "X, y = make_circles(n_samples=300, factor=0.5, noise=0.05, random_state=42)\n",
        "\n",
        "# Function to get consistent colors for plotting\n",
        "def get_colors(y):\n",
        "    # Map unique labels to colors\n",
        "    unique_labels = np.unique(y)\n",
        "    colors = plt.cm.rainbow(np.linspace(0, 1, len(unique_labels)))\n",
        "    color_map = {label: color for label, color in zip(unique_labels, colors)}\n",
        "    return [color_map[label] for label in y]\n",
        "\n",
        "cmap = get_colors(y)\n",
        "\n",
        "# Plotting\n",
        "plt.scatter(X[:, 0], X[:, 1], c=cmap)\n",
        "plt.title(\"Non-linearly Separable 2D Dataset\")\n",
        "plt.xlabel(\"Feature 1\")\n",
        "plt.ylabel(\"Feature 2\")\n",
        "plt.tight_layout()\n",
        "plt.show()"
      ]
    },
    {
      "cell_type": "markdown",
      "metadata": {
        "id": "_QvnmMs1_gua"
      },
      "source": [
        "Let's split it into a training and testing set"
      ]
    },
    {
      "cell_type": "code",
      "execution_count": null,
      "metadata": {
        "id": "IXG3HvEd_gua"
      },
      "outputs": [],
      "source": [
        "from sklearn.model_selection import train_test_split\n",
        "\n",
        "X_train, X_test, y_train, y_test = train_test_split(X, y, test_size=.2, random_state=10)"
      ]
    },
    {
      "cell_type": "markdown",
      "metadata": {
        "id": "nScv-AKn_gua"
      },
      "source": [
        "We will build a Perceptron using Keras as an example-- Recall that a perceptron is a 0 hidden layer neural network with a single output unit. In Keras terms, it's a single Dense layer with 1 unit.\n",
        "\n",
        "We will build this perceptron with a sigmoidal output (so it outputs a probability of class 1) and the binary_crossentropy loss function (which corresponds to sigmoid)."
      ]
    },
    {
      "cell_type": "code",
      "execution_count": null,
      "metadata": {
        "id": "CHaYpfBx_gua"
      },
      "outputs": [],
      "source": [
        "# Relevant imports\n",
        "from tensorflow.keras.models import Sequential\n",
        "# Keras refers to an architecture in which the outputs of\n",
        "# one layer are the inputs to the next as \"Sequential\"\n",
        "from tensorflow.keras.layers import Dense\n",
        "# Everything we've talked about in class so far is referred to in\n",
        "# Keras as a \"dense\" connection between layers, where every input\n",
        "# unit connects to a unit in the next layer\n",
        "from tensorflow.keras.optimizers.legacy import SGD\n",
        "# SGD is the learning algorithm we will use"
      ]
    },
    {
      "cell_type": "markdown",
      "metadata": {
        "id": "ZzB0NzcT_gua"
      },
      "source": [
        "# Exercise 1:"
      ]
    },
    {
      "cell_type": "markdown",
      "metadata": {
        "id": "5LKr9HK7hteo"
      },
      "source": [
        "Q1. Let's first create neural network with 1 layer\n",
        "\n",
        "To add a layer to the architecture, you would simply use .add(LAYER).\n",
        "\n",
        "Each \"input_dim\" of each layer should be the number units in the previous layer (in this case the input), and the number of \"units\" should be the number of outputs of the layer (in this case it will be 1)."
      ]
    },
    {
      "cell_type": "code",
      "execution_count": null,
      "metadata": {
        "id": "kYqYNFrP_gua"
      },
      "outputs": [],
      "source": [
        "### YOUR CODE HERE ###\n",
        "perceptron = Sequential()\n",
        "perceptron.add(Dense(units=1,input_dim=2,activation='sigmoid'))\n"
      ]
    },
    {
      "cell_type": "markdown",
      "metadata": {
        "id": "cSX2bBrC_gua"
      },
      "source": [
        "Now we specify how to optimize the neural network. We mentioned gradient descent and stochastic gradient descent in class. Let's use the latter here and compile the model. We also specify the loss function as \"binary_crossentropy\"."
      ]
    },
    {
      "cell_type": "code",
      "execution_count": null,
      "metadata": {
        "id": "xP3evo0F_gua"
      },
      "outputs": [],
      "source": [
        "sgd = SGD(learning_rate=0.01, decay=1e-7, momentum=.9)  # Stochastic gradient descent\n",
        "perceptron.compile(loss=\"binary_crossentropy\", optimizer=sgd)\n"
      ]
    },
    {
      "cell_type": "markdown",
      "metadata": {
        "id": "0C2FWqEDY2ZK"
      },
      "source": [
        "Q2. Now we train the built perceptron with appropriate epochs and batch_size."
      ]
    },
    {
      "cell_type": "code",
      "execution_count": null,
      "metadata": {
        "colab": {
          "base_uri": "https://localhost:8080/"
        },
        "id": "fYKvumEB_gua",
        "outputId": "98e2ccef-6d8c-4e4a-b0e2-6296e1ad16c7",
        "scrolled": true
      },
      "outputs": [
        {
          "output_type": "stream",
          "name": "stdout",
          "text": [
            "Epoch 1/200\n",
            "8/8 [==============================] - 0s 3ms/step - loss: 0.7212\n",
            "Epoch 2/200\n",
            "8/8 [==============================] - 0s 1ms/step - loss: 0.7194\n",
            "Epoch 3/200\n",
            "8/8 [==============================] - 0s 1ms/step - loss: 0.7167\n",
            "Epoch 4/200\n",
            "8/8 [==============================] - 0s 1ms/step - loss: 0.7141\n",
            "Epoch 5/200\n",
            "8/8 [==============================] - 0s 1ms/step - loss: 0.7120\n",
            "Epoch 6/200\n",
            "8/8 [==============================] - 0s 2ms/step - loss: 0.7094\n",
            "Epoch 7/200\n",
            "8/8 [==============================] - 0s 2ms/step - loss: 0.7074\n",
            "Epoch 8/200\n",
            "8/8 [==============================] - 0s 1ms/step - loss: 0.7051\n",
            "Epoch 9/200\n",
            "8/8 [==============================] - 0s 1ms/step - loss: 0.7037\n",
            "Epoch 10/200\n",
            "8/8 [==============================] - 0s 2ms/step - loss: 0.7022\n",
            "Epoch 11/200\n",
            "8/8 [==============================] - 0s 1ms/step - loss: 0.7008\n",
            "Epoch 12/200\n",
            "8/8 [==============================] - 0s 1ms/step - loss: 0.7000\n",
            "Epoch 13/200\n",
            "8/8 [==============================] - 0s 2ms/step - loss: 0.6986\n",
            "Epoch 14/200\n",
            "8/8 [==============================] - 0s 1ms/step - loss: 0.6978\n",
            "Epoch 15/200\n",
            "8/8 [==============================] - 0s 1ms/step - loss: 0.6973\n",
            "Epoch 16/200\n",
            "8/8 [==============================] - 0s 2ms/step - loss: 0.6968\n",
            "Epoch 17/200\n",
            "8/8 [==============================] - 0s 1ms/step - loss: 0.6957\n",
            "Epoch 18/200\n",
            "8/8 [==============================] - 0s 1ms/step - loss: 0.6951\n",
            "Epoch 19/200\n",
            "8/8 [==============================] - 0s 2ms/step - loss: 0.6949\n",
            "Epoch 20/200\n",
            "8/8 [==============================] - 0s 1ms/step - loss: 0.6941\n",
            "Epoch 21/200\n",
            "8/8 [==============================] - 0s 1ms/step - loss: 0.6939\n",
            "Epoch 22/200\n",
            "8/8 [==============================] - 0s 1ms/step - loss: 0.6935\n",
            "Epoch 23/200\n",
            "8/8 [==============================] - 0s 1ms/step - loss: 0.6931\n",
            "Epoch 24/200\n",
            "8/8 [==============================] - 0s 2ms/step - loss: 0.6929\n",
            "Epoch 25/200\n",
            "8/8 [==============================] - 0s 1ms/step - loss: 0.6928\n",
            "Epoch 26/200\n",
            "8/8 [==============================] - 0s 1ms/step - loss: 0.6923\n",
            "Epoch 27/200\n",
            "8/8 [==============================] - 0s 1ms/step - loss: 0.6925\n",
            "Epoch 28/200\n",
            "8/8 [==============================] - 0s 2ms/step - loss: 0.6920\n",
            "Epoch 29/200\n",
            "8/8 [==============================] - 0s 1ms/step - loss: 0.6919\n",
            "Epoch 30/200\n",
            "8/8 [==============================] - 0s 1ms/step - loss: 0.6918\n",
            "Epoch 31/200\n",
            "8/8 [==============================] - 0s 1ms/step - loss: 0.6917\n",
            "Epoch 32/200\n",
            "8/8 [==============================] - 0s 1ms/step - loss: 0.6917\n",
            "Epoch 33/200\n",
            "8/8 [==============================] - 0s 1ms/step - loss: 0.6916\n",
            "Epoch 34/200\n",
            "8/8 [==============================] - 0s 1ms/step - loss: 0.6914\n",
            "Epoch 35/200\n",
            "8/8 [==============================] - 0s 1ms/step - loss: 0.6913\n",
            "Epoch 36/200\n",
            "8/8 [==============================] - 0s 1ms/step - loss: 0.6915\n",
            "Epoch 37/200\n",
            "8/8 [==============================] - 0s 2ms/step - loss: 0.6913\n",
            "Epoch 38/200\n",
            "8/8 [==============================] - 0s 1ms/step - loss: 0.6913\n",
            "Epoch 39/200\n",
            "8/8 [==============================] - 0s 1ms/step - loss: 0.6912\n",
            "Epoch 40/200\n",
            "8/8 [==============================] - 0s 2ms/step - loss: 0.6912\n",
            "Epoch 41/200\n",
            "8/8 [==============================] - 0s 1ms/step - loss: 0.6913\n",
            "Epoch 42/200\n",
            "8/8 [==============================] - 0s 1ms/step - loss: 0.6911\n",
            "Epoch 43/200\n",
            "8/8 [==============================] - 0s 2ms/step - loss: 0.6912\n",
            "Epoch 44/200\n",
            "8/8 [==============================] - 0s 1ms/step - loss: 0.6911\n",
            "Epoch 45/200\n",
            "8/8 [==============================] - 0s 1ms/step - loss: 0.6911\n",
            "Epoch 46/200\n",
            "8/8 [==============================] - 0s 1ms/step - loss: 0.6910\n",
            "Epoch 47/200\n",
            "8/8 [==============================] - 0s 1ms/step - loss: 0.6911\n",
            "Epoch 48/200\n",
            "8/8 [==============================] - 0s 1ms/step - loss: 0.6910\n",
            "Epoch 49/200\n",
            "8/8 [==============================] - 0s 1ms/step - loss: 0.6911\n",
            "Epoch 50/200\n",
            "8/8 [==============================] - 0s 2ms/step - loss: 0.6910\n",
            "Epoch 51/200\n",
            "8/8 [==============================] - 0s 1ms/step - loss: 0.6911\n",
            "Epoch 52/200\n",
            "8/8 [==============================] - 0s 1ms/step - loss: 0.6910\n",
            "Epoch 53/200\n",
            "8/8 [==============================] - 0s 2ms/step - loss: 0.6910\n",
            "Epoch 54/200\n",
            "8/8 [==============================] - 0s 1ms/step - loss: 0.6910\n",
            "Epoch 55/200\n",
            "8/8 [==============================] - 0s 1ms/step - loss: 0.6910\n",
            "Epoch 56/200\n",
            "8/8 [==============================] - 0s 2ms/step - loss: 0.6910\n",
            "Epoch 57/200\n",
            "8/8 [==============================] - 0s 1ms/step - loss: 0.6910\n",
            "Epoch 58/200\n",
            "8/8 [==============================] - 0s 1ms/step - loss: 0.6910\n",
            "Epoch 59/200\n",
            "8/8 [==============================] - 0s 1ms/step - loss: 0.6909\n",
            "Epoch 60/200\n",
            "8/8 [==============================] - 0s 2ms/step - loss: 0.6909\n",
            "Epoch 61/200\n",
            "8/8 [==============================] - 0s 1ms/step - loss: 0.6911\n",
            "Epoch 62/200\n",
            "8/8 [==============================] - 0s 2ms/step - loss: 0.6911\n",
            "Epoch 63/200\n",
            "8/8 [==============================] - 0s 1ms/step - loss: 0.6911\n",
            "Epoch 64/200\n",
            "8/8 [==============================] - 0s 1ms/step - loss: 0.6911\n",
            "Epoch 65/200\n",
            "8/8 [==============================] - 0s 1ms/step - loss: 0.6911\n",
            "Epoch 66/200\n",
            "8/8 [==============================] - 0s 2ms/step - loss: 0.6910\n",
            "Epoch 67/200\n",
            "8/8 [==============================] - 0s 2ms/step - loss: 0.6910\n",
            "Epoch 68/200\n",
            "8/8 [==============================] - 0s 1ms/step - loss: 0.6910\n",
            "Epoch 69/200\n",
            "8/8 [==============================] - 0s 1ms/step - loss: 0.6910\n",
            "Epoch 70/200\n",
            "8/8 [==============================] - 0s 1ms/step - loss: 0.6910\n",
            "Epoch 71/200\n",
            "8/8 [==============================] - 0s 1ms/step - loss: 0.6910\n",
            "Epoch 72/200\n",
            "8/8 [==============================] - 0s 2ms/step - loss: 0.6910\n",
            "Epoch 73/200\n",
            "8/8 [==============================] - 0s 2ms/step - loss: 0.6910\n",
            "Epoch 74/200\n",
            "8/8 [==============================] - 0s 1ms/step - loss: 0.6909\n",
            "Epoch 75/200\n",
            "8/8 [==============================] - 0s 1ms/step - loss: 0.6909\n",
            "Epoch 76/200\n",
            "8/8 [==============================] - 0s 1ms/step - loss: 0.6911\n",
            "Epoch 77/200\n",
            "8/8 [==============================] - 0s 1ms/step - loss: 0.6910\n",
            "Epoch 78/200\n",
            "8/8 [==============================] - 0s 1ms/step - loss: 0.6909\n",
            "Epoch 79/200\n",
            "8/8 [==============================] - 0s 2ms/step - loss: 0.6910\n",
            "Epoch 80/200\n",
            "8/8 [==============================] - 0s 1ms/step - loss: 0.6910\n",
            "Epoch 81/200\n",
            "8/8 [==============================] - 0s 1ms/step - loss: 0.6911\n",
            "Epoch 82/200\n",
            "8/8 [==============================] - 0s 1ms/step - loss: 0.6909\n",
            "Epoch 83/200\n",
            "8/8 [==============================] - 0s 2ms/step - loss: 0.6910\n",
            "Epoch 84/200\n",
            "8/8 [==============================] - 0s 1ms/step - loss: 0.6909\n",
            "Epoch 85/200\n",
            "8/8 [==============================] - 0s 2ms/step - loss: 0.6910\n",
            "Epoch 86/200\n",
            "8/8 [==============================] - 0s 1ms/step - loss: 0.6910\n",
            "Epoch 87/200\n",
            "8/8 [==============================] - 0s 1ms/step - loss: 0.6912\n",
            "Epoch 88/200\n",
            "8/8 [==============================] - 0s 1ms/step - loss: 0.6910\n",
            "Epoch 89/200\n",
            "8/8 [==============================] - 0s 1ms/step - loss: 0.6911\n",
            "Epoch 90/200\n",
            "8/8 [==============================] - 0s 1ms/step - loss: 0.6909\n",
            "Epoch 91/200\n",
            "8/8 [==============================] - 0s 1ms/step - loss: 0.6909\n",
            "Epoch 92/200\n",
            "8/8 [==============================] - 0s 1ms/step - loss: 0.6910\n",
            "Epoch 93/200\n",
            "8/8 [==============================] - 0s 1ms/step - loss: 0.6910\n",
            "Epoch 94/200\n",
            "8/8 [==============================] - 0s 1ms/step - loss: 0.6910\n",
            "Epoch 95/200\n",
            "8/8 [==============================] - 0s 1ms/step - loss: 0.6910\n",
            "Epoch 96/200\n",
            "8/8 [==============================] - 0s 1ms/step - loss: 0.6910\n",
            "Epoch 97/200\n",
            "8/8 [==============================] - 0s 1ms/step - loss: 0.6910\n",
            "Epoch 98/200\n",
            "8/8 [==============================] - 0s 1ms/step - loss: 0.6910\n",
            "Epoch 99/200\n",
            "8/8 [==============================] - 0s 2ms/step - loss: 0.6911\n",
            "Epoch 100/200\n",
            "8/8 [==============================] - 0s 1ms/step - loss: 0.6909\n",
            "Epoch 101/200\n",
            "8/8 [==============================] - 0s 1ms/step - loss: 0.6909\n",
            "Epoch 102/200\n",
            "8/8 [==============================] - 0s 1ms/step - loss: 0.6909\n",
            "Epoch 103/200\n",
            "8/8 [==============================] - 0s 1ms/step - loss: 0.6910\n",
            "Epoch 104/200\n",
            "8/8 [==============================] - 0s 1ms/step - loss: 0.6909\n",
            "Epoch 105/200\n",
            "8/8 [==============================] - 0s 1ms/step - loss: 0.6909\n",
            "Epoch 106/200\n",
            "8/8 [==============================] - 0s 1ms/step - loss: 0.6911\n",
            "Epoch 107/200\n",
            "8/8 [==============================] - 0s 1ms/step - loss: 0.6909\n",
            "Epoch 108/200\n",
            "8/8 [==============================] - 0s 2ms/step - loss: 0.6909\n",
            "Epoch 109/200\n",
            "8/8 [==============================] - 0s 2ms/step - loss: 0.6910\n",
            "Epoch 110/200\n",
            "8/8 [==============================] - 0s 1ms/step - loss: 0.6910\n",
            "Epoch 111/200\n",
            "8/8 [==============================] - 0s 2ms/step - loss: 0.6909\n",
            "Epoch 112/200\n",
            "8/8 [==============================] - 0s 2ms/step - loss: 0.6910\n",
            "Epoch 113/200\n",
            "8/8 [==============================] - 0s 1ms/step - loss: 0.6910\n",
            "Epoch 114/200\n",
            "8/8 [==============================] - 0s 2ms/step - loss: 0.6911\n",
            "Epoch 115/200\n",
            "8/8 [==============================] - 0s 1ms/step - loss: 0.6910\n",
            "Epoch 116/200\n",
            "8/8 [==============================] - 0s 2ms/step - loss: 0.6909\n",
            "Epoch 117/200\n",
            "8/8 [==============================] - 0s 2ms/step - loss: 0.6910\n",
            "Epoch 118/200\n",
            "8/8 [==============================] - 0s 1ms/step - loss: 0.6911\n",
            "Epoch 119/200\n",
            "8/8 [==============================] - 0s 2ms/step - loss: 0.6911\n",
            "Epoch 120/200\n",
            "8/8 [==============================] - 0s 1ms/step - loss: 0.6911\n",
            "Epoch 121/200\n",
            "8/8 [==============================] - 0s 1ms/step - loss: 0.6911\n",
            "Epoch 122/200\n",
            "8/8 [==============================] - 0s 1ms/step - loss: 0.6909\n",
            "Epoch 123/200\n",
            "8/8 [==============================] - 0s 1ms/step - loss: 0.6909\n",
            "Epoch 124/200\n",
            "8/8 [==============================] - 0s 1ms/step - loss: 0.6909\n",
            "Epoch 125/200\n",
            "8/8 [==============================] - 0s 2ms/step - loss: 0.6909\n",
            "Epoch 126/200\n",
            "8/8 [==============================] - 0s 2ms/step - loss: 0.6909\n",
            "Epoch 127/200\n",
            "8/8 [==============================] - 0s 2ms/step - loss: 0.6909\n",
            "Epoch 128/200\n",
            "8/8 [==============================] - 0s 2ms/step - loss: 0.6909\n",
            "Epoch 129/200\n",
            "8/8 [==============================] - 0s 2ms/step - loss: 0.6909\n",
            "Epoch 130/200\n",
            "8/8 [==============================] - 0s 2ms/step - loss: 0.6911\n",
            "Epoch 131/200\n",
            "8/8 [==============================] - 0s 2ms/step - loss: 0.6910\n",
            "Epoch 132/200\n",
            "8/8 [==============================] - 0s 2ms/step - loss: 0.6909\n",
            "Epoch 133/200\n",
            "8/8 [==============================] - 0s 1ms/step - loss: 0.6909\n",
            "Epoch 134/200\n",
            "8/8 [==============================] - 0s 1ms/step - loss: 0.6910\n",
            "Epoch 135/200\n",
            "8/8 [==============================] - 0s 1ms/step - loss: 0.6910\n",
            "Epoch 136/200\n",
            "8/8 [==============================] - 0s 2ms/step - loss: 0.6910\n",
            "Epoch 137/200\n",
            "8/8 [==============================] - 0s 1ms/step - loss: 0.6909\n",
            "Epoch 138/200\n",
            "8/8 [==============================] - 0s 1ms/step - loss: 0.6910\n",
            "Epoch 139/200\n",
            "8/8 [==============================] - 0s 1ms/step - loss: 0.6908\n",
            "Epoch 140/200\n",
            "8/8 [==============================] - 0s 1ms/step - loss: 0.6910\n",
            "Epoch 141/200\n",
            "8/8 [==============================] - 0s 1ms/step - loss: 0.6909\n",
            "Epoch 142/200\n",
            "8/8 [==============================] - 0s 1ms/step - loss: 0.6910\n",
            "Epoch 143/200\n",
            "8/8 [==============================] - 0s 2ms/step - loss: 0.6910\n",
            "Epoch 144/200\n",
            "8/8 [==============================] - 0s 1ms/step - loss: 0.6909\n",
            "Epoch 145/200\n",
            "8/8 [==============================] - 0s 1ms/step - loss: 0.6910\n",
            "Epoch 146/200\n",
            "8/8 [==============================] - 0s 1ms/step - loss: 0.6910\n",
            "Epoch 147/200\n",
            "8/8 [==============================] - 0s 2ms/step - loss: 0.6909\n",
            "Epoch 148/200\n",
            "8/8 [==============================] - 0s 2ms/step - loss: 0.6910\n",
            "Epoch 149/200\n",
            "8/8 [==============================] - 0s 2ms/step - loss: 0.6911\n",
            "Epoch 150/200\n",
            "8/8 [==============================] - 0s 1ms/step - loss: 0.6910\n",
            "Epoch 151/200\n",
            "8/8 [==============================] - 0s 1ms/step - loss: 0.6910\n",
            "Epoch 152/200\n",
            "8/8 [==============================] - 0s 2ms/step - loss: 0.6912\n",
            "Epoch 153/200\n",
            "8/8 [==============================] - 0s 2ms/step - loss: 0.6909\n",
            "Epoch 154/200\n",
            "8/8 [==============================] - 0s 1ms/step - loss: 0.6910\n",
            "Epoch 155/200\n",
            "8/8 [==============================] - 0s 1ms/step - loss: 0.6910\n",
            "Epoch 156/200\n",
            "8/8 [==============================] - 0s 2ms/step - loss: 0.6910\n",
            "Epoch 157/200\n",
            "8/8 [==============================] - 0s 1ms/step - loss: 0.6909\n",
            "Epoch 158/200\n",
            "8/8 [==============================] - 0s 1ms/step - loss: 0.6909\n",
            "Epoch 159/200\n",
            "8/8 [==============================] - 0s 2ms/step - loss: 0.6909\n",
            "Epoch 160/200\n",
            "8/8 [==============================] - 0s 2ms/step - loss: 0.6910\n",
            "Epoch 161/200\n",
            "8/8 [==============================] - 0s 1ms/step - loss: 0.6910\n",
            "Epoch 162/200\n",
            "8/8 [==============================] - 0s 1ms/step - loss: 0.6909\n",
            "Epoch 163/200\n",
            "8/8 [==============================] - 0s 1ms/step - loss: 0.6909\n",
            "Epoch 164/200\n",
            "8/8 [==============================] - 0s 1ms/step - loss: 0.6908\n",
            "Epoch 165/200\n",
            "8/8 [==============================] - 0s 1ms/step - loss: 0.6913\n",
            "Epoch 166/200\n",
            "8/8 [==============================] - 0s 1ms/step - loss: 0.6911\n",
            "Epoch 167/200\n",
            "8/8 [==============================] - 0s 1ms/step - loss: 0.6910\n",
            "Epoch 168/200\n",
            "8/8 [==============================] - 0s 1ms/step - loss: 0.6910\n",
            "Epoch 169/200\n",
            "8/8 [==============================] - 0s 1ms/step - loss: 0.6910\n",
            "Epoch 170/200\n",
            "8/8 [==============================] - 0s 1ms/step - loss: 0.6909\n",
            "Epoch 171/200\n",
            "8/8 [==============================] - 0s 2ms/step - loss: 0.6909\n",
            "Epoch 172/200\n",
            "8/8 [==============================] - 0s 2ms/step - loss: 0.6910\n",
            "Epoch 173/200\n",
            "8/8 [==============================] - 0s 1ms/step - loss: 0.6910\n",
            "Epoch 174/200\n",
            "8/8 [==============================] - 0s 1ms/step - loss: 0.6909\n",
            "Epoch 175/200\n",
            "8/8 [==============================] - 0s 1ms/step - loss: 0.6909\n",
            "Epoch 176/200\n",
            "8/8 [==============================] - 0s 1ms/step - loss: 0.6909\n",
            "Epoch 177/200\n",
            "8/8 [==============================] - 0s 1ms/step - loss: 0.6910\n",
            "Epoch 178/200\n",
            "8/8 [==============================] - 0s 1ms/step - loss: 0.6909\n",
            "Epoch 179/200\n",
            "8/8 [==============================] - 0s 2ms/step - loss: 0.6910\n",
            "Epoch 180/200\n",
            "8/8 [==============================] - 0s 1ms/step - loss: 0.6910\n",
            "Epoch 181/200\n",
            "8/8 [==============================] - 0s 2ms/step - loss: 0.6911\n",
            "Epoch 182/200\n",
            "8/8 [==============================] - 0s 2ms/step - loss: 0.6910\n",
            "Epoch 183/200\n",
            "8/8 [==============================] - 0s 2ms/step - loss: 0.6910\n",
            "Epoch 184/200\n",
            "8/8 [==============================] - 0s 2ms/step - loss: 0.6910\n",
            "Epoch 185/200\n",
            "8/8 [==============================] - 0s 2ms/step - loss: 0.6910\n",
            "Epoch 186/200\n",
            "8/8 [==============================] - 0s 1ms/step - loss: 0.6910\n",
            "Epoch 187/200\n",
            "8/8 [==============================] - 0s 1ms/step - loss: 0.6909\n",
            "Epoch 188/200\n",
            "8/8 [==============================] - 0s 2ms/step - loss: 0.6910\n",
            "Epoch 189/200\n",
            "8/8 [==============================] - 0s 1ms/step - loss: 0.6909\n",
            "Epoch 190/200\n",
            "8/8 [==============================] - 0s 1ms/step - loss: 0.6910\n",
            "Epoch 191/200\n",
            "8/8 [==============================] - 0s 1ms/step - loss: 0.6909\n",
            "Epoch 192/200\n",
            "8/8 [==============================] - 0s 2ms/step - loss: 0.6910\n",
            "Epoch 193/200\n",
            "8/8 [==============================] - 0s 2ms/step - loss: 0.6909\n",
            "Epoch 194/200\n",
            "8/8 [==============================] - 0s 1ms/step - loss: 0.6909\n",
            "Epoch 195/200\n",
            "8/8 [==============================] - 0s 1ms/step - loss: 0.6910\n",
            "Epoch 196/200\n",
            "8/8 [==============================] - 0s 2ms/step - loss: 0.6909\n",
            "Epoch 197/200\n",
            "8/8 [==============================] - 0s 1ms/step - loss: 0.6909\n",
            "Epoch 198/200\n",
            "8/8 [==============================] - 0s 2ms/step - loss: 0.6909\n",
            "Epoch 199/200\n",
            "8/8 [==============================] - 0s 1ms/step - loss: 0.6909\n",
            "Epoch 200/200\n",
            "8/8 [==============================] - 0s 2ms/step - loss: 0.6910\n"
          ]
        },
        {
          "output_type": "execute_result",
          "data": {
            "text/plain": [
              "<keras.src.callbacks.History at 0x7d25c8e8b6d0>"
            ]
          },
          "metadata": {},
          "execution_count": 10
        }
      ],
      "source": [
        "### YOUR CODE HERE ###\n",
        "perceptron.fit(X_train,y_train,epochs=200,batch_size=32)"
      ]
    },
    {
      "cell_type": "markdown",
      "metadata": {
        "id": "2ThCJDBtc2I5"
      },
      "source": [
        "Q3. Compute accuracy by implementing your own function."
      ]
    },
    {
      "cell_type": "code",
      "execution_count": null,
      "metadata": {
        "colab": {
          "base_uri": "https://localhost:8080/"
        },
        "id": "-80e1aP7dhDy",
        "outputId": "af021a1b-af73-44a9-ec14-87b2cd3139f2"
      },
      "outputs": [
        {
          "output_type": "stream",
          "name": "stdout",
          "text": [
            "2/2 [==============================] - 0s 4ms/step\n"
          ]
        }
      ],
      "source": [
        "y_preds = perceptron.predict(X_test)"
      ]
    },
    {
      "cell_type": "code",
      "execution_count": null,
      "metadata": {
        "id": "cmCveopbdgGT"
      },
      "outputs": [],
      "source": [
        "### Build your own function to calculate accuracy###\n",
        "def accuracy(y, y_preds):\n",
        "    y_pred_classes = (y_preds > 0.5).astype(\"int32\")\n",
        "    accuracy = np.mean(y == y_pred_classes)\n",
        "    return accuracy"
      ]
    },
    {
      "cell_type": "code",
      "execution_count": null,
      "metadata": {
        "colab": {
          "base_uri": "https://localhost:8080/"
        },
        "id": "wPvMXn8sfBFe",
        "outputId": "e8f074c2-c226-4d5c-e1cc-8adfd9096d18"
      },
      "outputs": [
        {
          "output_type": "stream",
          "name": "stdout",
          "text": [
            "The accuracy is: 0.5\n"
          ]
        }
      ],
      "source": [
        "print(f'The accuracy is: {accuracy(y_test, y_preds)}')"
      ]
    },
    {
      "cell_type": "code",
      "execution_count": null,
      "metadata": {
        "colab": {
          "base_uri": "https://localhost:8080/",
          "height": 1000
        },
        "id": "1L_NWfFz_gub",
        "outputId": "793bff1f-5420-4e61-d9e0-e3a067be405c"
      },
      "outputs": [
        {
          "output_type": "stream",
          "name": "stdout",
          "text": [
            "61/61 [==============================] - 0s 834us/step\n",
            "61/61 [==============================] - 0s 819us/step\n",
            "57/57 [==============================] - 0s 1ms/step\n",
            "57/57 [==============================] - 0s 802us/step\n"
          ]
        },
        {
          "output_type": "execute_result",
          "data": {
            "text/plain": [
              "Text(22.347222222222214, 0.5, 'Test')"
            ]
          },
          "metadata": {},
          "execution_count": 15
        },
        {
          "output_type": "display_data",
          "data": {
            "text/plain": [
              "<Figure size 640x480 with 1 Axes>"
            ],
            "image/png": "[encoded data removed]"
          },
          "metadata": {}
        },
        {
          "output_type": "display_data",
          "data": {
            "text/plain": [
              "<Figure size 640x480 with 1 Axes>"
            ],
            "image/png": "[encoded data removed]"
          },
          "metadata": {}
        }
      ],
      "source": [
        "from utilss import visualize_2d_classification\n",
        "f, ax = visualize_2d_classification(perceptron, X_train, y_train)\n",
        "ax.set_ylabel(\"Train\")\n",
        "f, ax = visualize_2d_classification(perceptron, X_test, y_test)\n",
        "ax.set_ylabel(\"Test\")"
      ]
    },
    {
      "cell_type": "markdown",
      "metadata": {
        "id": "we3xmMhp_gub"
      },
      "source": [
        "Recall that a perceptron is nothing more than a linear classifier, which is trying to separate our data using a line. It turns out that the introduction of hidden layers allows us to draw \"lines\" in higher dimensions, which, when mapped back into our original 2d space,  may look nonlinear."
      ]
    },
    {
      "cell_type": "markdown",
      "metadata": {
        "id": "0x5MFXii_gub"
      },
      "source": [
        "# Exercise 2:\n",
        "\n",
        "For this exercise, use Keras to create a 2-layer neural network by completing build_one_output_model(). We will then add one hidden layer of 2 units and an output layer of 1 unit (corresponding to our classes- sometimes referred to as a \"readout\" layer).\n",
        "\n",
        "The model has already been initialized and the optimizer and loss function have been defined for you.\n",
        "\n",
        "For your intermediate layers, use \"relu\" as the activation function, and \"sigmoid\" (as the demo above) for your output layer."
      ]
    },
    {
      "cell_type": "code",
      "execution_count": null,
      "metadata": {
        "id": "bs9rWhZg_gub"
      },
      "outputs": [],
      "source": [
        "# Keras uses the Sequential model for linear stacking of layers.\n",
        "# That is, creating a neural network is as easy as (later)\n",
        "# defining the layers!\n",
        "from keras.models import Sequential\n",
        "# Everything we've talked about in class so far is referred to in\n",
        "# Keras as a \"dense\" connection between layers, where every input\n",
        "# unit connects to a unit in the next layer\n",
        "\n",
        "from keras.layers import Dense\n",
        "# SGD is the learning algorithm we will use\n",
        "from tensorflow.keras.optimizers.legacy import SGD\n",
        "from keras.layers import Dense, Dropout\n",
        "from sklearn.linear_model import LogisticRegression\n",
        "from sklearn.ensemble import RandomForestClassifier\n",
        "from sklearn.model_selection import GridSearchCV"
      ]
    },
    {
      "cell_type": "markdown",
      "metadata": {
        "id": "PmWa5rLoTtWk"
      },
      "source": [
        "Q1. Create a 2 layer neural network by completing build_one_output_model()."
      ]
    },
    {
      "cell_type": "code",
      "execution_count": null,
      "metadata": {
        "id": "KtqwyMuB_gub"
      },
      "outputs": [],
      "source": [
        "def build_one_output_model():\n",
        "    model = Sequential()\n",
        "\n",
        "    ### YOUR CODE HERE ###\n",
        "    # Add a input hidden layer with 2 units\n",
        "    model.add(Dense(units=2,input_dim=2,activation='relu'))\n",
        "\n",
        "    # Add a final output layer with 1 unit\n",
        "\n",
        "    model.add(Dense(units=1,activation='sigmoid'))\n",
        "\n",
        "    # Specify SGD optimizer with appropriate values in learning_rate, decay and momentum.\n",
        "    sgd = SGD(learning_rate=0.02,decay=2e-7,momentum=0.95)\n",
        "\n",
        "    # compile the model with \"binary_crossentropy\" loss and SGD optimizer.\n",
        "\n",
        "    model.compile(loss='binary_crossentropy',optimizer=sgd)\n",
        "    return model\n"
      ]
    },
    {
      "cell_type": "code",
      "execution_count": null,
      "metadata": {
        "id": "brjdknPHCkrI"
      },
      "outputs": [],
      "source": [
        "model1 = build_one_output_model()"
      ]
    },
    {
      "cell_type": "markdown",
      "metadata": {
        "id": "N3FpfAjlX6YU"
      },
      "source": [
        "Q2. Fit your model by training set with appropriate epochs and batch_size."
      ]
    },
    {
      "cell_type": "code",
      "execution_count": null,
      "metadata": {
        "colab": {
          "base_uri": "https://localhost:8080/"
        },
        "id": "p2opOllvX6YU",
        "outputId": "cd3ecf88-6833-4a31-d360-c0e10fd3a650"
      },
      "outputs": [
        {
          "output_type": "stream",
          "name": "stdout",
          "text": [
            "Epoch 1/100\n",
            "8/8 [==============================] - 0s 2ms/step - loss: 0.6884\n",
            "Epoch 2/100\n",
            "8/8 [==============================] - 0s 2ms/step - loss: 0.6835\n",
            "Epoch 3/100\n",
            "8/8 [==============================] - 0s 1ms/step - loss: 0.6778\n",
            "Epoch 4/100\n",
            "8/8 [==============================] - 0s 1ms/step - loss: 0.6700\n",
            "Epoch 5/100\n",
            "8/8 [==============================] - 0s 2ms/step - loss: 0.6637\n",
            "Epoch 6/100\n",
            "8/8 [==============================] - 0s 1ms/step - loss: 0.6575\n",
            "Epoch 7/100\n",
            "8/8 [==============================] - 0s 1ms/step - loss: 0.6534\n",
            "Epoch 8/100\n",
            "8/8 [==============================] - 0s 1ms/step - loss: 0.6486\n",
            "Epoch 9/100\n",
            "8/8 [==============================] - 0s 2ms/step - loss: 0.6447\n",
            "Epoch 10/100\n",
            "8/8 [==============================] - 0s 1ms/step - loss: 0.6412\n",
            "Epoch 11/100\n",
            "8/8 [==============================] - 0s 1ms/step - loss: 0.6375\n",
            "Epoch 12/100\n",
            "8/8 [==============================] - 0s 2ms/step - loss: 0.6340\n",
            "Epoch 13/100\n",
            "8/8 [==============================] - 0s 2ms/step - loss: 0.6311\n",
            "Epoch 14/100\n",
            "8/8 [==============================] - 0s 2ms/step - loss: 0.6284\n",
            "Epoch 15/100\n",
            "8/8 [==============================] - 0s 1ms/step - loss: 0.6261\n",
            "Epoch 16/100\n",
            "8/8 [==============================] - 0s 1ms/step - loss: 0.6239\n",
            "Epoch 17/100\n",
            "8/8 [==============================] - 0s 1ms/step - loss: 0.6198\n",
            "Epoch 18/100\n",
            "8/8 [==============================] - 0s 2ms/step - loss: 0.6166\n",
            "Epoch 19/100\n",
            "8/8 [==============================] - 0s 1ms/step - loss: 0.6143\n",
            "Epoch 20/100\n",
            "8/8 [==============================] - 0s 1ms/step - loss: 0.6114\n",
            "Epoch 21/100\n",
            "8/8 [==============================] - 0s 1ms/step - loss: 0.6082\n",
            "Epoch 22/100\n",
            "8/8 [==============================] - 0s 1ms/step - loss: 0.6051\n",
            "Epoch 23/100\n",
            "8/8 [==============================] - 0s 1ms/step - loss: 0.6016\n",
            "Epoch 24/100\n",
            "8/8 [==============================] - 0s 1ms/step - loss: 0.5977\n",
            "Epoch 25/100\n",
            "8/8 [==============================] - 0s 1ms/step - loss: 0.5939\n",
            "Epoch 26/100\n",
            "8/8 [==============================] - 0s 1ms/step - loss: 0.5890\n",
            "Epoch 27/100\n",
            "8/8 [==============================] - 0s 1ms/step - loss: 0.5855\n",
            "Epoch 28/100\n",
            "8/8 [==============================] - 0s 1ms/step - loss: 0.5809\n",
            "Epoch 29/100\n",
            "8/8 [==============================] - 0s 1ms/step - loss: 0.5765\n",
            "Epoch 30/100\n",
            "8/8 [==============================] - 0s 1ms/step - loss: 0.5710\n",
            "Epoch 31/100\n",
            "8/8 [==============================] - 0s 2ms/step - loss: 0.5647\n",
            "Epoch 32/100\n",
            "8/8 [==============================] - 0s 1ms/step - loss: 0.5587\n",
            "Epoch 33/100\n",
            "8/8 [==============================] - 0s 1ms/step - loss: 0.5535\n",
            "Epoch 34/100\n",
            "8/8 [==============================] - 0s 1ms/step - loss: 0.5470\n",
            "Epoch 35/100\n",
            "8/8 [==============================] - 0s 1ms/step - loss: 0.5411\n",
            "Epoch 36/100\n",
            "8/8 [==============================] - 0s 1ms/step - loss: 0.5346\n",
            "Epoch 37/100\n",
            "8/8 [==============================] - 0s 1ms/step - loss: 0.5276\n",
            "Epoch 38/100\n",
            "8/8 [==============================] - 0s 1ms/step - loss: 0.5208\n",
            "Epoch 39/100\n",
            "8/8 [==============================] - 0s 1ms/step - loss: 0.5146\n",
            "Epoch 40/100\n",
            "8/8 [==============================] - 0s 1ms/step - loss: 0.5083\n",
            "Epoch 41/100\n",
            "8/8 [==============================] - 0s 1ms/step - loss: 0.5008\n",
            "Epoch 42/100\n",
            "8/8 [==============================] - 0s 2ms/step - loss: 0.4931\n",
            "Epoch 43/100\n",
            "8/8 [==============================] - 0s 1ms/step - loss: 0.4867\n",
            "Epoch 44/100\n",
            "8/8 [==============================] - 0s 1ms/step - loss: 0.4808\n",
            "Epoch 45/100\n",
            "8/8 [==============================] - 0s 2ms/step - loss: 0.4765\n",
            "Epoch 46/100\n",
            "8/8 [==============================] - 0s 2ms/step - loss: 0.4711\n",
            "Epoch 47/100\n",
            "8/8 [==============================] - 0s 1ms/step - loss: 0.4666\n",
            "Epoch 48/100\n",
            "8/8 [==============================] - 0s 2ms/step - loss: 0.4627\n",
            "Epoch 49/100\n",
            "8/8 [==============================] - 0s 1ms/step - loss: 0.4591\n",
            "Epoch 50/100\n",
            "8/8 [==============================] - 0s 1ms/step - loss: 0.4567\n",
            "Epoch 51/100\n",
            "8/8 [==============================] - 0s 1ms/step - loss: 0.4536\n",
            "Epoch 52/100\n",
            "8/8 [==============================] - 0s 2ms/step - loss: 0.4511\n",
            "Epoch 53/100\n",
            "8/8 [==============================] - 0s 1ms/step - loss: 0.4486\n",
            "Epoch 54/100\n",
            "8/8 [==============================] - 0s 1ms/step - loss: 0.4469\n",
            "Epoch 55/100\n",
            "8/8 [==============================] - 0s 1ms/step - loss: 0.4455\n",
            "Epoch 56/100\n",
            "8/8 [==============================] - 0s 1ms/step - loss: 0.4440\n",
            "Epoch 57/100\n",
            "8/8 [==============================] - 0s 1ms/step - loss: 0.4420\n",
            "Epoch 58/100\n",
            "8/8 [==============================] - 0s 2ms/step - loss: 0.4413\n",
            "Epoch 59/100\n",
            "8/8 [==============================] - 0s 1ms/step - loss: 0.4393\n",
            "Epoch 60/100\n",
            "8/8 [==============================] - 0s 2ms/step - loss: 0.4382\n",
            "Epoch 61/100\n",
            "8/8 [==============================] - 0s 2ms/step - loss: 0.4366\n",
            "Epoch 62/100\n",
            "8/8 [==============================] - 0s 1ms/step - loss: 0.4348\n",
            "Epoch 63/100\n",
            "8/8 [==============================] - 0s 2ms/step - loss: 0.4339\n",
            "Epoch 64/100\n",
            "8/8 [==============================] - 0s 2ms/step - loss: 0.4320\n",
            "Epoch 65/100\n",
            "8/8 [==============================] - 0s 1ms/step - loss: 0.4313\n",
            "Epoch 66/100\n",
            "8/8 [==============================] - 0s 1ms/step - loss: 0.4303\n",
            "Epoch 67/100\n",
            "8/8 [==============================] - 0s 1ms/step - loss: 0.4297\n",
            "Epoch 68/100\n",
            "8/8 [==============================] - 0s 1ms/step - loss: 0.4287\n",
            "Epoch 69/100\n",
            "8/8 [==============================] - 0s 1ms/step - loss: 0.4279\n",
            "Epoch 70/100\n",
            "8/8 [==============================] - 0s 1ms/step - loss: 0.4272\n",
            "Epoch 71/100\n",
            "8/8 [==============================] - 0s 1ms/step - loss: 0.4278\n",
            "Epoch 72/100\n",
            "8/8 [==============================] - 0s 1ms/step - loss: 0.4261\n",
            "Epoch 73/100\n",
            "8/8 [==============================] - 0s 1ms/step - loss: 0.4260\n",
            "Epoch 74/100\n",
            "8/8 [==============================] - 0s 2ms/step - loss: 0.4252\n",
            "Epoch 75/100\n",
            "8/8 [==============================] - 0s 1ms/step - loss: 0.4241\n",
            "Epoch 76/100\n",
            "8/8 [==============================] - 0s 2ms/step - loss: 0.4246\n",
            "Epoch 77/100\n",
            "8/8 [==============================] - 0s 1ms/step - loss: 0.4241\n",
            "Epoch 78/100\n",
            "8/8 [==============================] - 0s 2ms/step - loss: 0.4229\n",
            "Epoch 79/100\n",
            "8/8 [==============================] - 0s 1ms/step - loss: 0.4230\n",
            "Epoch 80/100\n",
            "8/8 [==============================] - 0s 2ms/step - loss: 0.4224\n",
            "Epoch 81/100\n",
            "8/8 [==============================] - 0s 2ms/step - loss: 0.4219\n",
            "Epoch 82/100\n",
            "8/8 [==============================] - 0s 1ms/step - loss: 0.4214\n",
            "Epoch 83/100\n",
            "8/8 [==============================] - 0s 1ms/step - loss: 0.4214\n",
            "Epoch 84/100\n",
            "8/8 [==============================] - 0s 1ms/step - loss: 0.4212\n",
            "Epoch 85/100\n",
            "8/8 [==============================] - 0s 2ms/step - loss: 0.4208\n",
            "Epoch 86/100\n",
            "8/8 [==============================] - 0s 1ms/step - loss: 0.4204\n",
            "Epoch 87/100\n",
            "8/8 [==============================] - 0s 1ms/step - loss: 0.4196\n",
            "Epoch 88/100\n",
            "8/8 [==============================] - 0s 1ms/step - loss: 0.4203\n",
            "Epoch 89/100\n",
            "8/8 [==============================] - 0s 2ms/step - loss: 0.4193\n",
            "Epoch 90/100\n",
            "8/8 [==============================] - 0s 1ms/step - loss: 0.4191\n",
            "Epoch 91/100\n",
            "8/8 [==============================] - 0s 1ms/step - loss: 0.4192\n",
            "Epoch 92/100\n",
            "8/8 [==============================] - 0s 2ms/step - loss: 0.4188\n",
            "Epoch 93/100\n",
            "8/8 [==============================] - 0s 1ms/step - loss: 0.4190\n",
            "Epoch 94/100\n",
            "8/8 [==============================] - 0s 1ms/step - loss: 0.4186\n",
            "Epoch 95/100\n",
            "8/8 [==============================] - 0s 2ms/step - loss: 0.4183\n",
            "Epoch 96/100\n",
            "8/8 [==============================] - 0s 1ms/step - loss: 0.4181\n",
            "Epoch 97/100\n",
            "8/8 [==============================] - 0s 1ms/step - loss: 0.4178\n",
            "Epoch 98/100\n",
            "8/8 [==============================] - 0s 2ms/step - loss: 0.4175\n",
            "Epoch 99/100\n",
            "8/8 [==============================] - 0s 1ms/step - loss: 0.4182\n",
            "Epoch 100/100\n",
            "8/8 [==============================] - 0s 1ms/step - loss: 0.4174\n"
          ]
        },
        {
          "output_type": "execute_result",
          "data": {
            "text/plain": [
              "<keras.src.callbacks.History at 0x7d25baf74d60>"
            ]
          },
          "metadata": {},
          "execution_count": 19
        }
      ],
      "source": [
        "### YOUR CODE HERE ###\n",
        "model1.fit(X_train,y_train,epochs=100,batch_size=32)"
      ]
    },
    {
      "cell_type": "markdown",
      "metadata": {
        "id": "tcsMH0cqVOkf"
      },
      "source": [
        "Q3. Compute accuracy by using your own function."
      ]
    },
    {
      "cell_type": "code",
      "execution_count": null,
      "metadata": {
        "colab": {
          "base_uri": "https://localhost:8080/"
        },
        "id": "MZblWvclVoYs",
        "outputId": "55f6bd3a-52af-46b9-9ee3-707904ab4fb3"
      },
      "outputs": [
        {
          "output_type": "stream",
          "name": "stdout",
          "text": [
            "2/2 [==============================] - 0s 3ms/step\n",
            "0.5066666666666667\n"
          ]
        }
      ],
      "source": [
        "### YOUR CODE HERE ###\n",
        "y_pred_nn = model1.predict(X_test)\n",
        "accuracy_nn = accuracy(y_test,y_pred_nn)\n",
        "print(accuracy_nn)"
      ]
    },
    {
      "cell_type": "code",
      "execution_count": null,
      "metadata": {
        "colab": {
          "base_uri": "https://localhost:8080/",
          "height": 1000
        },
        "id": "rIycnAjv_gub",
        "outputId": "a523f4d0-f704-401a-ae11-daa46b28761c"
      },
      "outputs": [
        {
          "output_type": "stream",
          "name": "stdout",
          "text": [
            "61/61 [==============================] - 0s 886us/step\n",
            "61/61 [==============================] - 0s 862us/step\n",
            "57/57 [==============================] - 0s 3ms/step\n",
            "57/57 [==============================] - 0s 1ms/step\n"
          ]
        },
        {
          "output_type": "execute_result",
          "data": {
            "text/plain": [
              "Text(22.347222222222214, 0.5, 'Test')"
            ]
          },
          "metadata": {},
          "execution_count": 21
        },
        {
          "output_type": "display_data",
          "data": {
            "text/plain": [
              "<Figure size 640x480 with 1 Axes>"
            ],
            "image/png": "[encoded data removed]"
          },
          "metadata": {}
        },
        {
          "output_type": "display_data",
          "data": {
            "text/plain": [
              "<Figure size 640x480 with 1 Axes>"
            ],
            "image/png": "[encoded data removed]"
          },
          "metadata": {}
        }
      ],
      "source": [
        "# And visualize how your model did\n",
        "f, ax = visualize_2d_classification(model1, X_train, y_train)\n",
        "ax.set_ylabel(\"Train\")\n",
        "f, ax = visualize_2d_classification(model1, X_test, y_test)\n",
        "ax.set_ylabel(\"Test\")\n"
      ]
    },
    {
      "cell_type": "markdown",
      "metadata": {
        "id": "ey0k0RJg_gub"
      },
      "source": [
        "It is actually quite rare for a classification neural network to have a single output unit as we've implemented above. Usually we have a $k$ unit output layer, where $k$ is the number of classes. This is typically done because when combined with the \"softmax\" activation function , the activity of each unit corresponds with the probability of that class. This allows us to easily extend to multiclass classification.\n",
        "\n",
        "Now we will still work with two units, but map them to two output units rather than 1. class 0 will be [1, 0], and class 1 will be [0, 1]. This operation is referred to as \"one hot encoding\"."
      ]
    },
    {
      "cell_type": "code",
      "execution_count": null,
      "metadata": {
        "id": "Mt9iaP75_gub"
      },
      "outputs": [],
      "source": [
        "# Before we can fit the network, we need to one-hot vectorize our response.\n",
        "# There is a keras method for that.\n",
        "from tensorflow.keras.utils import to_categorical\n",
        "\n",
        "y_train_vectorized = to_categorical(y_train)\n",
        "y_test_vectorized = to_categorical(y_test)"
      ]
    },
    {
      "cell_type": "code",
      "execution_count": null,
      "metadata": {
        "colab": {
          "base_uri": "https://localhost:8080/"
        },
        "id": "okTn-Pgd_gub",
        "outputId": "290fdd5c-d60c-4411-ac57-a4c1ef60abc2"
      },
      "outputs": [
        {
          "output_type": "stream",
          "name": "stdout",
          "text": [
            "Label | One-hot\n",
            "0 | [1. 0.]\n",
            "0 | [1. 0.]\n",
            "1 | [0. 1.]\n",
            "1 | [0. 1.]\n",
            "0 | [1. 0.]\n",
            "0 | [1. 0.]\n",
            "0 | [1. 0.]\n",
            "0 | [1. 0.]\n",
            "1 | [0. 1.]\n",
            "1 | [0. 1.]\n"
          ]
        }
      ],
      "source": [
        "print(\"Label | One-hot\")\n",
        "for i in range(10):\n",
        "    print(\"{} | {}\".format(y_train[i], y_train_vectorized[i]))"
      ]
    },
    {
      "cell_type": "markdown",
      "metadata": {
        "id": "c-EYtOTw_gub"
      },
      "source": [
        "The one hot encoded vectors will serve as future labels for our models.\n",
        "\n",
        "# Exercise 3:\n",
        "\n",
        "Q1.Implement build_classification_model() that returns a sequential model that takes an input of size 2, passes it to a hidden layer of size 10, then a hidden layer of size 5, then a readout layer of size 2.\n",
        "\n",
        "\n",
        "As before, use the \"relu\" activation function for hidden layers, but since we have multiple output units, use the \"softmax\" activation for the final layer.\n",
        "\n",
        "We use SGD optimizer and \"categorical_crossentropy\" loss function to compile the model."
      ]
    },
    {
      "cell_type": "code",
      "execution_count": null,
      "metadata": {
        "id": "1u8Vfx1K_gub"
      },
      "outputs": [],
      "source": [
        "def build_classification_model():\n",
        "    model = Sequential()\n",
        "\n",
        "    ### YOUR CODE HERE ###\n",
        "    model.add(Dense(units=10,input_dim=2,activation='relu'))\n",
        "    model.add(Dense(units=5,activation='relu'))\n",
        "    model.add(Dense(units=2,activation='softmax'))\n",
        "    sgd = SGD(learning_rate=0.01,decay=2e-7,momentum=0.95)\n",
        "    model.compile(loss='categorical_crossentropy',optimizer=sgd)\n",
        "    return model"
      ]
    },
    {
      "cell_type": "code",
      "execution_count": null,
      "metadata": {
        "id": "EvJRSL7H_gub"
      },
      "outputs": [],
      "source": [
        "modell = build_classification_model()"
      ]
    },
    {
      "cell_type": "markdown",
      "metadata": {
        "id": "o9skzqVn_gub"
      },
      "source": [
        "Q2. Fit your model by training set"
      ]
    },
    {
      "cell_type": "code",
      "execution_count": null,
      "metadata": {
        "colab": {
          "base_uri": "https://localhost:8080/"
        },
        "id": "ZNskvvFL_gub",
        "outputId": "84cbbcbd-96de-4849-a1a0-359f49ef6b6f",
        "scrolled": true
      },
      "outputs": [
        {
          "output_type": "stream",
          "name": "stdout",
          "text": [
            "Epoch 1/100\n",
            "8/8 [==============================] - 0s 2ms/step - loss: 0.7096\n",
            "Epoch 2/100\n",
            "8/8 [==============================] - 0s 1ms/step - loss: 0.7046\n",
            "Epoch 3/100\n",
            "8/8 [==============================] - 0s 1ms/step - loss: 0.6893\n",
            "Epoch 4/100\n",
            "8/8 [==============================] - 0s 2ms/step - loss: 0.6779\n",
            "Epoch 5/100\n",
            "8/8 [==============================] - 0s 2ms/step - loss: 0.6672\n",
            "Epoch 6/100\n",
            "8/8 [==============================] - 0s 1ms/step - loss: 0.6564\n",
            "Epoch 7/100\n",
            "8/8 [==============================] - 0s 1ms/step - loss: 0.6449\n",
            "Epoch 8/100\n",
            "8/8 [==============================] - 0s 1ms/step - loss: 0.6330\n",
            "Epoch 9/100\n",
            "8/8 [==============================] - 0s 1ms/step - loss: 0.6209\n",
            "Epoch 10/100\n",
            "8/8 [==============================] - 0s 1ms/step - loss: 0.6069\n",
            "Epoch 11/100\n",
            "8/8 [==============================] - 0s 1ms/step - loss: 0.5910\n",
            "Epoch 12/100\n",
            "8/8 [==============================] - 0s 1ms/step - loss: 0.5719\n",
            "Epoch 13/100\n",
            "8/8 [==============================] - 0s 1ms/step - loss: 0.5535\n",
            "Epoch 14/100\n",
            "8/8 [==============================] - 0s 2ms/step - loss: 0.5314\n",
            "Epoch 15/100\n",
            "8/8 [==============================] - 0s 2ms/step - loss: 0.5103\n",
            "Epoch 16/100\n",
            "8/8 [==============================] - 0s 2ms/step - loss: 0.4877\n",
            "Epoch 17/100\n",
            "8/8 [==============================] - 0s 1ms/step - loss: 0.4672\n",
            "Epoch 18/100\n",
            "8/8 [==============================] - 0s 1ms/step - loss: 0.4483\n",
            "Epoch 19/100\n",
            "8/8 [==============================] - 0s 2ms/step - loss: 0.4299\n",
            "Epoch 20/100\n",
            "8/8 [==============================] - 0s 1ms/step - loss: 0.4122\n",
            "Epoch 21/100\n",
            "8/8 [==============================] - 0s 1ms/step - loss: 0.3956\n",
            "Epoch 22/100\n",
            "8/8 [==============================] - 0s 1ms/step - loss: 0.3804\n",
            "Epoch 23/100\n",
            "8/8 [==============================] - 0s 2ms/step - loss: 0.3617\n",
            "Epoch 24/100\n",
            "8/8 [==============================] - 0s 1ms/step - loss: 0.3432\n",
            "Epoch 25/100\n",
            "8/8 [==============================] - 0s 2ms/step - loss: 0.3196\n",
            "Epoch 26/100\n",
            "8/8 [==============================] - 0s 1ms/step - loss: 0.2964\n",
            "Epoch 27/100\n",
            "8/8 [==============================] - 0s 2ms/step - loss: 0.2735\n",
            "Epoch 28/100\n",
            "8/8 [==============================] - 0s 1ms/step - loss: 0.2467\n",
            "Epoch 29/100\n",
            "8/8 [==============================] - 0s 1ms/step - loss: 0.2212\n",
            "Epoch 30/100\n",
            "8/8 [==============================] - 0s 1ms/step - loss: 0.1946\n",
            "Epoch 31/100\n",
            "8/8 [==============================] - 0s 1ms/step - loss: 0.1668\n",
            "Epoch 32/100\n",
            "8/8 [==============================] - 0s 1ms/step - loss: 0.1389\n",
            "Epoch 33/100\n",
            "8/8 [==============================] - 0s 1ms/step - loss: 0.1140\n",
            "Epoch 34/100\n",
            "8/8 [==============================] - 0s 1ms/step - loss: 0.0926\n",
            "Epoch 35/100\n",
            "8/8 [==============================] - 0s 1ms/step - loss: 0.0760\n",
            "Epoch 36/100\n",
            "8/8 [==============================] - 0s 2ms/step - loss: 0.0620\n",
            "Epoch 37/100\n",
            "8/8 [==============================] - 0s 1ms/step - loss: 0.0520\n",
            "Epoch 38/100\n",
            "8/8 [==============================] - 0s 1ms/step - loss: 0.0444\n",
            "Epoch 39/100\n",
            "8/8 [==============================] - 0s 1ms/step - loss: 0.0372\n",
            "Epoch 40/100\n",
            "8/8 [==============================] - 0s 1ms/step - loss: 0.0322\n",
            "Epoch 41/100\n",
            "8/8 [==============================] - 0s 1ms/step - loss: 0.0283\n",
            "Epoch 42/100\n",
            "8/8 [==============================] - 0s 1ms/step - loss: 0.0252\n",
            "Epoch 43/100\n",
            "8/8 [==============================] - 0s 1ms/step - loss: 0.0229\n",
            "Epoch 44/100\n",
            "8/8 [==============================] - 0s 1ms/step - loss: 0.0203\n",
            "Epoch 45/100\n",
            "8/8 [==============================] - 0s 1ms/step - loss: 0.0185\n",
            "Epoch 46/100\n",
            "8/8 [==============================] - 0s 1ms/step - loss: 0.0171\n",
            "Epoch 47/100\n",
            "8/8 [==============================] - 0s 1ms/step - loss: 0.0161\n",
            "Epoch 48/100\n",
            "8/8 [==============================] - 0s 1ms/step - loss: 0.0147\n",
            "Epoch 49/100\n",
            "8/8 [==============================] - 0s 2ms/step - loss: 0.0139\n",
            "Epoch 50/100\n",
            "8/8 [==============================] - 0s 1ms/step - loss: 0.0131\n",
            "Epoch 51/100\n",
            "8/8 [==============================] - 0s 1ms/step - loss: 0.0124\n",
            "Epoch 52/100\n",
            "8/8 [==============================] - 0s 2ms/step - loss: 0.0118\n",
            "Epoch 53/100\n",
            "8/8 [==============================] - 0s 1ms/step - loss: 0.0109\n",
            "Epoch 54/100\n",
            "8/8 [==============================] - 0s 2ms/step - loss: 0.0105\n",
            "Epoch 55/100\n",
            "8/8 [==============================] - 0s 1ms/step - loss: 0.0101\n",
            "Epoch 56/100\n",
            "8/8 [==============================] - 0s 1ms/step - loss: 0.0094\n",
            "Epoch 57/100\n",
            "8/8 [==============================] - 0s 1ms/step - loss: 0.0089\n",
            "Epoch 58/100\n",
            "8/8 [==============================] - 0s 1ms/step - loss: 0.0086\n",
            "Epoch 59/100\n",
            "8/8 [==============================] - 0s 1ms/step - loss: 0.0083\n",
            "Epoch 60/100\n",
            "8/8 [==============================] - 0s 1ms/step - loss: 0.0081\n",
            "Epoch 61/100\n",
            "8/8 [==============================] - 0s 1ms/step - loss: 0.0076\n",
            "Epoch 62/100\n",
            "8/8 [==============================] - 0s 2ms/step - loss: 0.0073\n",
            "Epoch 63/100\n",
            "8/8 [==============================] - 0s 1ms/step - loss: 0.0070\n",
            "Epoch 64/100\n",
            "8/8 [==============================] - 0s 2ms/step - loss: 0.0068\n",
            "Epoch 65/100\n",
            "8/8 [==============================] - 0s 1ms/step - loss: 0.0065\n",
            "Epoch 66/100\n",
            "8/8 [==============================] - 0s 1ms/step - loss: 0.0064\n",
            "Epoch 67/100\n",
            "8/8 [==============================] - 0s 1ms/step - loss: 0.0061\n",
            "Epoch 68/100\n",
            "8/8 [==============================] - 0s 1ms/step - loss: 0.0060\n",
            "Epoch 69/100\n",
            "8/8 [==============================] - 0s 2ms/step - loss: 0.0058\n",
            "Epoch 70/100\n",
            "8/8 [==============================] - 0s 2ms/step - loss: 0.0056\n",
            "Epoch 71/100\n",
            "8/8 [==============================] - 0s 1ms/step - loss: 0.0054\n",
            "Epoch 72/100\n",
            "8/8 [==============================] - 0s 1ms/step - loss: 0.0053\n",
            "Epoch 73/100\n",
            "8/8 [==============================] - 0s 1ms/step - loss: 0.0051\n",
            "Epoch 74/100\n",
            "8/8 [==============================] - 0s 1ms/step - loss: 0.0050\n",
            "Epoch 75/100\n",
            "8/8 [==============================] - 0s 2ms/step - loss: 0.0048\n",
            "Epoch 76/100\n",
            "8/8 [==============================] - 0s 1ms/step - loss: 0.0047\n",
            "Epoch 77/100\n",
            "8/8 [==============================] - 0s 1ms/step - loss: 0.0046\n",
            "Epoch 78/100\n",
            "8/8 [==============================] - 0s 1ms/step - loss: 0.0045\n",
            "Epoch 79/100\n",
            "8/8 [==============================] - 0s 2ms/step - loss: 0.0044\n",
            "Epoch 80/100\n",
            "8/8 [==============================] - 0s 1ms/step - loss: 0.0043\n",
            "Epoch 81/100\n",
            "8/8 [==============================] - 0s 1ms/step - loss: 0.0041\n",
            "Epoch 82/100\n",
            "8/8 [==============================] - 0s 2ms/step - loss: 0.0040\n",
            "Epoch 83/100\n",
            "8/8 [==============================] - 0s 1ms/step - loss: 0.0040\n",
            "Epoch 84/100\n",
            "8/8 [==============================] - 0s 1ms/step - loss: 0.0039\n",
            "Epoch 85/100\n",
            "8/8 [==============================] - 0s 1ms/step - loss: 0.0038\n",
            "Epoch 86/100\n",
            "8/8 [==============================] - 0s 1ms/step - loss: 0.0037\n",
            "Epoch 87/100\n",
            "8/8 [==============================] - 0s 2ms/step - loss: 0.0036\n",
            "Epoch 88/100\n",
            "8/8 [==============================] - 0s 1ms/step - loss: 0.0035\n",
            "Epoch 89/100\n",
            "8/8 [==============================] - 0s 2ms/step - loss: 0.0035\n",
            "Epoch 90/100\n",
            "8/8 [==============================] - 0s 2ms/step - loss: 0.0034\n",
            "Epoch 91/100\n",
            "8/8 [==============================] - 0s 2ms/step - loss: 0.0033\n",
            "Epoch 92/100\n",
            "8/8 [==============================] - 0s 1ms/step - loss: 0.0032\n",
            "Epoch 93/100\n",
            "8/8 [==============================] - 0s 1ms/step - loss: 0.0032\n",
            "Epoch 94/100\n",
            "8/8 [==============================] - 0s 2ms/step - loss: 0.0031\n",
            "Epoch 95/100\n",
            "8/8 [==============================] - 0s 1ms/step - loss: 0.0031\n",
            "Epoch 96/100\n",
            "8/8 [==============================] - 0s 1ms/step - loss: 0.0030\n",
            "Epoch 97/100\n",
            "8/8 [==============================] - 0s 1ms/step - loss: 0.0029\n",
            "Epoch 98/100\n",
            "8/8 [==============================] - 0s 1ms/step - loss: 0.0029\n",
            "Epoch 99/100\n",
            "8/8 [==============================] - 0s 1ms/step - loss: 0.0029\n",
            "Epoch 100/100\n",
            "8/8 [==============================] - 0s 1ms/step - loss: 0.0028\n"
          ]
        },
        {
          "output_type": "execute_result",
          "data": {
            "text/plain": [
              "<keras.src.callbacks.History at 0x7d25b0d722f0>"
            ]
          },
          "metadata": {},
          "execution_count": 31
        }
      ],
      "source": [
        "### YOUR CODE HERE ###\n",
        "modell.fit(X_train, y_train_vectorized, epochs=100, batch_size=32)"
      ]
    },
    {
      "cell_type": "markdown",
      "metadata": {
        "id": "mrG8fIEMYNRx"
      },
      "source": [
        "Q3. Compute accuracy by using your own function"
      ]
    },
    {
      "cell_type": "code",
      "execution_count": null,
      "metadata": {
        "colab": {
          "base_uri": "https://localhost:8080/"
        },
        "id": "u6LqFaaAXsD1",
        "outputId": "373f7c81-33b0-4810-80b6-6542dcf96c80",
        "scrolled": true
      },
      "outputs": [
        {
          "output_type": "stream",
          "name": "stdout",
          "text": [
            "2/2 [==============================] - 0s 3ms/step\n",
            "1.0\n"
          ]
        }
      ],
      "source": [
        "y_pred_ann = modell.predict(X_test)\n",
        "#print(y_pred_ann)\n",
        "accuracy_ann = accuracy(y_test_vectorized,y_pred_ann)\n",
        "print(accuracy_ann)"
      ]
    },
    {
      "cell_type": "code",
      "execution_count": null,
      "metadata": {
        "colab": {
          "base_uri": "https://localhost:8080/",
          "height": 1000
        },
        "id": "Kzz-p-3U_gub",
        "outputId": "eb7dda70-81a5-4118-98ea-e34f30006c95"
      },
      "outputs": [
        {
          "output_type": "stream",
          "name": "stdout",
          "text": [
            "61/61 [==============================] - 0s 918us/step\n",
            "61/61 [==============================] - 0s 980us/step\n",
            "57/57 [==============================] - 0s 1ms/step\n",
            "57/57 [==============================] - 0s 889us/step\n"
          ]
        },
        {
          "output_type": "execute_result",
          "data": {
            "text/plain": [
              "Text(22.347222222222214, 0.5, 'Test')"
            ]
          },
          "metadata": {},
          "execution_count": 33
        },
        {
          "output_type": "display_data",
          "data": {
            "text/plain": [
              "<Figure size 640x480 with 1 Axes>"
            ],
            "image/png": "[encoded data removed]"
          },
          "metadata": {}
        },
        {
          "output_type": "display_data",
          "data": {
            "text/plain": [
              "<Figure size 640x480 with 1 Axes>"
            ],
            "image/png": "[encoded data removed]"
          },
          "metadata": {}
        }
      ],
      "source": [
        "# And visualize how your model did\n",
        "from utilss import visualize_2d_classification\n",
        "f, ax = visualize_2d_classification(modell, X_train, y_train)\n",
        "ax.set_ylabel(\"Train\")\n",
        "f, ax = visualize_2d_classification(modell, X_test, y_test)\n",
        "ax.set_ylabel(\"Test\")"
      ]
    },
    {
      "cell_type": "markdown",
      "metadata": {
        "id": "JJN4QNxAX6YW"
      },
      "source": [
        "# Exercise 4:\n",
        "### Short answer-questions\n",
        "\\lb remove this"
      ]
    },
    {
      "cell_type": "markdown",
      "metadata": {
        "id": "9VHQET2zX6YX"
      },
      "source": [
        "Q1. The learning rate is an important parameter for gradient descent. Please briefly describe a possible issue if we choose too high a learning rate for full batch gradient descent (GD). Also, please briefly describe a possible issue if we choose too high a learning\n",
        "rate for stochastic gradient descent (SGD), but is not a problem in the full batch setting."
      ]
    },
    {
      "cell_type": "markdown",
      "metadata": {
        "id": "kFxMj4MNX6YX"
      },
      "source": [
        "Ans - In full batch gradient descent, using a too high learning rate can lead to overshooting the minimum of the loss function. It arises because the algorithm takes excessively large steps towards the optimum, based on the gradient calculated from the entire dataset. Consequently, the model might oscillate around or converge quickly towards a suboptimal solution, preventing effective minimization of the loss.\n",
        "\n",
        "In stochastic gradient descent, a high learning rate can cause severe problems due to its noisy and less stable nature. Since SGD relies on gradients from a small batch of data, a high learning rate amplifies the erratic changes in model parameters. It can lead to significant divergence, as the model responds too aggressively to the noisy gradient updates, a problem less prevalent in full batch gradient descent due to its more consistent and stable gradient calculations."
      ]
    },
    {
      "cell_type": "markdown",
      "metadata": {
        "id": "OPqmEVRrX6YX"
      },
      "source": [
        "Q2. Please give an example in the data augmentation methods that is helpful for classifying images of dogs and cats, but not for classifying handwritten digit."
      ]
    },
    {
      "cell_type": "markdown",
      "metadata": {
        "id": "v8WvndXAX6YX"
      },
      "source": [
        "Ans- We can increase training set by flipping the image to help our algorithm to classify dog/cat, while it does not necessarily help in the situation of classifying digits since flipped digits means nothing in most cases. It might change our answer too (6 becomes 9 after flipping)"
      ]
    },
    {
      "cell_type": "markdown",
      "metadata": {
        "id": "IKp7lEfgX6YX"
      },
      "source": [
        "Q3. Suppose we have the following two neural networks containing fully-connected layers only.\n",
        "<div>\n",
        "<img src=\"https://ucla.box.com/shared/static/kgninjcbqpztz680q47emsluvituw4ga.jpg\" width=\"300\"/>\n",
        "</div>\n",
        "Please give one advantage of A over B, and one advantage of B over A."
      ]
    },
    {
      "cell_type": "markdown",
      "metadata": {
        "id": "2o83GnTPX6YX"
      },
      "source": [
        "Ans - An advantage of Network A over B is that Network A has a simpler architecture with two layers of 100 units each, which means it has fewer parameters to train compared to Network B. The uniformity can lead to more efficient computation during both training and inference. It can also result in a shorter training time and lower computational cost.\n",
        "\n",
        "An advantage of Network B over A is that Network B's architecture that involves a hidden layer of 10 units. A is simply a regression model since it does not have any hidden layers, and hence it cant learn any non linear patterns. With B, we can capture much more complex relationships."
      ]
    },
    {
      "cell_type": "markdown",
      "metadata": {
        "id": "95TrKOZf_gub"
      },
      "source": [
        "# Exercise 5:\n",
        "\n",
        "Now let's revisit the classification problem (Dataset 1) in Homework 2. Build a neural network to predict the output in the default payment dataset. The architecture choice is up to you, but you are required to use Dense layers and dropout layers only.\n",
        "\n",
        "\"CreditDefault_training.csv\" has 3985 records.\n",
        "\n",
        "\"CreditDefault_Xtest.csv\" contains contains 1000 rows and 14 columns. This is the test set which only contains the features."
      ]
    },
    {
      "cell_type": "markdown",
      "metadata": {
        "id": "WoPuroUXT35G"
      },
      "source": [
        "Q1. Read the data<br/>\n",
        "- Apply standardization to continuous values<br/>\n",
        "- Convert categorical variables and the target \"default.payment.next.month\" into one-hot encodings. <br>\n",
        "- Split data into train and validation set<br/>"
      ]
    },
    {
      "cell_type": "code",
      "execution_count": null,
      "metadata": {
        "id": "60tBCgSw3iou"
      },
      "outputs": [],
      "source": [
        "import numpy as np\n",
        "import pandas as pd"
      ]
    },
    {
      "cell_type": "code",
      "source": [
        "uploaded = files.upload()"
      ],
      "metadata": {
        "id": "a9r2rWO23o3E",
        "colab": {
          "base_uri": "https://localhost:8080/",
          "height": 107
        },
        "outputId": "696b3620-4280-47c9-f26f-bbaa213fb1ba"
      },
      "execution_count": null,
      "outputs": [
        {
          "output_type": "display_data",
          "data": {
            "text/plain": [
              "<IPython.core.display.HTML object>"
            ],
            "text/html": [
              "\n",
              "     <input type=\"file\" id=\"files-29d7886e-f393-4b2f-8db8-bb6024484d76\" name=\"files[]\" multiple disabled\n",
              "        style=\"border:none\" />\n",
              "     <output id=\"result-29d7886e-f393-4b2f-8db8-bb6024484d76\">\n",
              "      Upload widget is only available when the cell has been executed in the\n",
              "      current browser session. Please rerun this cell to enable.\n",
              "      </output>\n",
              "      <script>// Copyright 2017 Google LLC\n",
              "//\n",
              "// Licensed under the Apache License, Version 2.0 (the \"License\");\n",
              "// you may not use this file except in compliance with the License.\n",
              "// You may obtain a copy of the License at\n",
              "//\n",
              "//      http://www.apache.org/licenses/LICENSE-2.0\n",
              "//\n",
              "// Unless required by applicable law or agreed to in writing, software\n",
              "// distributed under the License is distributed on an \"AS IS\" BASIS,\n",
              "// WITHOUT WARRANTIES OR CONDITIONS OF ANY KIND, either express or implied.\n",
              "// See the License for the specific language governing permissions and\n",
              "// limitations under the License.\n",
              "\n",
              "/**\n",
              " * @fileoverview Helpers for google.colab Python module.\n",
              " */\n",
              "(function(scope) {\n",
              "function span(text, styleAttributes = {}) {\n",
              "  const element = document.createElement('span');\n",
              "  element.textContent = text;\n",
              "  for (const key of Object.keys(styleAttributes)) {\n",
              "    element.style[key] = styleAttributes[key];\n",
              "  }\n",
              "  return element;\n",
              "}\n",
              "\n",
              "// Max number of bytes which will be uploaded at a time.\n",
              "const MAX_PAYLOAD_SIZE = 100 * 1024;\n",
              "\n",
              "function _uploadFiles(inputId, outputId) {\n",
              "  const steps = uploadFilesStep(inputId, outputId);\n",
              "  const outputElement = document.getElementById(outputId);\n",
              "  // Cache steps on the outputElement to make it available for the next call\n",
              "  // to uploadFilesContinue from Python.\n",
              "  outputElement.steps = steps;\n",
              "\n",
              "  return _uploadFilesContinue(outputId);\n",
              "}\n",
              "\n",
              "// This is roughly an async generator (not supported in the browser yet),\n",
              "// where there are multiple asynchronous steps and the Python side is going\n",
              "// to poll for completion of each step.\n",
              "// This uses a Promise to block the python side on completion of each step,\n",
              "// then passes the result of the previous step as the input to the next step.\n",
              "function _uploadFilesContinue(outputId) {\n",
              "  const outputElement = document.getElementById(outputId);\n",
              "  const steps = outputElement.steps;\n",
              "\n",
              "  const next = steps.next(outputElement.lastPromiseValue);\n",
              "  return Promise.resolve(next.value.promise).then((value) => {\n",
              "    // Cache the last promise value to make it available to the next\n",
              "    // step of the generator.\n",
              "    outputElement.lastPromiseValue = value;\n",
              "    return next.value.response;\n",
              "  });\n",
              "}\n",
              "\n",
              "/**\n",
              " * Generator function which is called between each async step of the upload\n",
              " * process.\n",
              " * @param {string} inputId Element ID of the input file picker element.\n",
              " * @param {string} outputId Element ID of the output display.\n",
              " * @return {!Iterable<!Object>} Iterable of next steps.\n",
              " */\n",
              "function* uploadFilesStep(inputId, outputId) {\n",
              "  const inputElement = document.getElementById(inputId);\n",
              "  inputElement.disabled = false;\n",
              "\n",
              "  const outputElement = document.getElementById(outputId);\n",
              "  outputElement.innerHTML = '';\n",
              "\n",
              "  const pickedPromise = new Promise((resolve) => {\n",
              "    inputElement.addEventListener('change', (e) => {\n",
              "      resolve(e.target.files);\n",
              "    });\n",
              "  });\n",
              "\n",
              "  const cancel = document.createElement('button');\n",
              "  inputElement.parentElement.appendChild(cancel);\n",
              "  cancel.textContent = 'Cancel upload';\n",
              "  const cancelPromise = new Promise((resolve) => {\n",
              "    cancel.onclick = () => {\n",
              "      resolve(null);\n",
              "    };\n",
              "  });\n",
              "\n",
              "  // Wait for the user to pick the files.\n",
              "  const files = yield {\n",
              "    promise: Promise.race([pickedPromise, cancelPromise]),\n",
              "    response: {\n",
              "      action: 'starting',\n",
              "    }\n",
              "  };\n",
              "\n",
              "  cancel.remove();\n",
              "\n",
              "  // Disable the input element since further picks are not allowed.\n",
              "  inputElement.disabled = true;\n",
              "\n",
              "  if (!files) {\n",
              "    return {\n",
              "      response: {\n",
              "        action: 'complete',\n",
              "      }\n",
              "    };\n",
              "  }\n",
              "\n",
              "  for (const file of files) {\n",
              "    const li = document.createElement('li');\n",
              "    li.append(span(file.name, {fontWeight: 'bold'}));\n",
              "    li.append(span(\n",
              "        `(${file.type || 'n/a'}) - ${file.size} bytes, ` +\n",
              "        `last modified: ${\n",
              "            file.lastModifiedDate ? file.lastModifiedDate.toLocaleDateString() :\n",
              "                                    'n/a'} - `));\n",
              "    const percent = span('0% done');\n",
              "    li.appendChild(percent);\n",
              "\n",
              "    outputElement.appendChild(li);\n",
              "\n",
              "    const fileDataPromise = new Promise((resolve) => {\n",
              "      const reader = new FileReader();\n",
              "      reader.onload = (e) => {\n",
              "        resolve(e.target.result);\n",
              "      };\n",
              "      reader.readAsArrayBuffer(file);\n",
              "    });\n",
              "    // Wait for the data to be ready.\n",
              "    let fileData = yield {\n",
              "      promise: fileDataPromise,\n",
              "      response: {\n",
              "        action: 'continue',\n",
              "      }\n",
              "    };\n",
              "\n",
              "    // Use a chunked sending to avoid message size limits. See b/62115660.\n",
              "    let position = 0;\n",
              "    do {\n",
              "      const length = Math.min(fileData.byteLength - position, MAX_PAYLOAD_SIZE);\n",
              "      const chunk = new Uint8Array(fileData, position, length);\n",
              "      position += length;\n",
              "\n",
              "      const base64 = btoa(String.fromCharCode.apply(null, chunk));\n",
              "      yield {\n",
              "        response: {\n",
              "          action: 'append',\n",
              "          file: file.name,\n",
              "          data: base64,\n",
              "        },\n",
              "      };\n",
              "\n",
              "      let percentDone = fileData.byteLength === 0 ?\n",
              "          100 :\n",
              "          Math.round((position / fileData.byteLength) * 100);\n",
              "      percent.textContent = `${percentDone}% done`;\n",
              "\n",
              "    } while (position < fileData.byteLength);\n",
              "  }\n",
              "\n",
              "  // All done.\n",
              "  yield {\n",
              "    response: {\n",
              "      action: 'complete',\n",
              "    }\n",
              "  };\n",
              "}\n",
              "\n",
              "scope.google = scope.google || {};\n",
              "scope.google.colab = scope.google.colab || {};\n",
              "scope.google.colab._files = {\n",
              "  _uploadFiles,\n",
              "  _uploadFilesContinue,\n",
              "};\n",
              "})(self);\n",
              "</script> "
            ]
          },
          "metadata": {}
        },
        {
          "output_type": "stream",
          "name": "stdout",
          "text": [
            "Saving CreditDefault_training.csv to CreditDefault_training.csv\n",
            "Saving CreditDefault_Xtest.csv to CreditDefault_Xtest.csv\n"
          ]
        }
      ]
    },
    {
      "cell_type": "code",
      "execution_count": null,
      "metadata": {
        "id": "JM2SfGESVByv"
      },
      "outputs": [],
      "source": [
        "### YOUR CODE HERE ###\n",
        "from sklearn.preprocessing import OneHotEncoder\n",
        "from sklearn.preprocessing import StandardScaler\n",
        "scaler = StandardScaler()\n",
        "enc= OneHotEncoder(sparse=False)\n",
        "enc_target = OneHotEncoder(sparse=False)\n",
        "X = pd.read_csv('CreditDefault_training.csv')\n",
        "y = X['default.payment.next.month'].copy()\n",
        "X = X.loc[:, X.columns!='default.payment.next.month']\n",
        "\n",
        "test = pd.read_csv('CreditDefault_Xtest.csv')"
      ]
    },
    {
      "cell_type": "code",
      "execution_count": null,
      "metadata": {
        "colab": {
          "base_uri": "https://localhost:8080/",
          "height": 444
        },
        "id": "hrCetmsowX1I",
        "outputId": "081a3700-7934-41f6-f375-132a458525db"
      },
      "outputs": [
        {
          "output_type": "execute_result",
          "data": {
            "text/plain": [
              "     LIMIT_BAL  SEX  EDUCATION  MARRIAGE  AGE  PAY_1  PAY_2  PAY_3  PAY_4  \\\n",
              "0        80000    1          6         1   41      0      0      0      0   \n",
              "1        50000    1          1         2   35      0      0      0      0   \n",
              "2        80000    2          1         1   42      2      2      2      2   \n",
              "3       160000    2          2         2   27      0      0      0      0   \n",
              "4        30000    1          1         1   30      0      0      0      0   \n",
              "..         ...  ...        ...       ...  ...    ...    ...    ...    ...   \n",
              "995     360000    2          1         2   29     -1     -1     -1      0   \n",
              "996      20000    1          3         1   39     -1      2      2      2   \n",
              "997     360000    1          3         2   33     -2     -2     -2     -2   \n",
              "998      50000    1          3         1   51      0      0      0      0   \n",
              "999     360000    2          1         1   32     -1     -1     -1     -1   \n",
              "\n",
              "     PAY_5  ...  BILL_AMT3  BILL_AMT4  BILL_AMT5  BILL_AMT6  PAY_AMT1  \\\n",
              "0        0  ...     133017      19164       3272      11766      4351   \n",
              "1        0  ...      18188      18397      18161      18383      1565   \n",
              "2        2  ...      20471      20638      21003      20529      1600   \n",
              "3        0  ...      80240      39835      41150          0      3600   \n",
              "4        0  ...      14634      16378      16961      19669      3000   \n",
              "..     ...  ...        ...        ...        ...        ...       ...   \n",
              "995      0  ...       9118      19183      36842      10621      3050   \n",
              "996     -1  ...        390          0        780          0       390   \n",
              "997     -2  ...          0          0          0          0         0   \n",
              "998      0  ...      64104      33406      34104      34869      3000   \n",
              "999     -1  ...       5307      23102      64617      10542     18011   \n",
              "\n",
              "     PAY_AMT2  PAY_AMT3  PAY_AMT4  PAY_AMT5  PAY_AMT6  \n",
              "0        3520      1000      3272     11766      1740  \n",
              "1        7240       795      1000       673       647  \n",
              "2        1700       800      1000         0      2000  \n",
              "3        3700      1700      2000         0         0  \n",
              "4        2000      2000      1000      3000      1000  \n",
              "..        ...       ...       ...       ...       ...  \n",
              "995      9118     11000     30000       428      3166  \n",
              "996         0         0       780         0         0  \n",
              "997         0         0         0         0         0  \n",
              "998      2500      1985      1163      1256      1316  \n",
              "999      5307     23102     64617     10542      9702  \n",
              "\n",
              "[1000 rows x 23 columns]"
            ],
            "text/html": [
              "\n",
              "  <div id=\"df-3fcf8f74-e2bb-43b4-84d7-e3fb160fea67\" class=\"colab-df-container\">\n",
              "    <div>\n",
              "<style scoped>\n",
              "    .dataframe tbody tr th:only-of-type {\n",
              "        vertical-align: middle;\n",
              "    }\n",
              "\n",
              "    .dataframe tbody tr th {\n",
              "        vertical-align: top;\n",
              "    }\n",
              "\n",
              "    .dataframe thead th {\n",
              "        text-align: right;\n",
              "    }\n",
              "</style>\n",
              "<table border=\"1\" class=\"dataframe\">\n",
              "  <thead>\n",
              "    <tr style=\"text-align: right;\">\n",
              "      <th></th>\n",
              "      <th>LIMIT_BAL</th>\n",
              "      <th>SEX</th>\n",
              "      <th>EDUCATION</th>\n",
              "      <th>MARRIAGE</th>\n",
              "      <th>AGE</th>\n",
              "      <th>PAY_1</th>\n",
              "      <th>PAY_2</th>\n",
              "      <th>PAY_3</th>\n",
              "      <th>PAY_4</th>\n",
              "      <th>PAY_5</th>\n",
              "      <th>...</th>\n",
              "      <th>BILL_AMT3</th>\n",
              "      <th>BILL_AMT4</th>\n",
              "      <th>BILL_AMT5</th>\n",
              "      <th>BILL_AMT6</th>\n",
              "      <th>PAY_AMT1</th>\n",
              "      <th>PAY_AMT2</th>\n",
              "      <th>PAY_AMT3</th>\n",
              "      <th>PAY_AMT4</th>\n",
              "      <th>PAY_AMT5</th>\n",
              "      <th>PAY_AMT6</th>\n",
              "    </tr>\n",
              "  </thead>\n",
              "  <tbody>\n",
              "    <tr>\n",
              "      <th>0</th>\n",
              "      <td>80000</td>\n",
              "      <td>1</td>\n",
              "      <td>6</td>\n",
              "      <td>1</td>\n",
              "      <td>41</td>\n",
              "      <td>0</td>\n",
              "      <td>0</td>\n",
              "      <td>0</td>\n",
              "      <td>0</td>\n",
              "      <td>0</td>\n",
              "      <td>...</td>\n",
              "      <td>133017</td>\n",
              "      <td>19164</td>\n",
              "      <td>3272</td>\n",
              "      <td>11766</td>\n",
              "      <td>4351</td>\n",
              "      <td>3520</td>\n",
              "      <td>1000</td>\n",
              "      <td>3272</td>\n",
              "      <td>11766</td>\n",
              "      <td>1740</td>\n",
              "    </tr>\n",
              "    <tr>\n",
              "      <th>1</th>\n",
              "      <td>50000</td>\n",
              "      <td>1</td>\n",
              "      <td>1</td>\n",
              "      <td>2</td>\n",
              "      <td>35</td>\n",
              "      <td>0</td>\n",
              "      <td>0</td>\n",
              "      <td>0</td>\n",
              "      <td>0</td>\n",
              "      <td>0</td>\n",
              "      <td>...</td>\n",
              "      <td>18188</td>\n",
              "      <td>18397</td>\n",
              "      <td>18161</td>\n",
              "      <td>18383</td>\n",
              "      <td>1565</td>\n",
              "      <td>7240</td>\n",
              "      <td>795</td>\n",
              "      <td>1000</td>\n",
              "      <td>673</td>\n",
              "      <td>647</td>\n",
              "    </tr>\n",
              "    <tr>\n",
              "      <th>2</th>\n",
              "      <td>80000</td>\n",
              "      <td>2</td>\n",
              "      <td>1</td>\n",
              "      <td>1</td>\n",
              "      <td>42</td>\n",
              "      <td>2</td>\n",
              "      <td>2</td>\n",
              "      <td>2</td>\n",
              "      <td>2</td>\n",
              "      <td>2</td>\n",
              "      <td>...</td>\n",
              "      <td>20471</td>\n",
              "      <td>20638</td>\n",
              "      <td>21003</td>\n",
              "      <td>20529</td>\n",
              "      <td>1600</td>\n",
              "      <td>1700</td>\n",
              "      <td>800</td>\n",
              "      <td>1000</td>\n",
              "      <td>0</td>\n",
              "      <td>2000</td>\n",
              "    </tr>\n",
              "    <tr>\n",
              "      <th>3</th>\n",
              "      <td>160000</td>\n",
              "      <td>2</td>\n",
              "      <td>2</td>\n",
              "      <td>2</td>\n",
              "      <td>27</td>\n",
              "      <td>0</td>\n",
              "      <td>0</td>\n",
              "      <td>0</td>\n",
              "      <td>0</td>\n",
              "      <td>0</td>\n",
              "      <td>...</td>\n",
              "      <td>80240</td>\n",
              "      <td>39835</td>\n",
              "      <td>41150</td>\n",
              "      <td>0</td>\n",
              "      <td>3600</td>\n",
              "      <td>3700</td>\n",
              "      <td>1700</td>\n",
              "      <td>2000</td>\n",
              "      <td>0</td>\n",
              "      <td>0</td>\n",
              "    </tr>\n",
              "    <tr>\n",
              "      <th>4</th>\n",
              "      <td>30000</td>\n",
              "      <td>1</td>\n",
              "      <td>1</td>\n",
              "      <td>1</td>\n",
              "      <td>30</td>\n",
              "      <td>0</td>\n",
              "      <td>0</td>\n",
              "      <td>0</td>\n",
              "      <td>0</td>\n",
              "      <td>0</td>\n",
              "      <td>...</td>\n",
              "      <td>14634</td>\n",
              "      <td>16378</td>\n",
              "      <td>16961</td>\n",
              "      <td>19669</td>\n",
              "      <td>3000</td>\n",
              "      <td>2000</td>\n",
              "      <td>2000</td>\n",
              "      <td>1000</td>\n",
              "      <td>3000</td>\n",
              "      <td>1000</td>\n",
              "    </tr>\n",
              "    <tr>\n",
              "      <th>...</th>\n",
              "      <td>...</td>\n",
              "      <td>...</td>\n",
              "      <td>...</td>\n",
              "      <td>...</td>\n",
              "      <td>...</td>\n",
              "      <td>...</td>\n",
              "      <td>...</td>\n",
              "      <td>...</td>\n",
              "      <td>...</td>\n",
              "      <td>...</td>\n",
              "      <td>...</td>\n",
              "      <td>...</td>\n",
              "      <td>...</td>\n",
              "      <td>...</td>\n",
              "      <td>...</td>\n",
              "      <td>...</td>\n",
              "      <td>...</td>\n",
              "      <td>...</td>\n",
              "      <td>...</td>\n",
              "      <td>...</td>\n",
              "      <td>...</td>\n",
              "    </tr>\n",
              "    <tr>\n",
              "      <th>995</th>\n",
              "      <td>360000</td>\n",
              "      <td>2</td>\n",
              "      <td>1</td>\n",
              "      <td>2</td>\n",
              "      <td>29</td>\n",
              "      <td>-1</td>\n",
              "      <td>-1</td>\n",
              "      <td>-1</td>\n",
              "      <td>0</td>\n",
              "      <td>0</td>\n",
              "      <td>...</td>\n",
              "      <td>9118</td>\n",
              "      <td>19183</td>\n",
              "      <td>36842</td>\n",
              "      <td>10621</td>\n",
              "      <td>3050</td>\n",
              "      <td>9118</td>\n",
              "      <td>11000</td>\n",
              "      <td>30000</td>\n",
              "      <td>428</td>\n",
              "      <td>3166</td>\n",
              "    </tr>\n",
              "    <tr>\n",
              "      <th>996</th>\n",
              "      <td>20000</td>\n",
              "      <td>1</td>\n",
              "      <td>3</td>\n",
              "      <td>1</td>\n",
              "      <td>39</td>\n",
              "      <td>-1</td>\n",
              "      <td>2</td>\n",
              "      <td>2</td>\n",
              "      <td>2</td>\n",
              "      <td>-1</td>\n",
              "      <td>...</td>\n",
              "      <td>390</td>\n",
              "      <td>0</td>\n",
              "      <td>780</td>\n",
              "      <td>0</td>\n",
              "      <td>390</td>\n",
              "      <td>0</td>\n",
              "      <td>0</td>\n",
              "      <td>780</td>\n",
              "      <td>0</td>\n",
              "      <td>0</td>\n",
              "    </tr>\n",
              "    <tr>\n",
              "      <th>997</th>\n",
              "      <td>360000</td>\n",
              "      <td>1</td>\n",
              "      <td>3</td>\n",
              "      <td>2</td>\n",
              "      <td>33</td>\n",
              "      <td>-2</td>\n",
              "      <td>-2</td>\n",
              "      <td>-2</td>\n",
              "      <td>-2</td>\n",
              "      <td>-2</td>\n",
              "      <td>...</td>\n",
              "      <td>0</td>\n",
              "      <td>0</td>\n",
              "      <td>0</td>\n",
              "      <td>0</td>\n",
              "      <td>0</td>\n",
              "      <td>0</td>\n",
              "      <td>0</td>\n",
              "      <td>0</td>\n",
              "      <td>0</td>\n",
              "      <td>0</td>\n",
              "    </tr>\n",
              "    <tr>\n",
              "      <th>998</th>\n",
              "      <td>50000</td>\n",
              "      <td>1</td>\n",
              "      <td>3</td>\n",
              "      <td>1</td>\n",
              "      <td>51</td>\n",
              "      <td>0</td>\n",
              "      <td>0</td>\n",
              "      <td>0</td>\n",
              "      <td>0</td>\n",
              "      <td>0</td>\n",
              "      <td>...</td>\n",
              "      <td>64104</td>\n",
              "      <td>33406</td>\n",
              "      <td>34104</td>\n",
              "      <td>34869</td>\n",
              "      <td>3000</td>\n",
              "      <td>2500</td>\n",
              "      <td>1985</td>\n",
              "      <td>1163</td>\n",
              "      <td>1256</td>\n",
              "      <td>1316</td>\n",
              "    </tr>\n",
              "    <tr>\n",
              "      <th>999</th>\n",
              "      <td>360000</td>\n",
              "      <td>2</td>\n",
              "      <td>1</td>\n",
              "      <td>1</td>\n",
              "      <td>32</td>\n",
              "      <td>-1</td>\n",
              "      <td>-1</td>\n",
              "      <td>-1</td>\n",
              "      <td>-1</td>\n",
              "      <td>-1</td>\n",
              "      <td>...</td>\n",
              "      <td>5307</td>\n",
              "      <td>23102</td>\n",
              "      <td>64617</td>\n",
              "      <td>10542</td>\n",
              "      <td>18011</td>\n",
              "      <td>5307</td>\n",
              "      <td>23102</td>\n",
              "      <td>64617</td>\n",
              "      <td>10542</td>\n",
              "      <td>9702</td>\n",
              "    </tr>\n",
              "  </tbody>\n",
              "</table>\n",
              "<p>1000 rows × 23 columns</p>\n",
              "</div>\n",
              "    <div class=\"colab-df-buttons\">\n",
              "\n",
              "  <div class=\"colab-df-container\">\n",
              "    <button class=\"colab-df-convert\" onclick=\"convertToInteractive('df-3fcf8f74-e2bb-43b4-84d7-e3fb160fea67')\"\n",
              "            title=\"Convert this dataframe to an interactive table.\"\n",
              "            style=\"display:none;\">\n",
              "\n",
              "  <svg xmlns=\"http://www.w3.org/2000/svg\" height=\"24px\" viewBox=\"0 -960 960 960\">\n",
              "    <path d=\"M120-120v-720h720v720H120Zm60-500h600v-160H180v160Zm220 220h160v-160H400v160Zm0 220h160v-160H400v160ZM180-400h160v-160H180v160Zm440 0h160v-160H620v160ZM180-180h160v-160H180v160Zm440 0h160v-160H620v160Z\"/>\n",
              "  </svg>\n",
              "    </button>\n",
              "\n",
              "  <style>\n",
              "    .colab-df-container {\n",
              "      display:flex;\n",
              "      gap: 12px;\n",
              "    }\n",
              "\n",
              "    .colab-df-convert {\n",
              "      background-color: #E8F0FE;\n",
              "      border: none;\n",
              "      border-radius: 50%;\n",
              "      cursor: pointer;\n",
              "      display: none;\n",
              "      fill: #1967D2;\n",
              "      height: 32px;\n",
              "      padding: 0 0 0 0;\n",
              "      width: 32px;\n",
              "    }\n",
              "\n",
              "    .colab-df-convert:hover {\n",
              "      background-color: #E2EBFA;\n",
              "      box-shadow: 0px 1px 2px rgba(60, 64, 67, 0.3), 0px 1px 3px 1px rgba(60, 64, 67, 0.15);\n",
              "      fill: #174EA6;\n",
              "    }\n",
              "\n",
              "    .colab-df-buttons div {\n",
              "      margin-bottom: 4px;\n",
              "    }\n",
              "\n",
              "    [theme=dark] .colab-df-convert {\n",
              "      background-color: #3B4455;\n",
              "      fill: #D2E3FC;\n",
              "    }\n",
              "\n",
              "    [theme=dark] .colab-df-convert:hover {\n",
              "      background-color: #434B5C;\n",
              "      box-shadow: 0px 1px 3px 1px rgba(0, 0, 0, 0.15);\n",
              "      filter: drop-shadow(0px 1px 2px rgba(0, 0, 0, 0.3));\n",
              "      fill: #FFFFFF;\n",
              "    }\n",
              "  </style>\n",
              "\n",
              "    <script>\n",
              "      const buttonEl =\n",
              "        document.querySelector('#df-3fcf8f74-e2bb-43b4-84d7-e3fb160fea67 button.colab-df-convert');\n",
              "      buttonEl.style.display =\n",
              "        google.colab.kernel.accessAllowed ? 'block' : 'none';\n",
              "\n",
              "      async function convertToInteractive(key) {\n",
              "        const element = document.querySelector('#df-3fcf8f74-e2bb-43b4-84d7-e3fb160fea67');\n",
              "        const dataTable =\n",
              "          await google.colab.kernel.invokeFunction('convertToInteractive',\n",
              "                                                    [key], {});\n",
              "        if (!dataTable) return;\n",
              "\n",
              "        const docLinkHtml = 'Like what you see? Visit the ' +\n",
              "          '<a target=\"_blank\" href=https://colab.research.google.com/notebooks/data_table.ipynb>data table notebook</a>'\n",
              "          + ' to learn more about interactive tables.';\n",
              "        element.innerHTML = '';\n",
              "        dataTable['output_type'] = 'display_data';\n",
              "        await google.colab.output.renderOutput(dataTable, element);\n",
              "        const docLink = document.createElement('div');\n",
              "        docLink.innerHTML = docLinkHtml;\n",
              "        element.appendChild(docLink);\n",
              "      }\n",
              "    </script>\n",
              "  </div>\n",
              "\n",
              "\n",
              "<div id=\"df-4b63ef1f-ff63-422d-9fad-3cd3a854b879\">\n",
              "  <button class=\"colab-df-quickchart\" onclick=\"quickchart('df-4b63ef1f-ff63-422d-9fad-3cd3a854b879')\"\n",
              "            title=\"Suggest charts\"\n",
              "            style=\"display:none;\">\n",
              "\n",
              "<svg xmlns=\"http://www.w3.org/2000/svg\" height=\"24px\"viewBox=\"0 0 24 24\"\n",
              "     width=\"24px\">\n",
              "    <g>\n",
              "        <path d=\"M19 3H5c-1.1 0-2 .9-2 2v14c0 1.1.9 2 2 2h14c1.1 0 2-.9 2-2V5c0-1.1-.9-2-2-2zM9 17H7v-7h2v7zm4 0h-2V7h2v10zm4 0h-2v-4h2v4z\"/>\n",
              "    </g>\n",
              "</svg>\n",
              "  </button>\n",
              "\n",
              "<style>\n",
              "  .colab-df-quickchart {\n",
              "      --bg-color: #E8F0FE;\n",
              "      --fill-color: #1967D2;\n",
              "      --hover-bg-color: #E2EBFA;\n",
              "      --hover-fill-color: #174EA6;\n",
              "      --disabled-fill-color: #AAA;\n",
              "      --disabled-bg-color: #DDD;\n",
              "  }\n",
              "\n",
              "  [theme=dark] .colab-df-quickchart {\n",
              "      --bg-color: #3B4455;\n",
              "      --fill-color: #D2E3FC;\n",
              "      --hover-bg-color: #434B5C;\n",
              "      --hover-fill-color: #FFFFFF;\n",
              "      --disabled-bg-color: #3B4455;\n",
              "      --disabled-fill-color: #666;\n",
              "  }\n",
              "\n",
              "  .colab-df-quickchart {\n",
              "    background-color: var(--bg-color);\n",
              "    border: none;\n",
              "    border-radius: 50%;\n",
              "    cursor: pointer;\n",
              "    display: none;\n",
              "    fill: var(--fill-color);\n",
              "    height: 32px;\n",
              "    padding: 0;\n",
              "    width: 32px;\n",
              "  }\n",
              "\n",
              "  .colab-df-quickchart:hover {\n",
              "    background-color: var(--hover-bg-color);\n",
              "    box-shadow: 0 1px 2px rgba(60, 64, 67, 0.3), 0 1px 3px 1px rgba(60, 64, 67, 0.15);\n",
              "    fill: var(--button-hover-fill-color);\n",
              "  }\n",
              "\n",
              "  .colab-df-quickchart-complete:disabled,\n",
              "  .colab-df-quickchart-complete:disabled:hover {\n",
              "    background-color: var(--disabled-bg-color);\n",
              "    fill: var(--disabled-fill-color);\n",
              "    box-shadow: none;\n",
              "  }\n",
              "\n",
              "  .colab-df-spinner {\n",
              "    border: 2px solid var(--fill-color);\n",
              "    border-color: transparent;\n",
              "    border-bottom-color: var(--fill-color);\n",
              "    animation:\n",
              "      spin 1s steps(1) infinite;\n",
              "  }\n",
              "\n",
              "  @keyframes spin {\n",
              "    0% {\n",
              "      border-color: transparent;\n",
              "      border-bottom-color: var(--fill-color);\n",
              "      border-left-color: var(--fill-color);\n",
              "    }\n",
              "    20% {\n",
              "      border-color: transparent;\n",
              "      border-left-color: var(--fill-color);\n",
              "      border-top-color: var(--fill-color);\n",
              "    }\n",
              "    30% {\n",
              "      border-color: transparent;\n",
              "      border-left-color: var(--fill-color);\n",
              "      border-top-color: var(--fill-color);\n",
              "      border-right-color: var(--fill-color);\n",
              "    }\n",
              "    40% {\n",
              "      border-color: transparent;\n",
              "      border-right-color: var(--fill-color);\n",
              "      border-top-color: var(--fill-color);\n",
              "    }\n",
              "    60% {\n",
              "      border-color: transparent;\n",
              "      border-right-color: var(--fill-color);\n",
              "    }\n",
              "    80% {\n",
              "      border-color: transparent;\n",
              "      border-right-color: var(--fill-color);\n",
              "      border-bottom-color: var(--fill-color);\n",
              "    }\n",
              "    90% {\n",
              "      border-color: transparent;\n",
              "      border-bottom-color: var(--fill-color);\n",
              "    }\n",
              "  }\n",
              "</style>\n",
              "\n",
              "  <script>\n",
              "    async function quickchart(key) {\n",
              "      const quickchartButtonEl =\n",
              "        document.querySelector('#' + key + ' button');\n",
              "      quickchartButtonEl.disabled = true;  // To prevent multiple clicks.\n",
              "      quickchartButtonEl.classList.add('colab-df-spinner');\n",
              "      try {\n",
              "        const charts = await google.colab.kernel.invokeFunction(\n",
              "            'suggestCharts', [key], {});\n",
              "      } catch (error) {\n",
              "        console.error('Error during call to suggestCharts:', error);\n",
              "      }\n",
              "      quickchartButtonEl.classList.remove('colab-df-spinner');\n",
              "      quickchartButtonEl.classList.add('colab-df-quickchart-complete');\n",
              "    }\n",
              "    (() => {\n",
              "      let quickchartButtonEl =\n",
              "        document.querySelector('#df-4b63ef1f-ff63-422d-9fad-3cd3a854b879 button');\n",
              "      quickchartButtonEl.style.display =\n",
              "        google.colab.kernel.accessAllowed ? 'block' : 'none';\n",
              "    })();\n",
              "  </script>\n",
              "</div>\n",
              "\n",
              "  <div id=\"id_76d5c766-79cc-4cac-926d-1bfad6056024\">\n",
              "    <style>\n",
              "      .colab-df-generate {\n",
              "        background-color: #E8F0FE;\n",
              "        border: none;\n",
              "        border-radius: 50%;\n",
              "        cursor: pointer;\n",
              "        display: none;\n",
              "        fill: #1967D2;\n",
              "        height: 32px;\n",
              "        padding: 0 0 0 0;\n",
              "        width: 32px;\n",
              "      }\n",
              "\n",
              "      .colab-df-generate:hover {\n",
              "        background-color: #E2EBFA;\n",
              "        box-shadow: 0px 1px 2px rgba(60, 64, 67, 0.3), 0px 1px 3px 1px rgba(60, 64, 67, 0.15);\n",
              "        fill: #174EA6;\n",
              "      }\n",
              "\n",
              "      [theme=dark] .colab-df-generate {\n",
              "        background-color: #3B4455;\n",
              "        fill: #D2E3FC;\n",
              "      }\n",
              "\n",
              "      [theme=dark] .colab-df-generate:hover {\n",
              "        background-color: #434B5C;\n",
              "        box-shadow: 0px 1px 3px 1px rgba(0, 0, 0, 0.15);\n",
              "        filter: drop-shadow(0px 1px 2px rgba(0, 0, 0, 0.3));\n",
              "        fill: #FFFFFF;\n",
              "      }\n",
              "    </style>\n",
              "    <button class=\"colab-df-generate\" onclick=\"generateWithVariable('test')\"\n",
              "            title=\"Generate code using this dataframe.\"\n",
              "            style=\"display:none;\">\n",
              "\n",
              "  <svg xmlns=\"http://www.w3.org/2000/svg\" height=\"24px\"viewBox=\"0 0 24 24\"\n",
              "       width=\"24px\">\n",
              "    <path d=\"M7,19H8.4L18.45,9,17,7.55,7,17.6ZM5,21V16.75L18.45,3.32a2,2,0,0,1,2.83,0l1.4,1.43a1.91,1.91,0,0,1,.58,1.4,1.91,1.91,0,0,1-.58,1.4L9.25,21ZM18.45,9,17,7.55Zm-12,3A5.31,5.31,0,0,0,4.9,8.1,5.31,5.31,0,0,0,1,6.5,5.31,5.31,0,0,0,4.9,4.9,5.31,5.31,0,0,0,6.5,1,5.31,5.31,0,0,0,8.1,4.9,5.31,5.31,0,0,0,12,6.5,5.46,5.46,0,0,0,6.5,12Z\"/>\n",
              "  </svg>\n",
              "    </button>\n",
              "    <script>\n",
              "      (() => {\n",
              "      const buttonEl =\n",
              "        document.querySelector('#id_76d5c766-79cc-4cac-926d-1bfad6056024 button.colab-df-generate');\n",
              "      buttonEl.style.display =\n",
              "        google.colab.kernel.accessAllowed ? 'block' : 'none';\n",
              "\n",
              "      buttonEl.onclick = () => {\n",
              "        google.colab.notebook.generateWithVariable('test');\n",
              "      }\n",
              "      })();\n",
              "    </script>\n",
              "  </div>\n",
              "\n",
              "    </div>\n",
              "  </div>\n"
            ]
          },
          "metadata": {},
          "execution_count": 37
        }
      ],
      "source": [
        "test"
      ]
    },
    {
      "cell_type": "code",
      "execution_count": null,
      "metadata": {
        "colab": {
          "base_uri": "https://localhost:8080/"
        },
        "id": "ZCaVmScdwX1I",
        "outputId": "faead826-c8c7-4e41-cc90-74d4ed4f5a82"
      },
      "outputs": [
        {
          "output_type": "stream",
          "name": "stderr",
          "text": [
            "/usr/local/lib/python3.10/dist-packages/sklearn/preprocessing/_encoders.py:868: FutureWarning: `sparse` was renamed to `sparse_output` in version 1.2 and will be removed in 1.4. `sparse_output` is ignored unless you leave `sparse` to its default value.\n",
            "  warnings.warn(\n"
          ]
        }
      ],
      "source": [
        "col_categorical = ['SEX', 'EDUCATION', 'MARRIAGE', 'PAY_1', 'PAY_2', 'PAY_3', 'PAY_4', 'PAY_5', 'PAY_6']\n",
        "numeric_data = X.drop(columns=col_categorical)\n",
        "X_numeric = pd.DataFrame(scaler.fit_transform(numeric_data),columns=numeric_data.columns)\n",
        "test_x_numeric = pd.DataFrame(scaler.transform(test.drop(columns=col_categorical)),columns=numeric_data.columns)\n",
        "x_categorical = pd.DataFrame(enc.fit_transform(X[col_categorical]),columns=enc.get_feature_names_out(col_categorical))\n",
        "test_x_categorical = pd.DataFrame(enc.transform(test[col_categorical]),columns=enc.get_feature_names_out(col_categorical))\n",
        "X_full = pd.concat([X_numeric,x_categorical],axis=1)\n",
        "test_full = pd.concat([test_x_numeric,test_x_categorical],axis=1)"
      ]
    },
    {
      "cell_type": "code",
      "execution_count": null,
      "metadata": {
        "colab": {
          "base_uri": "https://localhost:8080/",
          "height": 444
        },
        "id": "BKH07aXSwX1J",
        "outputId": "33ba1d7f-fb17-458a-c144-4154a5caf807"
      },
      "outputs": [
        {
          "output_type": "execute_result",
          "data": {
            "text/plain": [
              "      LIMIT_BAL       AGE  BILL_AMT1  BILL_AMT2  BILL_AMT3  BILL_AMT4  \\\n",
              "0     -0.902690 -1.237370  -0.659401  -0.657623  -0.653395  -0.558590   \n",
              "1     -0.751263 -1.237370   0.123571   0.174192   0.222944   0.299113   \n",
              "2      1.898720  0.816144  -0.573530  -0.484216  -0.572498  -0.613365   \n",
              "3     -1.054118  1.896941  -0.680080  -0.679090  -0.618263  -0.598931   \n",
              "4     -0.902690  1.464622  -0.427412  -0.411319  -0.357541  -0.331676   \n",
              "...         ...       ...        ...        ...        ...        ...   \n",
              "3980   2.504431  0.491905   2.154786   2.249624   2.419276   2.557744   \n",
              "3981   1.671579 -0.805051  -0.661388  -0.661528  -0.645646  -0.622610   \n",
              "3982  -0.372694 -0.696972   0.687235   0.648951   0.720830   0.847630   \n",
              "3983  -0.675549  0.708064  -0.079045  -0.041863  -0.006120   0.056998   \n",
              "3984  -0.524121  0.816144   0.645772   0.573705   0.574562   0.682125   \n",
              "\n",
              "      BILL_AMT5  BILL_AMT6  PAY_AMT1  PAY_AMT2  ...  PAY_5_7  PAY_6_-2  \\\n",
              "0     -0.564919  -0.630095 -0.264370 -0.244519  ...      0.0       0.0   \n",
              "1      0.397532   0.500862 -0.175510 -0.171175  ...      0.0       0.0   \n",
              "2     -0.597173  -0.540866  0.526037  0.097548  ...      0.0       1.0   \n",
              "3     -0.584702  -0.635727 -0.362190 -0.116218  ...      0.0       0.0   \n",
              "4     -0.296197  -0.272334 -0.299963 -0.154688  ...      0.0       0.0   \n",
              "...         ...        ...       ...       ...  ...      ...       ...   \n",
              "3980   1.846357   1.751360  0.260328  0.189638  ...      0.0       0.0   \n",
              "3981  -0.625645  -0.582393 -0.281669 -0.215705  ...      0.0       0.0   \n",
              "3982   0.961260   1.054152 -0.362190 -0.094133  ...      0.0       0.0   \n",
              "3983   0.127373   0.168754 -0.237736 -0.222536  ...      0.0       0.0   \n",
              "3984   0.800568   0.629688 -0.362190 -0.114318  ...      0.0       0.0   \n",
              "\n",
              "      PAY_6_-1  PAY_6_0  PAY_6_2  PAY_6_3  PAY_6_4  PAY_6_5  PAY_6_6  PAY_6_7  \n",
              "0          1.0      0.0      0.0      0.0      0.0      0.0      0.0      0.0  \n",
              "1          0.0      1.0      0.0      0.0      0.0      0.0      0.0      0.0  \n",
              "2          0.0      0.0      0.0      0.0      0.0      0.0      0.0      0.0  \n",
              "3          0.0      1.0      0.0      0.0      0.0      0.0      0.0      0.0  \n",
              "4          0.0      1.0      0.0      0.0      0.0      0.0      0.0      0.0  \n",
              "...        ...      ...      ...      ...      ...      ...      ...      ...  \n",
              "3980       0.0      1.0      0.0      0.0      0.0      0.0      0.0      0.0  \n",
              "3981       1.0      0.0      0.0      0.0      0.0      0.0      0.0      0.0  \n",
              "3982       0.0      1.0      0.0      0.0      0.0      0.0      0.0      0.0  \n",
              "3983       0.0      0.0      1.0      0.0      0.0      0.0      0.0      0.0  \n",
              "3984       0.0      1.0      0.0      0.0      0.0      0.0      0.0      0.0  \n",
              "\n",
              "[3985 rows x 82 columns]"
            ],
            "text/html": [
              "\n",
              "  <div id=\"df-45ff7aa2-f8f3-4346-8ea4-2a51590a31a4\" class=\"colab-df-container\">\n",
              "    <div>\n",
              "<style scoped>\n",
              "    .dataframe tbody tr th:only-of-type {\n",
              "        vertical-align: middle;\n",
              "    }\n",
              "\n",
              "    .dataframe tbody tr th {\n",
              "        vertical-align: top;\n",
              "    }\n",
              "\n",
              "    .dataframe thead th {\n",
              "        text-align: right;\n",
              "    }\n",
              "</style>\n",
              "<table border=\"1\" class=\"dataframe\">\n",
              "  <thead>\n",
              "    <tr style=\"text-align: right;\">\n",
              "      <th></th>\n",
              "      <th>LIMIT_BAL</th>\n",
              "      <th>AGE</th>\n",
              "      <th>BILL_AMT1</th>\n",
              "      <th>BILL_AMT2</th>\n",
              "      <th>BILL_AMT3</th>\n",
              "      <th>BILL_AMT4</th>\n",
              "      <th>BILL_AMT5</th>\n",
              "      <th>BILL_AMT6</th>\n",
              "      <th>PAY_AMT1</th>\n",
              "      <th>PAY_AMT2</th>\n",
              "      <th>...</th>\n",
              "      <th>PAY_5_7</th>\n",
              "      <th>PAY_6_-2</th>\n",
              "      <th>PAY_6_-1</th>\n",
              "      <th>PAY_6_0</th>\n",
              "      <th>PAY_6_2</th>\n",
              "      <th>PAY_6_3</th>\n",
              "      <th>PAY_6_4</th>\n",
              "      <th>PAY_6_5</th>\n",
              "      <th>PAY_6_6</th>\n",
              "      <th>PAY_6_7</th>\n",
              "    </tr>\n",
              "  </thead>\n",
              "  <tbody>\n",
              "    <tr>\n",
              "      <th>0</th>\n",
              "      <td>-0.902690</td>\n",
              "      <td>-1.237370</td>\n",
              "      <td>-0.659401</td>\n",
              "      <td>-0.657623</td>\n",
              "      <td>-0.653395</td>\n",
              "      <td>-0.558590</td>\n",
              "      <td>-0.564919</td>\n",
              "      <td>-0.630095</td>\n",
              "      <td>-0.264370</td>\n",
              "      <td>-0.244519</td>\n",
              "      <td>...</td>\n",
              "      <td>0.0</td>\n",
              "      <td>0.0</td>\n",
              "      <td>1.0</td>\n",
              "      <td>0.0</td>\n",
              "      <td>0.0</td>\n",
              "      <td>0.0</td>\n",
              "      <td>0.0</td>\n",
              "      <td>0.0</td>\n",
              "      <td>0.0</td>\n",
              "      <td>0.0</td>\n",
              "    </tr>\n",
              "    <tr>\n",
              "      <th>1</th>\n",
              "      <td>-0.751263</td>\n",
              "      <td>-1.237370</td>\n",
              "      <td>0.123571</td>\n",
              "      <td>0.174192</td>\n",
              "      <td>0.222944</td>\n",
              "      <td>0.299113</td>\n",
              "      <td>0.397532</td>\n",
              "      <td>0.500862</td>\n",
              "      <td>-0.175510</td>\n",
              "      <td>-0.171175</td>\n",
              "      <td>...</td>\n",
              "      <td>0.0</td>\n",
              "      <td>0.0</td>\n",
              "      <td>0.0</td>\n",
              "      <td>1.0</td>\n",
              "      <td>0.0</td>\n",
              "      <td>0.0</td>\n",
              "      <td>0.0</td>\n",
              "      <td>0.0</td>\n",
              "      <td>0.0</td>\n",
              "      <td>0.0</td>\n",
              "    </tr>\n",
              "    <tr>\n",
              "      <th>2</th>\n",
              "      <td>1.898720</td>\n",
              "      <td>0.816144</td>\n",
              "      <td>-0.573530</td>\n",
              "      <td>-0.484216</td>\n",
              "      <td>-0.572498</td>\n",
              "      <td>-0.613365</td>\n",
              "      <td>-0.597173</td>\n",
              "      <td>-0.540866</td>\n",
              "      <td>0.526037</td>\n",
              "      <td>0.097548</td>\n",
              "      <td>...</td>\n",
              "      <td>0.0</td>\n",
              "      <td>1.0</td>\n",
              "      <td>0.0</td>\n",
              "      <td>0.0</td>\n",
              "      <td>0.0</td>\n",
              "      <td>0.0</td>\n",
              "      <td>0.0</td>\n",
              "      <td>0.0</td>\n",
              "      <td>0.0</td>\n",
              "      <td>0.0</td>\n",
              "    </tr>\n",
              "    <tr>\n",
              "      <th>3</th>\n",
              "      <td>-1.054118</td>\n",
              "      <td>1.896941</td>\n",
              "      <td>-0.680080</td>\n",
              "      <td>-0.679090</td>\n",
              "      <td>-0.618263</td>\n",
              "      <td>-0.598931</td>\n",
              "      <td>-0.584702</td>\n",
              "      <td>-0.635727</td>\n",
              "      <td>-0.362190</td>\n",
              "      <td>-0.116218</td>\n",
              "      <td>...</td>\n",
              "      <td>0.0</td>\n",
              "      <td>0.0</td>\n",
              "      <td>0.0</td>\n",
              "      <td>1.0</td>\n",
              "      <td>0.0</td>\n",
              "      <td>0.0</td>\n",
              "      <td>0.0</td>\n",
              "      <td>0.0</td>\n",
              "      <td>0.0</td>\n",
              "      <td>0.0</td>\n",
              "    </tr>\n",
              "    <tr>\n",
              "      <th>4</th>\n",
              "      <td>-0.902690</td>\n",
              "      <td>1.464622</td>\n",
              "      <td>-0.427412</td>\n",
              "      <td>-0.411319</td>\n",
              "      <td>-0.357541</td>\n",
              "      <td>-0.331676</td>\n",
              "      <td>-0.296197</td>\n",
              "      <td>-0.272334</td>\n",
              "      <td>-0.299963</td>\n",
              "      <td>-0.154688</td>\n",
              "      <td>...</td>\n",
              "      <td>0.0</td>\n",
              "      <td>0.0</td>\n",
              "      <td>0.0</td>\n",
              "      <td>1.0</td>\n",
              "      <td>0.0</td>\n",
              "      <td>0.0</td>\n",
              "      <td>0.0</td>\n",
              "      <td>0.0</td>\n",
              "      <td>0.0</td>\n",
              "      <td>0.0</td>\n",
              "    </tr>\n",
              "    <tr>\n",
              "      <th>...</th>\n",
              "      <td>...</td>\n",
              "      <td>...</td>\n",
              "      <td>...</td>\n",
              "      <td>...</td>\n",
              "      <td>...</td>\n",
              "      <td>...</td>\n",
              "      <td>...</td>\n",
              "      <td>...</td>\n",
              "      <td>...</td>\n",
              "      <td>...</td>\n",
              "      <td>...</td>\n",
              "      <td>...</td>\n",
              "      <td>...</td>\n",
              "      <td>...</td>\n",
              "      <td>...</td>\n",
              "      <td>...</td>\n",
              "      <td>...</td>\n",
              "      <td>...</td>\n",
              "      <td>...</td>\n",
              "      <td>...</td>\n",
              "      <td>...</td>\n",
              "    </tr>\n",
              "    <tr>\n",
              "      <th>3980</th>\n",
              "      <td>2.504431</td>\n",
              "      <td>0.491905</td>\n",
              "      <td>2.154786</td>\n",
              "      <td>2.249624</td>\n",
              "      <td>2.419276</td>\n",
              "      <td>2.557744</td>\n",
              "      <td>1.846357</td>\n",
              "      <td>1.751360</td>\n",
              "      <td>0.260328</td>\n",
              "      <td>0.189638</td>\n",
              "      <td>...</td>\n",
              "      <td>0.0</td>\n",
              "      <td>0.0</td>\n",
              "      <td>0.0</td>\n",
              "      <td>1.0</td>\n",
              "      <td>0.0</td>\n",
              "      <td>0.0</td>\n",
              "      <td>0.0</td>\n",
              "      <td>0.0</td>\n",
              "      <td>0.0</td>\n",
              "      <td>0.0</td>\n",
              "    </tr>\n",
              "    <tr>\n",
              "      <th>3981</th>\n",
              "      <td>1.671579</td>\n",
              "      <td>-0.805051</td>\n",
              "      <td>-0.661388</td>\n",
              "      <td>-0.661528</td>\n",
              "      <td>-0.645646</td>\n",
              "      <td>-0.622610</td>\n",
              "      <td>-0.625645</td>\n",
              "      <td>-0.582393</td>\n",
              "      <td>-0.281669</td>\n",
              "      <td>-0.215705</td>\n",
              "      <td>...</td>\n",
              "      <td>0.0</td>\n",
              "      <td>0.0</td>\n",
              "      <td>1.0</td>\n",
              "      <td>0.0</td>\n",
              "      <td>0.0</td>\n",
              "      <td>0.0</td>\n",
              "      <td>0.0</td>\n",
              "      <td>0.0</td>\n",
              "      <td>0.0</td>\n",
              "      <td>0.0</td>\n",
              "    </tr>\n",
              "    <tr>\n",
              "      <th>3982</th>\n",
              "      <td>-0.372694</td>\n",
              "      <td>-0.696972</td>\n",
              "      <td>0.687235</td>\n",
              "      <td>0.648951</td>\n",
              "      <td>0.720830</td>\n",
              "      <td>0.847630</td>\n",
              "      <td>0.961260</td>\n",
              "      <td>1.054152</td>\n",
              "      <td>-0.362190</td>\n",
              "      <td>-0.094133</td>\n",
              "      <td>...</td>\n",
              "      <td>0.0</td>\n",
              "      <td>0.0</td>\n",
              "      <td>0.0</td>\n",
              "      <td>1.0</td>\n",
              "      <td>0.0</td>\n",
              "      <td>0.0</td>\n",
              "      <td>0.0</td>\n",
              "      <td>0.0</td>\n",
              "      <td>0.0</td>\n",
              "      <td>0.0</td>\n",
              "    </tr>\n",
              "    <tr>\n",
              "      <th>3983</th>\n",
              "      <td>-0.675549</td>\n",
              "      <td>0.708064</td>\n",
              "      <td>-0.079045</td>\n",
              "      <td>-0.041863</td>\n",
              "      <td>-0.006120</td>\n",
              "      <td>0.056998</td>\n",
              "      <td>0.127373</td>\n",
              "      <td>0.168754</td>\n",
              "      <td>-0.237736</td>\n",
              "      <td>-0.222536</td>\n",
              "      <td>...</td>\n",
              "      <td>0.0</td>\n",
              "      <td>0.0</td>\n",
              "      <td>0.0</td>\n",
              "      <td>0.0</td>\n",
              "      <td>1.0</td>\n",
              "      <td>0.0</td>\n",
              "      <td>0.0</td>\n",
              "      <td>0.0</td>\n",
              "      <td>0.0</td>\n",
              "      <td>0.0</td>\n",
              "    </tr>\n",
              "    <tr>\n",
              "      <th>3984</th>\n",
              "      <td>-0.524121</td>\n",
              "      <td>0.816144</td>\n",
              "      <td>0.645772</td>\n",
              "      <td>0.573705</td>\n",
              "      <td>0.574562</td>\n",
              "      <td>0.682125</td>\n",
              "      <td>0.800568</td>\n",
              "      <td>0.629688</td>\n",
              "      <td>-0.362190</td>\n",
              "      <td>-0.114318</td>\n",
              "      <td>...</td>\n",
              "      <td>0.0</td>\n",
              "      <td>0.0</td>\n",
              "      <td>0.0</td>\n",
              "      <td>1.0</td>\n",
              "      <td>0.0</td>\n",
              "      <td>0.0</td>\n",
              "      <td>0.0</td>\n",
              "      <td>0.0</td>\n",
              "      <td>0.0</td>\n",
              "      <td>0.0</td>\n",
              "    </tr>\n",
              "  </tbody>\n",
              "</table>\n",
              "<p>3985 rows × 82 columns</p>\n",
              "</div>\n",
              "    <div class=\"colab-df-buttons\">\n",
              "\n",
              "  <div class=\"colab-df-container\">\n",
              "    <button class=\"colab-df-convert\" onclick=\"convertToInteractive('df-45ff7aa2-f8f3-4346-8ea4-2a51590a31a4')\"\n",
              "            title=\"Convert this dataframe to an interactive table.\"\n",
              "            style=\"display:none;\">\n",
              "\n",
              "  <svg xmlns=\"http://www.w3.org/2000/svg\" height=\"24px\" viewBox=\"0 -960 960 960\">\n",
              "    <path d=\"M120-120v-720h720v720H120Zm60-500h600v-160H180v160Zm220 220h160v-160H400v160Zm0 220h160v-160H400v160ZM180-400h160v-160H180v160Zm440 0h160v-160H620v160ZM180-180h160v-160H180v160Zm440 0h160v-160H620v160Z\"/>\n",
              "  </svg>\n",
              "    </button>\n",
              "\n",
              "  <style>\n",
              "    .colab-df-container {\n",
              "      display:flex;\n",
              "      gap: 12px;\n",
              "    }\n",
              "\n",
              "    .colab-df-convert {\n",
              "      background-color: #E8F0FE;\n",
              "      border: none;\n",
              "      border-radius: 50%;\n",
              "      cursor: pointer;\n",
              "      display: none;\n",
              "      fill: #1967D2;\n",
              "      height: 32px;\n",
              "      padding: 0 0 0 0;\n",
              "      width: 32px;\n",
              "    }\n",
              "\n",
              "    .colab-df-convert:hover {\n",
              "      background-color: #E2EBFA;\n",
              "      box-shadow: 0px 1px 2px rgba(60, 64, 67, 0.3), 0px 1px 3px 1px rgba(60, 64, 67, 0.15);\n",
              "      fill: #174EA6;\n",
              "    }\n",
              "\n",
              "    .colab-df-buttons div {\n",
              "      margin-bottom: 4px;\n",
              "    }\n",
              "\n",
              "    [theme=dark] .colab-df-convert {\n",
              "      background-color: #3B4455;\n",
              "      fill: #D2E3FC;\n",
              "    }\n",
              "\n",
              "    [theme=dark] .colab-df-convert:hover {\n",
              "      background-color: #434B5C;\n",
              "      box-shadow: 0px 1px 3px 1px rgba(0, 0, 0, 0.15);\n",
              "      filter: drop-shadow(0px 1px 2px rgba(0, 0, 0, 0.3));\n",
              "      fill: #FFFFFF;\n",
              "    }\n",
              "  </style>\n",
              "\n",
              "    <script>\n",
              "      const buttonEl =\n",
              "        document.querySelector('#df-45ff7aa2-f8f3-4346-8ea4-2a51590a31a4 button.colab-df-convert');\n",
              "      buttonEl.style.display =\n",
              "        google.colab.kernel.accessAllowed ? 'block' : 'none';\n",
              "\n",
              "      async function convertToInteractive(key) {\n",
              "        const element = document.querySelector('#df-45ff7aa2-f8f3-4346-8ea4-2a51590a31a4');\n",
              "        const dataTable =\n",
              "          await google.colab.kernel.invokeFunction('convertToInteractive',\n",
              "                                                    [key], {});\n",
              "        if (!dataTable) return;\n",
              "\n",
              "        const docLinkHtml = 'Like what you see? Visit the ' +\n",
              "          '<a target=\"_blank\" href=https://colab.research.google.com/notebooks/data_table.ipynb>data table notebook</a>'\n",
              "          + ' to learn more about interactive tables.';\n",
              "        element.innerHTML = '';\n",
              "        dataTable['output_type'] = 'display_data';\n",
              "        await google.colab.output.renderOutput(dataTable, element);\n",
              "        const docLink = document.createElement('div');\n",
              "        docLink.innerHTML = docLinkHtml;\n",
              "        element.appendChild(docLink);\n",
              "      }\n",
              "    </script>\n",
              "  </div>\n",
              "\n",
              "\n",
              "<div id=\"df-ac5bc1df-132c-48ee-b94d-de42f769f66f\">\n",
              "  <button class=\"colab-df-quickchart\" onclick=\"quickchart('df-ac5bc1df-132c-48ee-b94d-de42f769f66f')\"\n",
              "            title=\"Suggest charts\"\n",
              "            style=\"display:none;\">\n",
              "\n",
              "<svg xmlns=\"http://www.w3.org/2000/svg\" height=\"24px\"viewBox=\"0 0 24 24\"\n",
              "     width=\"24px\">\n",
              "    <g>\n",
              "        <path d=\"M19 3H5c-1.1 0-2 .9-2 2v14c0 1.1.9 2 2 2h14c1.1 0 2-.9 2-2V5c0-1.1-.9-2-2-2zM9 17H7v-7h2v7zm4 0h-2V7h2v10zm4 0h-2v-4h2v4z\"/>\n",
              "    </g>\n",
              "</svg>\n",
              "  </button>\n",
              "\n",
              "<style>\n",
              "  .colab-df-quickchart {\n",
              "      --bg-color: #E8F0FE;\n",
              "      --fill-color: #1967D2;\n",
              "      --hover-bg-color: #E2EBFA;\n",
              "      --hover-fill-color: #174EA6;\n",
              "      --disabled-fill-color: #AAA;\n",
              "      --disabled-bg-color: #DDD;\n",
              "  }\n",
              "\n",
              "  [theme=dark] .colab-df-quickchart {\n",
              "      --bg-color: #3B4455;\n",
              "      --fill-color: #D2E3FC;\n",
              "      --hover-bg-color: #434B5C;\n",
              "      --hover-fill-color: #FFFFFF;\n",
              "      --disabled-bg-color: #3B4455;\n",
              "      --disabled-fill-color: #666;\n",
              "  }\n",
              "\n",
              "  .colab-df-quickchart {\n",
              "    background-color: var(--bg-color);\n",
              "    border: none;\n",
              "    border-radius: 50%;\n",
              "    cursor: pointer;\n",
              "    display: none;\n",
              "    fill: var(--fill-color);\n",
              "    height: 32px;\n",
              "    padding: 0;\n",
              "    width: 32px;\n",
              "  }\n",
              "\n",
              "  .colab-df-quickchart:hover {\n",
              "    background-color: var(--hover-bg-color);\n",
              "    box-shadow: 0 1px 2px rgba(60, 64, 67, 0.3), 0 1px 3px 1px rgba(60, 64, 67, 0.15);\n",
              "    fill: var(--button-hover-fill-color);\n",
              "  }\n",
              "\n",
              "  .colab-df-quickchart-complete:disabled,\n",
              "  .colab-df-quickchart-complete:disabled:hover {\n",
              "    background-color: var(--disabled-bg-color);\n",
              "    fill: var(--disabled-fill-color);\n",
              "    box-shadow: none;\n",
              "  }\n",
              "\n",
              "  .colab-df-spinner {\n",
              "    border: 2px solid var(--fill-color);\n",
              "    border-color: transparent;\n",
              "    border-bottom-color: var(--fill-color);\n",
              "    animation:\n",
              "      spin 1s steps(1) infinite;\n",
              "  }\n",
              "\n",
              "  @keyframes spin {\n",
              "    0% {\n",
              "      border-color: transparent;\n",
              "      border-bottom-color: var(--fill-color);\n",
              "      border-left-color: var(--fill-color);\n",
              "    }\n",
              "    20% {\n",
              "      border-color: transparent;\n",
              "      border-left-color: var(--fill-color);\n",
              "      border-top-color: var(--fill-color);\n",
              "    }\n",
              "    30% {\n",
              "      border-color: transparent;\n",
              "      border-left-color: var(--fill-color);\n",
              "      border-top-color: var(--fill-color);\n",
              "      border-right-color: var(--fill-color);\n",
              "    }\n",
              "    40% {\n",
              "      border-color: transparent;\n",
              "      border-right-color: var(--fill-color);\n",
              "      border-top-color: var(--fill-color);\n",
              "    }\n",
              "    60% {\n",
              "      border-color: transparent;\n",
              "      border-right-color: var(--fill-color);\n",
              "    }\n",
              "    80% {\n",
              "      border-color: transparent;\n",
              "      border-right-color: var(--fill-color);\n",
              "      border-bottom-color: var(--fill-color);\n",
              "    }\n",
              "    90% {\n",
              "      border-color: transparent;\n",
              "      border-bottom-color: var(--fill-color);\n",
              "    }\n",
              "  }\n",
              "</style>\n",
              "\n",
              "  <script>\n",
              "    async function quickchart(key) {\n",
              "      const quickchartButtonEl =\n",
              "        document.querySelector('#' + key + ' button');\n",
              "      quickchartButtonEl.disabled = true;  // To prevent multiple clicks.\n",
              "      quickchartButtonEl.classList.add('colab-df-spinner');\n",
              "      try {\n",
              "        const charts = await google.colab.kernel.invokeFunction(\n",
              "            'suggestCharts', [key], {});\n",
              "      } catch (error) {\n",
              "        console.error('Error during call to suggestCharts:', error);\n",
              "      }\n",
              "      quickchartButtonEl.classList.remove('colab-df-spinner');\n",
              "      quickchartButtonEl.classList.add('colab-df-quickchart-complete');\n",
              "    }\n",
              "    (() => {\n",
              "      let quickchartButtonEl =\n",
              "        document.querySelector('#df-ac5bc1df-132c-48ee-b94d-de42f769f66f button');\n",
              "      quickchartButtonEl.style.display =\n",
              "        google.colab.kernel.accessAllowed ? 'block' : 'none';\n",
              "    })();\n",
              "  </script>\n",
              "</div>\n",
              "\n",
              "  <div id=\"id_e6d8ff5c-d033-4278-9d8f-224b06ea05ba\">\n",
              "    <style>\n",
              "      .colab-df-generate {\n",
              "        background-color: #E8F0FE;\n",
              "        border: none;\n",
              "        border-radius: 50%;\n",
              "        cursor: pointer;\n",
              "        display: none;\n",
              "        fill: #1967D2;\n",
              "        height: 32px;\n",
              "        padding: 0 0 0 0;\n",
              "        width: 32px;\n",
              "      }\n",
              "\n",
              "      .colab-df-generate:hover {\n",
              "        background-color: #E2EBFA;\n",
              "        box-shadow: 0px 1px 2px rgba(60, 64, 67, 0.3), 0px 1px 3px 1px rgba(60, 64, 67, 0.15);\n",
              "        fill: #174EA6;\n",
              "      }\n",
              "\n",
              "      [theme=dark] .colab-df-generate {\n",
              "        background-color: #3B4455;\n",
              "        fill: #D2E3FC;\n",
              "      }\n",
              "\n",
              "      [theme=dark] .colab-df-generate:hover {\n",
              "        background-color: #434B5C;\n",
              "        box-shadow: 0px 1px 3px 1px rgba(0, 0, 0, 0.15);\n",
              "        filter: drop-shadow(0px 1px 2px rgba(0, 0, 0, 0.3));\n",
              "        fill: #FFFFFF;\n",
              "      }\n",
              "    </style>\n",
              "    <button class=\"colab-df-generate\" onclick=\"generateWithVariable('X_full')\"\n",
              "            title=\"Generate code using this dataframe.\"\n",
              "            style=\"display:none;\">\n",
              "\n",
              "  <svg xmlns=\"http://www.w3.org/2000/svg\" height=\"24px\"viewBox=\"0 0 24 24\"\n",
              "       width=\"24px\">\n",
              "    <path d=\"M7,19H8.4L18.45,9,17,7.55,7,17.6ZM5,21V16.75L18.45,3.32a2,2,0,0,1,2.83,0l1.4,1.43a1.91,1.91,0,0,1,.58,1.4,1.91,1.91,0,0,1-.58,1.4L9.25,21ZM18.45,9,17,7.55Zm-12,3A5.31,5.31,0,0,0,4.9,8.1,5.31,5.31,0,0,0,1,6.5,5.31,5.31,0,0,0,4.9,4.9,5.31,5.31,0,0,0,6.5,1,5.31,5.31,0,0,0,8.1,4.9,5.31,5.31,0,0,0,12,6.5,5.46,5.46,0,0,0,6.5,12Z\"/>\n",
              "  </svg>\n",
              "    </button>\n",
              "    <script>\n",
              "      (() => {\n",
              "      const buttonEl =\n",
              "        document.querySelector('#id_e6d8ff5c-d033-4278-9d8f-224b06ea05ba button.colab-df-generate');\n",
              "      buttonEl.style.display =\n",
              "        google.colab.kernel.accessAllowed ? 'block' : 'none';\n",
              "\n",
              "      buttonEl.onclick = () => {\n",
              "        google.colab.notebook.generateWithVariable('X_full');\n",
              "      }\n",
              "      })();\n",
              "    </script>\n",
              "  </div>\n",
              "\n",
              "    </div>\n",
              "  </div>\n"
            ]
          },
          "metadata": {},
          "execution_count": 40
        }
      ],
      "source": [
        "X_full"
      ]
    },
    {
      "cell_type": "code",
      "execution_count": null,
      "metadata": {
        "colab": {
          "base_uri": "https://localhost:8080/"
        },
        "id": "FjelmmpKVQr9",
        "outputId": "29bb16a7-ac43-447a-aa45-480decc4501c"
      },
      "outputs": [
        {
          "output_type": "stream",
          "name": "stderr",
          "text": [
            "/usr/local/lib/python3.10/dist-packages/sklearn/preprocessing/_encoders.py:868: FutureWarning: `sparse` was renamed to `sparse_output` in version 1.2 and will be removed in 1.4. `sparse_output` is ignored unless you leave `sparse` to its default value.\n",
            "  warnings.warn(\n"
          ]
        }
      ],
      "source": [
        "# Split data into X (features) and y (target)\n",
        "# Please make sure y is in a one-hot representation\n",
        "# WRITE CODE HERE\n",
        "y_vectorized= enc_target.fit_transform(y.values.reshape(-1,1))"
      ]
    },
    {
      "cell_type": "code",
      "execution_count": null,
      "metadata": {
        "id": "RO0USNU2V8RY"
      },
      "outputs": [],
      "source": [
        "# Split data into training and validation set (the code has been provided)\n",
        "from sklearn.model_selection import train_test_split\n",
        "X_train, X_val, y_train, y_val = train_test_split(X_full, y_vectorized, test_size=0.3, random_state=42)"
      ]
    },
    {
      "cell_type": "code",
      "execution_count": null,
      "metadata": {
        "colab": {
          "base_uri": "https://localhost:8080/"
        },
        "id": "csifFJTU_guc",
        "outputId": "48ba6275-42f3-439c-c8d9-4f951e12aa61"
      },
      "outputs": [
        {
          "output_type": "execute_result",
          "data": {
            "text/plain": [
              "(2789, 82)"
            ]
          },
          "metadata": {},
          "execution_count": 44
        }
      ],
      "source": [
        "# Print out the shape of X_train\n",
        "X_train.shape"
      ]
    },
    {
      "cell_type": "markdown",
      "metadata": {
        "id": "BScpBTLeYsDE"
      },
      "source": [
        "Q2. Build a neural network to predict the output in the \"CreditDefault_training.csv\". The architecture choice is up to you, but you are required to use Dense layers and dropout layers only.\n",
        "\n",
        "You can try different number of layers, different number of units in layers and experiment with hyperparameters.\n",
        "\n",
        "To include regularization, you can include a dropout layer after a hidden layer. In dropout layer, you can randomly set a fraction rate of input units to 0 at each update during training time, which helps prevent overfitting.\n",
        "\n",
        "Please use 'relu' activation function for all intermediate layers.\n",
        "\n",
        "Please build your model in the build_final_model() function"
      ]
    },
    {
      "cell_type": "code",
      "execution_count": null,
      "metadata": {
        "id": "HJ2jpZpe_guc"
      },
      "outputs": [],
      "source": [
        "import keras\n",
        "def build_final_model():\n",
        "    model = Sequential()\n",
        "    ### YOUR CODE HERE ###\n",
        "\n",
        "    # First add fully-connected (Dense) hidden layers with appropriate input dimension\n",
        "    model.add(Dense(units=16,input_dim=X_train.shape[1],activation='relu'))\n",
        "    model.add(Dropout(rate=0.2))\n",
        "    model.add(Dense(units=6,activation='relu'))\n",
        "    model.add(Dropout(rate=0.2))\n",
        "\n",
        "\n",
        "    model.add(Dense(units=6,activation='relu'))\n",
        "    model.add(Dropout(rate=0.1))\n",
        "    model.add(Dense(units=3,activation='relu'))\n",
        "\n",
        "    model.add(Dense(units=y_vectorized.shape[1],activation='softmax'))\n",
        "\n",
        "    # Drop out layer\n",
        "\n",
        "\n",
        "    # Continues the process\n",
        "\n",
        "\n",
        "    # Finally, add a readout layer\n",
        "\n",
        "    ######################\n",
        "    sgd = SGD(learning_rate=0.03, decay=1e-7, momentum=.9)  # Stochastic gradient descent\n",
        "    model.compile(loss='categorical_crossentropy', optimizer=sgd, metrics=['accuracy'])\n",
        "\n",
        "\n",
        "    return model"
      ]
    },
    {
      "cell_type": "code",
      "execution_count": null,
      "metadata": {
        "id": "AHSeeBL9_guc"
      },
      "outputs": [],
      "source": [
        "model_nn = build_final_model()"
      ]
    },
    {
      "cell_type": "markdown",
      "metadata": {
        "id": "_l0iekg-eAYF"
      },
      "source": [
        "Q3. Fit the model by training set with epochs=100, batch_size=32"
      ]
    },
    {
      "cell_type": "code",
      "execution_count": null,
      "metadata": {
        "colab": {
          "base_uri": "https://localhost:8080/"
        },
        "id": "biZD8E6Q_guc",
        "outputId": "664beab7-c904-4f3e-b1da-b9fbe30e4340",
        "scrolled": true
      },
      "outputs": [
        {
          "output_type": "stream",
          "name": "stdout",
          "text": [
            "Epoch 1/100\n",
            "88/88 [==============================] - 1s 2ms/step - loss: 0.5564 - accuracy: 0.7565\n",
            "Epoch 2/100\n",
            "88/88 [==============================] - 0s 2ms/step - loss: 0.5287 - accuracy: 0.7666\n",
            "Epoch 3/100\n",
            "88/88 [==============================] - 0s 2ms/step - loss: 0.4951 - accuracy: 0.7759\n",
            "Epoch 4/100\n",
            "88/88 [==============================] - 0s 2ms/step - loss: 0.4720 - accuracy: 0.8010\n",
            "Epoch 5/100\n",
            "88/88 [==============================] - 0s 2ms/step - loss: 0.4703 - accuracy: 0.7881\n",
            "Epoch 6/100\n",
            "88/88 [==============================] - 0s 2ms/step - loss: 0.4595 - accuracy: 0.7978\n",
            "Epoch 7/100\n",
            "88/88 [==============================] - 0s 2ms/step - loss: 0.4559 - accuracy: 0.8032\n",
            "Epoch 8/100\n",
            "88/88 [==============================] - 0s 2ms/step - loss: 0.4525 - accuracy: 0.8006\n",
            "Epoch 9/100\n",
            "88/88 [==============================] - 0s 1ms/step - loss: 0.4500 - accuracy: 0.7999\n",
            "Epoch 10/100\n",
            "88/88 [==============================] - 0s 1ms/step - loss: 0.4561 - accuracy: 0.8006\n",
            "Epoch 11/100\n",
            "88/88 [==============================] - 0s 1ms/step - loss: 0.4497 - accuracy: 0.8014\n",
            "Epoch 12/100\n",
            "88/88 [==============================] - 0s 1ms/step - loss: 0.4393 - accuracy: 0.8078\n",
            "Epoch 13/100\n",
            "88/88 [==============================] - 0s 1ms/step - loss: 0.4446 - accuracy: 0.8046\n",
            "Epoch 14/100\n",
            "88/88 [==============================] - 0s 1ms/step - loss: 0.4367 - accuracy: 0.8110\n",
            "Epoch 15/100\n",
            "88/88 [==============================] - 0s 1ms/step - loss: 0.4434 - accuracy: 0.7989\n",
            "Epoch 16/100\n",
            "88/88 [==============================] - 0s 1ms/step - loss: 0.4362 - accuracy: 0.8053\n",
            "Epoch 17/100\n",
            "88/88 [==============================] - 0s 1ms/step - loss: 0.4457 - accuracy: 0.8067\n",
            "Epoch 18/100\n",
            "88/88 [==============================] - 0s 1ms/step - loss: 0.4395 - accuracy: 0.8096\n",
            "Epoch 19/100\n",
            "88/88 [==============================] - 0s 1ms/step - loss: 0.4416 - accuracy: 0.8010\n",
            "Epoch 20/100\n",
            "88/88 [==============================] - 0s 1ms/step - loss: 0.4427 - accuracy: 0.8035\n",
            "Epoch 21/100\n",
            "88/88 [==============================] - 0s 1ms/step - loss: 0.4370 - accuracy: 0.8085\n",
            "Epoch 22/100\n",
            "88/88 [==============================] - 0s 1ms/step - loss: 0.4386 - accuracy: 0.8103\n",
            "Epoch 23/100\n",
            "88/88 [==============================] - 0s 1ms/step - loss: 0.4417 - accuracy: 0.8064\n",
            "Epoch 24/100\n",
            "88/88 [==============================] - 0s 1ms/step - loss: 0.4398 - accuracy: 0.8093\n",
            "Epoch 25/100\n",
            "88/88 [==============================] - 0s 1ms/step - loss: 0.4400 - accuracy: 0.8057\n",
            "Epoch 26/100\n",
            "88/88 [==============================] - 0s 1ms/step - loss: 0.4269 - accuracy: 0.8236\n",
            "Epoch 27/100\n",
            "88/88 [==============================] - 0s 1ms/step - loss: 0.4327 - accuracy: 0.8161\n",
            "Epoch 28/100\n",
            "88/88 [==============================] - 0s 1ms/step - loss: 0.4280 - accuracy: 0.8186\n",
            "Epoch 29/100\n",
            "88/88 [==============================] - 0s 1ms/step - loss: 0.4358 - accuracy: 0.8071\n",
            "Epoch 30/100\n",
            "88/88 [==============================] - 0s 1ms/step - loss: 0.4279 - accuracy: 0.8186\n",
            "Epoch 31/100\n",
            "88/88 [==============================] - 0s 1ms/step - loss: 0.4296 - accuracy: 0.8125\n",
            "Epoch 32/100\n",
            "88/88 [==============================] - 0s 1ms/step - loss: 0.4316 - accuracy: 0.8128\n",
            "Epoch 33/100\n",
            "88/88 [==============================] - 0s 1ms/step - loss: 0.4295 - accuracy: 0.8128\n",
            "Epoch 34/100\n",
            "88/88 [==============================] - 0s 1ms/step - loss: 0.4301 - accuracy: 0.8189\n",
            "Epoch 35/100\n",
            "88/88 [==============================] - 0s 1ms/step - loss: 0.4278 - accuracy: 0.8161\n",
            "Epoch 36/100\n",
            "88/88 [==============================] - 0s 1ms/step - loss: 0.4233 - accuracy: 0.8193\n",
            "Epoch 37/100\n",
            "88/88 [==============================] - 0s 1ms/step - loss: 0.4293 - accuracy: 0.8121\n",
            "Epoch 38/100\n",
            "88/88 [==============================] - 0s 1ms/step - loss: 0.4304 - accuracy: 0.8110\n",
            "Epoch 39/100\n",
            "88/88 [==============================] - 0s 1ms/step - loss: 0.4233 - accuracy: 0.8211\n",
            "Epoch 40/100\n",
            "88/88 [==============================] - 0s 1ms/step - loss: 0.4226 - accuracy: 0.8182\n",
            "Epoch 41/100\n",
            "88/88 [==============================] - 0s 1ms/step - loss: 0.4231 - accuracy: 0.8175\n",
            "Epoch 42/100\n",
            "88/88 [==============================] - 0s 1ms/step - loss: 0.4206 - accuracy: 0.8186\n",
            "Epoch 43/100\n",
            "88/88 [==============================] - 0s 1ms/step - loss: 0.4227 - accuracy: 0.8225\n",
            "Epoch 44/100\n",
            "88/88 [==============================] - 0s 1ms/step - loss: 0.4208 - accuracy: 0.8186\n",
            "Epoch 45/100\n",
            "88/88 [==============================] - 0s 1ms/step - loss: 0.4221 - accuracy: 0.8186\n",
            "Epoch 46/100\n",
            "88/88 [==============================] - 0s 1ms/step - loss: 0.4276 - accuracy: 0.8182\n",
            "Epoch 47/100\n",
            "88/88 [==============================] - 0s 1ms/step - loss: 0.4214 - accuracy: 0.8161\n",
            "Epoch 48/100\n",
            "88/88 [==============================] - 0s 1ms/step - loss: 0.4267 - accuracy: 0.8114\n",
            "Epoch 49/100\n",
            "88/88 [==============================] - 0s 1ms/step - loss: 0.4220 - accuracy: 0.8164\n",
            "Epoch 50/100\n",
            "88/88 [==============================] - 0s 1ms/step - loss: 0.4158 - accuracy: 0.8232\n",
            "Epoch 51/100\n",
            "88/88 [==============================] - 0s 1ms/step - loss: 0.4214 - accuracy: 0.8207\n",
            "Epoch 52/100\n",
            "88/88 [==============================] - 0s 1ms/step - loss: 0.4177 - accuracy: 0.8229\n",
            "Epoch 53/100\n",
            "88/88 [==============================] - 0s 1ms/step - loss: 0.4160 - accuracy: 0.8232\n",
            "Epoch 54/100\n",
            "88/88 [==============================] - 0s 1ms/step - loss: 0.4276 - accuracy: 0.8279\n",
            "Epoch 55/100\n",
            "88/88 [==============================] - 0s 1ms/step - loss: 0.4175 - accuracy: 0.8232\n",
            "Epoch 56/100\n",
            "88/88 [==============================] - 0s 1ms/step - loss: 0.4160 - accuracy: 0.8225\n",
            "Epoch 57/100\n",
            "88/88 [==============================] - 0s 1ms/step - loss: 0.4141 - accuracy: 0.8214\n",
            "Epoch 58/100\n",
            "88/88 [==============================] - 0s 1ms/step - loss: 0.4125 - accuracy: 0.8240\n",
            "Epoch 59/100\n",
            "88/88 [==============================] - 0s 1ms/step - loss: 0.4113 - accuracy: 0.8232\n",
            "Epoch 60/100\n",
            "88/88 [==============================] - 0s 1ms/step - loss: 0.4131 - accuracy: 0.8225\n",
            "Epoch 61/100\n",
            "88/88 [==============================] - 0s 1ms/step - loss: 0.4188 - accuracy: 0.8196\n",
            "Epoch 62/100\n",
            "88/88 [==============================] - 0s 1ms/step - loss: 0.4116 - accuracy: 0.8290\n",
            "Epoch 63/100\n",
            "88/88 [==============================] - 0s 1ms/step - loss: 0.4173 - accuracy: 0.8275\n",
            "Epoch 64/100\n",
            "88/88 [==============================] - 0s 1ms/step - loss: 0.4108 - accuracy: 0.8304\n",
            "Epoch 65/100\n",
            "88/88 [==============================] - 0s 1ms/step - loss: 0.4226 - accuracy: 0.8243\n",
            "Epoch 66/100\n",
            "88/88 [==============================] - 0s 1ms/step - loss: 0.4150 - accuracy: 0.8229\n",
            "Epoch 67/100\n",
            "88/88 [==============================] - 0s 1ms/step - loss: 0.4117 - accuracy: 0.8261\n",
            "Epoch 68/100\n",
            "88/88 [==============================] - 0s 1ms/step - loss: 0.4082 - accuracy: 0.8336\n",
            "Epoch 69/100\n",
            "88/88 [==============================] - 0s 1ms/step - loss: 0.4085 - accuracy: 0.8272\n",
            "Epoch 70/100\n",
            "88/88 [==============================] - 0s 1ms/step - loss: 0.4121 - accuracy: 0.8283\n",
            "Epoch 71/100\n",
            "88/88 [==============================] - 0s 1ms/step - loss: 0.4054 - accuracy: 0.8297\n",
            "Epoch 72/100\n",
            "88/88 [==============================] - 0s 1ms/step - loss: 0.4088 - accuracy: 0.8300\n",
            "Epoch 73/100\n",
            "88/88 [==============================] - 0s 1ms/step - loss: 0.4161 - accuracy: 0.8189\n",
            "Epoch 74/100\n",
            "88/88 [==============================] - 0s 1ms/step - loss: 0.4062 - accuracy: 0.8300\n",
            "Epoch 75/100\n",
            "88/88 [==============================] - 0s 1ms/step - loss: 0.4118 - accuracy: 0.8308\n",
            "Epoch 76/100\n",
            "88/88 [==============================] - 0s 1ms/step - loss: 0.4078 - accuracy: 0.8293\n",
            "Epoch 77/100\n",
            "88/88 [==============================] - 0s 2ms/step - loss: 0.4100 - accuracy: 0.8297\n",
            "Epoch 78/100\n",
            "88/88 [==============================] - 0s 3ms/step - loss: 0.4149 - accuracy: 0.8200\n",
            "Epoch 79/100\n",
            "88/88 [==============================] - 0s 2ms/step - loss: 0.4020 - accuracy: 0.8329\n",
            "Epoch 80/100\n",
            "88/88 [==============================] - 0s 2ms/step - loss: 0.4072 - accuracy: 0.8293\n",
            "Epoch 81/100\n",
            "88/88 [==============================] - 0s 2ms/step - loss: 0.4110 - accuracy: 0.8283\n",
            "Epoch 82/100\n",
            "88/88 [==============================] - 0s 2ms/step - loss: 0.4025 - accuracy: 0.8358\n",
            "Epoch 83/100\n",
            "88/88 [==============================] - 0s 3ms/step - loss: 0.3995 - accuracy: 0.8347\n",
            "Epoch 84/100\n",
            "88/88 [==============================] - 0s 2ms/step - loss: 0.4031 - accuracy: 0.8358\n",
            "Epoch 85/100\n",
            "88/88 [==============================] - 0s 3ms/step - loss: 0.4042 - accuracy: 0.8326\n",
            "Epoch 86/100\n",
            "88/88 [==============================] - 0s 3ms/step - loss: 0.4017 - accuracy: 0.8279\n",
            "Epoch 87/100\n",
            "88/88 [==============================] - 0s 4ms/step - loss: 0.3940 - accuracy: 0.8387\n",
            "Epoch 88/100\n",
            "88/88 [==============================] - 0s 4ms/step - loss: 0.4165 - accuracy: 0.8186\n",
            "Epoch 89/100\n",
            "88/88 [==============================] - 0s 4ms/step - loss: 0.4116 - accuracy: 0.8229\n",
            "Epoch 90/100\n",
            "88/88 [==============================] - 0s 5ms/step - loss: 0.4049 - accuracy: 0.8279\n",
            "Epoch 91/100\n",
            "88/88 [==============================] - 0s 4ms/step - loss: 0.4049 - accuracy: 0.8351\n",
            "Epoch 92/100\n",
            "88/88 [==============================] - 0s 2ms/step - loss: 0.4053 - accuracy: 0.8293\n",
            "Epoch 93/100\n",
            "88/88 [==============================] - 0s 2ms/step - loss: 0.3993 - accuracy: 0.8351\n",
            "Epoch 94/100\n",
            "88/88 [==============================] - 0s 2ms/step - loss: 0.4052 - accuracy: 0.8336\n",
            "Epoch 95/100\n",
            "88/88 [==============================] - 0s 2ms/step - loss: 0.4047 - accuracy: 0.8304\n",
            "Epoch 96/100\n",
            "88/88 [==============================] - 0s 2ms/step - loss: 0.4034 - accuracy: 0.8351\n",
            "Epoch 97/100\n",
            "88/88 [==============================] - 0s 2ms/step - loss: 0.4011 - accuracy: 0.8383\n",
            "Epoch 98/100\n",
            "88/88 [==============================] - 0s 2ms/step - loss: 0.4011 - accuracy: 0.8361\n",
            "Epoch 99/100\n",
            "88/88 [==============================] - 0s 2ms/step - loss: 0.4120 - accuracy: 0.8232\n",
            "Epoch 100/100\n",
            "88/88 [==============================] - 0s 2ms/step - loss: 0.4049 - accuracy: 0.8329\n"
          ]
        },
        {
          "output_type": "execute_result",
          "data": {
            "text/plain": [
              "<keras.src.callbacks.History at 0x7d25b2539cf0>"
            ]
          },
          "metadata": {},
          "execution_count": 56
        }
      ],
      "source": [
        "### YOUR CODE HERE ###\n",
        "model_nn.fit(X_train,y_train,epochs=100,batch_size=32)"
      ]
    },
    {
      "cell_type": "markdown",
      "metadata": {
        "id": "SiF2xX_uenJn"
      },
      "source": [
        "Q4. Obtain predictions on validation set and print accuracy, precision & recall and F1 score.\n",
        "\n",
        "F1 = 2 * (precision * recall) / (precision + recall)"
      ]
    },
    {
      "cell_type": "code",
      "execution_count": null,
      "metadata": {
        "colab": {
          "base_uri": "https://localhost:8080/"
        },
        "id": "i81SVUjMwX1K",
        "outputId": "6def80cb-0f37-4cc8-f787-00ac98ed1d58"
      },
      "outputs": [
        {
          "output_type": "stream",
          "name": "stdout",
          "text": [
            "88/88 [==============================] - 0s 884us/step\n",
            "0.842954463965579\n"
          ]
        }
      ],
      "source": [
        "y_pred_train = model_nn.predict(X_train)\n",
        "#y_pred_val =  [[int(j>=0.5) for j in i] for i in y_pred_val]\n",
        "#y_pred_train = [int(i[1]>=0.5) for i in y_pred_train]\n",
        "accuracy_train = accuracy(y_train,y_pred_train)\n",
        "print(accuracy_train)"
      ]
    },
    {
      "cell_type": "code",
      "execution_count": null,
      "metadata": {
        "colab": {
          "base_uri": "https://localhost:8080/"
        },
        "id": "jghwnwcL_guc",
        "outputId": "1f804909-5f6b-4961-f720-056c46deecf4"
      },
      "outputs": [
        {
          "output_type": "stream",
          "name": "stdout",
          "text": [
            "38/38 [==============================] - 0s 996us/step\n",
            "Validation Precision = 0.5330882352941176\n",
            "Validation Recall = 0.5370370370370371\n",
            "Validation Accuracy = 0.7892976588628763\n",
            "Validation F1 = 0.5350553505535055\n"
          ]
        }
      ],
      "source": [
        "from sklearn.metrics import precision_score, recall_score, accuracy_score,classification_report,f1_score\n",
        "y_pred_val = model_nn.predict(X_val)\n",
        "y_pred_val = (y_pred_val > 0.5).astype(\"int32\")\n",
        "#y_pred_val =  [[int(j>=0.5) for j in i] for i in y_pred_val]\n",
        "#y_pred_val = [int(i[1]>=0.5) for i in y_pred_val]\n",
        "# y_pred_labels = [item for sublist in enc_target.inverse_transform(y_pred_val) for item in sublist]\n",
        "\n",
        "# y_val_labels = [item for sublist in enc_target.inverse_transform(y_val) for item in sublist]\n",
        "#print(y_val_labels)\n",
        "#print(y_pred_labels)\n",
        "precision_val = precision_score(y_val,y_pred_val, average= None)\n",
        "print(f\"Validation Precision = {precision_val[1]}\")\n",
        "recall_val = recall_score(y_val,y_pred_val, average= None)\n",
        "print(f\"Validation Recall = {recall_val[1]}\")\n",
        "accuracy_val = accuracy(y_val,y_pred_val)\n",
        "print(f\"Validation Accuracy = {accuracy_val}\")\n",
        "print(f\"Validation F1 = {f1_score(y_val,y_pred_val,average=None)[1]}\")"
      ]
    },
    {
      "cell_type": "code",
      "execution_count": null,
      "metadata": {
        "colab": {
          "base_uri": "https://localhost:8080/"
        },
        "id": "JeFxF01pwX1K",
        "outputId": "90e2052e-bc31-4bb5-94f4-c65e621d2e05",
        "scrolled": true
      },
      "outputs": [
        {
          "output_type": "stream",
          "name": "stdout",
          "text": [
            "              precision    recall  f1-score   support\n",
            "\n",
            "           0       0.86      0.86      0.86       926\n",
            "           1       0.53      0.54      0.54       270\n",
            "\n",
            "   micro avg       0.79      0.79      0.79      1196\n",
            "   macro avg       0.70      0.70      0.70      1196\n",
            "weighted avg       0.79      0.79      0.79      1196\n",
            " samples avg       0.79      0.79      0.79      1196\n",
            "\n"
          ]
        }
      ],
      "source": [
        "print(classification_report(y_val,y_pred_val))"
      ]
    },
    {
      "cell_type": "markdown",
      "metadata": {
        "id": "lm9Wv9P0gE4T"
      },
      "source": [
        "Q5. Plot the ROC curve by giving appropriate names for title and axes."
      ]
    },
    {
      "cell_type": "code",
      "execution_count": null,
      "metadata": {
        "colab": {
          "base_uri": "https://localhost:8080/",
          "height": 735
        },
        "id": "Cs7CkXWC_guc",
        "outputId": "7a0c7e0d-031b-4376-ebf3-09c3d8bdcfee"
      },
      "outputs": [
        {
          "output_type": "stream",
          "name": "stdout",
          "text": [
            "38/38 [==============================] - 0s 993us/step\n"
          ]
        },
        {
          "output_type": "display_data",
          "data": {
            "text/plain": [
              "<Figure size 800x800 with 1 Axes>"
            ],
            "image/png": "[encoded data removed]"
          },
          "metadata": {}
        }
      ],
      "source": [
        "# Plot the ROC curve by giving appropriate names for title and axes.\n",
        "### WRITE CODE HERE\n",
        "from sklearn.metrics import roc_curve,auc\n",
        "import sklearn.metrics as metrics\n",
        "import matplotlib.pyplot as plt\n",
        "\n",
        "y_val_prob = model_nn.predict(X_val)[:, 1]\n",
        "fpr, tpr,_ = roc_curve(y_val[:,1], y_val_prob)\n",
        "roc_auc = auc(fpr,tpr)\n",
        "\n",
        "plt.figure(figsize = (8, 8))\n",
        "plt.plot(fpr, tpr, color = 'purple', lw = 2, label = 'ROC curve (AUC = {:.2f})'.format(roc_auc))\n",
        "plt.plot([0, 1], [0, 1], color = 'green', lw = 2, linestyle='--', label='Random')\n",
        "plt.xlabel('False Positive Rate (FPR)')\n",
        "plt.ylabel('True Positive Rate (TPR)')\n",
        "plt.title('ROC Curve on Validation Set')\n",
        "plt.legend(loc='lower right')\n",
        "plt.show()"
      ]
    },
    {
      "cell_type": "markdown",
      "metadata": {
        "id": "3UyHYWaAtlOm"
      },
      "source": [
        "Is the accuracy value impressive for this dataset? Please explain based on the structure of this dataset.\n",
        "\n",
        "For these five metrics (accuracy, precision, recall, F1 score and AUC), please explain their connections and differences. For our dataset, which metrics should we focus more on?\n",
        "\n",
        "Ans- The accuracy value is not that impressive for this data due to its imbalance in class labels. Even if we had a model that always predicted 0, we would have gotten a high accuracy number!\n",
        "\n",
        "**Connections and Differences:**\n",
        "* Accuracy vs. Precision and Recall:\n",
        "\n",
        "Accuracy provides an overall measure of correctness, while precision and recall focus on the performance of the model on positive instances.\n",
        "\n",
        "* Precision and Recall Trade-off:\n",
        "\n",
        "Precision and recall are often in tension; improving one may degrade the other. The F1 score combines them to strike a balance. Precision is how precise we are with our positive predictions, and recall is the number of positive examples we are able to correctly classify.\n",
        "\n",
        "* AUC vs. Other Metrics:\n",
        "\n",
        "AUC (Area Under Curve of TPR vs FPR for various thresholds) is not affected by class imbalance and provides a summary measure of a model's performance across various decision thresholds. Other metrics are specific to a particular threshold.\n",
        "\n",
        "\n",
        "\n",
        "**In this Example:**\n",
        "\n",
        " we would focus more on AUC and Recall, since the cost of false negatives is higher than false positives.\n",
        "\n",
        "What we want to do when creating a model for predicting the probability of a client defaulting on the payment of a loan is maximize the Recall. This is because Banks tend to be more conservative and the cost associated when classifying clients as no default given that they default, is high (False Negatives are costly). On the other hand, it is a trade-off with precision as well because if precision is low, the bank is missing opportunities for getting new healty clients.\n",
        "\n",
        "A good indicator to use is the ROC curve and therefore the AUC because it measures the overall performance of predicting default. We need to maximize the true positive rate while minimizing the false positive."
      ]
    },
    {
      "cell_type": "markdown",
      "metadata": {
        "id": "SjZQ940YWQSW"
      },
      "source": [
        "#### Tuning hyperparameters using cross-validation:<br/>\n",
        "Cross-validation in neural networks is computationally expensive. So we will perform a randomized cross-validation search across the parameter space using RandomizedSearchCV function.\n",
        "\n",
        "Here, we will use KerasClassifier class, which act as a wrapper of scikit-learn’s library in Keras comes as a handy tool for automating the tuning process."
      ]
    },
    {
      "cell_type": "code",
      "execution_count": null,
      "metadata": {
        "colab": {
          "base_uri": "https://localhost:8080/"
        },
        "id": "jY9BLRf3E5J7",
        "outputId": "d6b78a2d-662e-42f6-9dcf-7273d0b23154"
      },
      "outputs": [
        {
          "output_type": "stream",
          "name": "stdout",
          "text": [
            "Collecting scikeras\n",
            "  Downloading scikeras-0.12.0-py3-none-any.whl (27 kB)\n",
            "Requirement already satisfied: packaging>=0.21 in /usr/local/lib/python3.10/dist-packages (from scikeras) (23.2)\n",
            "Requirement already satisfied: scikit-learn>=1.0.0 in /usr/local/lib/python3.10/dist-packages (from scikeras) (1.2.2)\n",
            "Requirement already satisfied: numpy>=1.17.3 in /usr/local/lib/python3.10/dist-packages (from scikit-learn>=1.0.0->scikeras) (1.23.5)\n",
            "Requirement already satisfied: scipy>=1.3.2 in /usr/local/lib/python3.10/dist-packages (from scikit-learn>=1.0.0->scikeras) (1.11.4)\n",
            "Requirement already satisfied: joblib>=1.1.1 in /usr/local/lib/python3.10/dist-packages (from scikit-learn>=1.0.0->scikeras) (1.3.2)\n",
            "Requirement already satisfied: threadpoolctl>=2.0.0 in /usr/local/lib/python3.10/dist-packages (from scikit-learn>=1.0.0->scikeras) (3.2.0)\n",
            "Installing collected packages: scikeras\n",
            "Successfully installed scikeras-0.12.0\n"
          ]
        }
      ],
      "source": [
        "!pip install scikeras"
      ]
    },
    {
      "cell_type": "code",
      "execution_count": null,
      "metadata": {
        "id": "O6t4j_UJWPYb"
      },
      "outputs": [],
      "source": [
        "from sklearn.model_selection import RandomizedSearchCV\n",
        "from scikeras.wrappers import KerasClassifier"
      ]
    },
    {
      "cell_type": "markdown",
      "metadata": {
        "id": "MJtSGwtNUlEg"
      },
      "source": [
        "Q6. First we create a function to build neural network model with activation function and learning rate of SGD as parameters"
      ]
    },
    {
      "cell_type": "code",
      "execution_count": null,
      "metadata": {
        "id": "pOvla-Yf4rca"
      },
      "outputs": [],
      "source": [
        "# Build create_model function with activation function and learning rate of SGD as parameters\n",
        "from tensorflow import keras\n",
        "def create_model(learning_rate, activation):\n",
        "\n",
        "    # Create an SGD optimizer with its learning rate equal to the \"learning_rate\" parameter value of create_model\n",
        "    opt = SGD(learning_rate=learning_rate , decay=1e-7, momentum=.9)\n",
        "\n",
        "    # Create your neural network model\n",
        "    model = Sequential()\n",
        "    # Please keep the same architecture as the NN model you have built above in order for comparison\n",
        "    # Please use the activation given by the \"activation\" parameter value of create_model for all inner layers except for the final layer.\n",
        "    # For the final output layer, choose an appropriate activation function by yourself.\n",
        "    model.add(Dense(units=16,input_dim=X_train.shape[1],activation=activation))\n",
        "    model.add(Dropout(rate=0.2))\n",
        "    model.add(Dense(units=6,activation=activation))\n",
        "    model.add(Dropout(rate=0.2))\n",
        "\n",
        "\n",
        "    model.add(Dense(units=6,activation=activation))\n",
        "    model.add(Dropout(rate=0.1))\n",
        "    model.add(Dense(units=3,activation=activation))\n",
        "\n",
        "    model.add(Dense(units=y_vectorized.shape[1],activation='softmax'))\n",
        "    ### WRITE CODE HERE\n",
        "\n",
        "\n",
        "    # Compile the model\n",
        "    model.compile(optimizer = opt,\n",
        "                  loss = 'categorical_crossentropy',\n",
        "                  metrics=[\"accuracy\"])\n",
        "    return model"
      ]
    },
    {
      "cell_type": "markdown",
      "metadata": {
        "id": "x2IHOXeRMPjR"
      },
      "source": [
        "Create a model object using KerasClassifier from keras.wrappers.scikit_learn by passing the create_model function."
      ]
    },
    {
      "cell_type": "code",
      "execution_count": null,
      "metadata": {
        "id": "Wq-48iSOMGRd"
      },
      "outputs": [],
      "source": [
        "model_keras = KerasClassifier(model = create_model,learning_rate=None,activation=None,\n",
        "                       verbose = 0)"
      ]
    },
    {
      "cell_type": "markdown",
      "metadata": {
        "id": "dTQgcA8dMfIL"
      },
      "source": [
        "Q7. Try the following hyperparameters:\n",
        "\n",
        "- activation function: relu, tanh\n",
        "\n",
        "- batch size: 16, 32 and 64\n",
        "\n",
        "- epochs: 100, 200 and 500\n",
        "\n",
        "- learning rate: 0.01, 0.001 and 0.0001\n",
        "\n",
        "Use dictionary object to define the parameter search space."
      ]
    },
    {
      "cell_type": "code",
      "execution_count": null,
      "metadata": {
        "id": "Mldddf7RMcJn"
      },
      "outputs": [],
      "source": [
        "### WRITE CODE HERE\n",
        "param_grid = {\n",
        "'activation':['relu','tanh'],\n",
        "'batch_size':[16,32,64],\n",
        "'epochs':[100,200,500],\n",
        "'learning_rate':[0.01,0.001,0.0001]\n",
        "}"
      ]
    },
    {
      "cell_type": "markdown",
      "metadata": {
        "id": "OugTwxjcNwG_"
      },
      "source": [
        "Next we perform a randomized cross-validation search across the parameter space using RandomizedSearchCV function. We select the randomized search as it works faster than a grid search. Here, we will perform a 5-fold cross-validation search.\n",
        "\n",
        "See https://scikit-learn.org/stable/modules/generated/sklearn.model_selection.RandomizedSearchCV.html?highlight=randomizedsearchcv#sklearn.model_selection.RandomizedSearchCV for the use of RandomizedSearchCV."
      ]
    },
    {
      "cell_type": "code",
      "execution_count": null,
      "metadata": {
        "id": "-O8EPPiDNsoI"
      },
      "outputs": [],
      "source": [
        "### WRITE CODE HERE\n",
        "random_search = RandomizedSearchCV(estimator = model_keras,\n",
        "                                   param_distributions = param_grid,\n",
        "                                   cv = None)\n"
      ]
    },
    {
      "cell_type": "code",
      "execution_count": null,
      "metadata": {
        "id": "n7HSam2xOVx1"
      },
      "outputs": [],
      "source": [
        "random_search_results = random_search.fit(X_train, y_train) # it may take several hours."
      ]
    },
    {
      "cell_type": "markdown",
      "metadata": {
        "id": "xkpfSAvOXVV9"
      },
      "source": [
        "Q8. Print the best model parameters"
      ]
    },
    {
      "cell_type": "code",
      "execution_count": null,
      "metadata": {
        "colab": {
          "base_uri": "https://localhost:8080/"
        },
        "id": "qHnyRJlxW75H",
        "outputId": "ce43832e-efbb-4809-97c9-0e97f214fa2a"
      },
      "outputs": [
        {
          "output_type": "execute_result",
          "data": {
            "text/plain": [
              "{'learning_rate': 0.001, 'epochs': 200, 'batch_size': 32, 'activation': 'tanh'}"
            ]
          },
          "metadata": {},
          "execution_count": 89
        }
      ],
      "source": [
        "### WRITE CODE HERE\n",
        "random_search_results.best_params_"
      ]
    },
    {
      "cell_type": "markdown",
      "metadata": {
        "id": "ghS7bgUMaTU6"
      },
      "source": [
        "Q9. Fit the model with the Best Parameter Set"
      ]
    },
    {
      "cell_type": "code",
      "execution_count": null,
      "metadata": {
        "colab": {
          "base_uri": "https://localhost:8080/",
          "height": 252
        },
        "id": "yAR5UKtrXUd_",
        "outputId": "d250cc84-0552-4ae6-f13e-d63f6c4b6be6"
      },
      "outputs": [
        {
          "output_type": "execute_result",
          "data": {
            "text/plain": [
              "KerasClassifier(\n",
              "\tmodel=<function create_model at 0x7d25b248e950>\n",
              "\tbuild_fn=None\n",
              "\twarm_start=False\n",
              "\trandom_state=None\n",
              "\toptimizer=rmsprop\n",
              "\tloss=None\n",
              "\tmetrics=None\n",
              "\tbatch_size=32\n",
              "\tvalidation_batch_size=None\n",
              "\tverbose=0\n",
              "\tcallbacks=None\n",
              "\tvalidation_split=0.0\n",
              "\tshuffle=True\n",
              "\trun_eagerly=False\n",
              "\tepochs=200\n",
              "\tlearning_rate=0.001\n",
              "\tactivation=tanh\n",
              "\tclass_weight=None\n",
              ")"
            ],
            "text/html": [
              "<style>#sk-container-id-1 {color: black;background-color: white;}#sk-container-id-1 pre{padding: 0;}#sk-container-id-1 div.sk-toggleable {background-color: white;}#sk-container-id-1 label.sk-toggleable__label {cursor: pointer;display: block;width: 100%;margin-bottom: 0;padding: 0.3em;box-sizing: border-box;text-align: center;}#sk-container-id-1 label.sk-toggleable__label-arrow:before {content: \"▸\";float: left;margin-right: 0.25em;color: #696969;}#sk-container-id-1 label.sk-toggleable__label-arrow:hover:before {color: black;}#sk-container-id-1 div.sk-estimator:hover label.sk-toggleable__label-arrow:before {color: black;}#sk-container-id-1 div.sk-toggleable__content {max-height: 0;max-width: 0;overflow: hidden;text-align: left;background-color: #f0f8ff;}#sk-container-id-1 div.sk-toggleable__content pre {margin: 0.2em;color: black;border-radius: 0.25em;background-color: #f0f8ff;}#sk-container-id-1 input.sk-toggleable__control:checked~div.sk-toggleable__content {max-height: 200px;max-width: 100%;overflow: auto;}#sk-container-id-1 input.sk-toggleable__control:checked~label.sk-toggleable__label-arrow:before {content: \"▾\";}#sk-container-id-1 div.sk-estimator input.sk-toggleable__control:checked~label.sk-toggleable__label {background-color: #d4ebff;}#sk-container-id-1 div.sk-label input.sk-toggleable__control:checked~label.sk-toggleable__label {background-color: #d4ebff;}#sk-container-id-1 input.sk-hidden--visually {border: 0;clip: rect(1px 1px 1px 1px);clip: rect(1px, 1px, 1px, 1px);height: 1px;margin: -1px;overflow: hidden;padding: 0;position: absolute;width: 1px;}#sk-container-id-1 div.sk-estimator {font-family: monospace;background-color: #f0f8ff;border: 1px dotted black;border-radius: 0.25em;box-sizing: border-box;margin-bottom: 0.5em;}#sk-container-id-1 div.sk-estimator:hover {background-color: #d4ebff;}#sk-container-id-1 div.sk-parallel-item::after {content: \"\";width: 100%;border-bottom: 1px solid gray;flex-grow: 1;}#sk-container-id-1 div.sk-label:hover label.sk-toggleable__label {background-color: #d4ebff;}#sk-container-id-1 div.sk-serial::before {content: \"\";position: absolute;border-left: 1px solid gray;box-sizing: border-box;top: 0;bottom: 0;left: 50%;z-index: 0;}#sk-container-id-1 div.sk-serial {display: flex;flex-direction: column;align-items: center;background-color: white;padding-right: 0.2em;padding-left: 0.2em;position: relative;}#sk-container-id-1 div.sk-item {position: relative;z-index: 1;}#sk-container-id-1 div.sk-parallel {display: flex;align-items: stretch;justify-content: center;background-color: white;position: relative;}#sk-container-id-1 div.sk-item::before, #sk-container-id-1 div.sk-parallel-item::before {content: \"\";position: absolute;border-left: 1px solid gray;box-sizing: border-box;top: 0;bottom: 0;left: 50%;z-index: -1;}#sk-container-id-1 div.sk-parallel-item {display: flex;flex-direction: column;z-index: 1;position: relative;background-color: white;}#sk-container-id-1 div.sk-parallel-item:first-child::after {align-self: flex-end;width: 50%;}#sk-container-id-1 div.sk-parallel-item:last-child::after {align-self: flex-start;width: 50%;}#sk-container-id-1 div.sk-parallel-item:only-child::after {width: 0;}#sk-container-id-1 div.sk-dashed-wrapped {border: 1px dashed gray;margin: 0 0.4em 0.5em 0.4em;box-sizing: border-box;padding-bottom: 0.4em;background-color: white;}#sk-container-id-1 div.sk-label label {font-family: monospace;font-weight: bold;display: inline-block;line-height: 1.2em;}#sk-container-id-1 div.sk-label-container {text-align: center;}#sk-container-id-1 div.sk-container {/* jupyter's `normalize.less` sets `[hidden] { display: none; }` but bootstrap.min.css set `[hidden] { display: none !important; }` so we also need the `!important` here to be able to override the default hidden behavior on the sphinx rendered scikit-learn.org. See: https://github.com/scikit-learn/scikit-learn/issues/21755 */display: inline-block !important;position: relative;}#sk-container-id-1 div.sk-text-repr-fallback {display: none;}</style><div id=\"sk-container-id-1\" class=\"sk-top-container\"><div class=\"sk-text-repr-fallback\"><pre>KerasClassifier(\n",
              "\tmodel=&lt;function create_model at 0x7d25b248e950&gt;\n",
              "\tbuild_fn=None\n",
              "\twarm_start=False\n",
              "\trandom_state=None\n",
              "\toptimizer=rmsprop\n",
              "\tloss=None\n",
              "\tmetrics=None\n",
              "\tbatch_size=32\n",
              "\tvalidation_batch_size=None\n",
              "\tverbose=0\n",
              "\tcallbacks=None\n",
              "\tvalidation_split=0.0\n",
              "\tshuffle=True\n",
              "\trun_eagerly=False\n",
              "\tepochs=200\n",
              "\tlearning_rate=0.001\n",
              "\tactivation=tanh\n",
              "\tclass_weight=None\n",
              ")</pre><b>In a Jupyter environment, please rerun this cell to show the HTML representation or trust the notebook. <br />On GitHub, the HTML representation is unable to render, please try loading this page with nbviewer.org.</b></div><div class=\"sk-container\" hidden><div class=\"sk-item\"><div class=\"sk-estimator sk-toggleable\"><input class=\"sk-toggleable__control sk-hidden--visually\" id=\"sk-estimator-id-1\" type=\"checkbox\" checked><label for=\"sk-estimator-id-1\" class=\"sk-toggleable__label sk-toggleable__label-arrow\">KerasClassifier</label><div class=\"sk-toggleable__content\"><pre>KerasClassifier(\n",
              "\tmodel=&lt;function create_model at 0x7d25b248e950&gt;\n",
              "\tbuild_fn=None\n",
              "\twarm_start=False\n",
              "\trandom_state=None\n",
              "\toptimizer=rmsprop\n",
              "\tloss=None\n",
              "\tmetrics=None\n",
              "\tbatch_size=32\n",
              "\tvalidation_batch_size=None\n",
              "\tverbose=0\n",
              "\tcallbacks=None\n",
              "\tvalidation_split=0.0\n",
              "\tshuffle=True\n",
              "\trun_eagerly=False\n",
              "\tepochs=200\n",
              "\tlearning_rate=0.001\n",
              "\tactivation=tanh\n",
              "\tclass_weight=None\n",
              ")</pre></div></div></div></div></div>"
            ]
          },
          "metadata": {},
          "execution_count": 90
        }
      ],
      "source": [
        "### WRITE CODE HERE\n",
        "best_model = random_search_results.best_estimator_\n",
        "best_model.fit(X_train,y_train)"
      ]
    },
    {
      "cell_type": "code",
      "source": [
        "# ROC and AUC for NN\n",
        "y_val_prob_nn = best_model.predict_proba(X_val)[:,1]\n",
        "fpr, tpr,_ = roc_curve(y_val[:,1], y_val_prob_nn)\n",
        "roc_auc = auc(fpr,tpr)\n",
        "\n",
        "plt.figure(figsize = (8, 8))\n",
        "plt.plot(fpr, tpr, color = 'purple', lw = 2, label = 'ROC curve (AUC = {:.2f})'.format(roc_auc))\n",
        "plt.plot([0, 1], [0, 1], color = 'green', lw = 2, linestyle='--', label='Random')\n",
        "plt.xlabel('False Positive Rate (FPR)')\n",
        "plt.ylabel('True Positive Rate (TPR)')\n",
        "plt.title('ROC Curve on Validation Set')\n",
        "plt.legend(loc='lower right')\n",
        "plt.show()"
      ],
      "metadata": {
        "colab": {
          "base_uri": "https://localhost:8080/",
          "height": 718
        },
        "id": "SrWPie5RxeS-",
        "outputId": "4ee5a02a-49bb-4d3c-efb8-63d7eb96d637"
      },
      "execution_count": null,
      "outputs": [
        {
          "output_type": "display_data",
          "data": {
            "text/plain": [
              "<Figure size 800x800 with 1 Axes>"
            ],
            "image/png": "[encoded data removed]"
          },
          "metadata": {}
        }
      ]
    },
    {
      "cell_type": "markdown",
      "metadata": {
        "id": "gbolTfGnUIoS"
      },
      "source": [
        "# Q10. Obtain predictions on validation set and print accuracy, precision, recall and F1 score."
      ]
    },
    {
      "cell_type": "code",
      "execution_count": null,
      "metadata": {
        "colab": {
          "base_uri": "https://localhost:8080/"
        },
        "id": "alrYVc4tIen-",
        "outputId": "10579f49-f8b2-40af-ef4c-4d13e8e14d72"
      },
      "outputs": [
        {
          "output_type": "stream",
          "name": "stdout",
          "text": [
            "Validation val = 0.5879828326180258\n",
            "Recall val = 0.5074074074074074\n",
            "Accuracy val = 0.8085284280936454\n",
            "Validation F1 = 0.5447316103379721\n"
          ]
        }
      ],
      "source": [
        "pred_val = best_model.predict(X_val)[:,1]\n",
        "\n",
        "pred_val = (pred_val > 0.5).astype(\"int32\")\n",
        "\n",
        "# y_pred_labels = [item for sublist in enc_target.inverse_transform(y_pred_val) for item in sublist]\n",
        "# y_val_labels = [item for sublist in enc_target.inverse_transform(y_val) for item in sublist]\n",
        "#print(y_val_labels)\n",
        "#print(y_pred_labels)\n",
        "precision_val = precision_score(y_val[:,1],pred_val)\n",
        "print(f\"Precision val = {precision_val}\")\n",
        "recall_val = recall_score(y_val[:,1], pred_val)\n",
        "print(f\"Recall val = {recall_val}\")\n",
        "accuracy_val = accuracy(y_val[:,1],pred_val)\n",
        "print(f\"Accuracy val = {accuracy_val}\")\n",
        "print(f\"Validation F1 = {f1_score(y_val[:,1],pred_val)}\")"
      ]
    },
    {
      "cell_type": "markdown",
      "metadata": {
        "id": "09X3OxlixWRk"
      },
      "source": [
        "Do you get a better accuracy/recall/precision/F1 score than the first NN model you have built in exercise 5? Explain.\n",
        "\n",
        "Ans- We can say that we have a better accuracy/precision and F1 for the second NN. This happened because we use a better set of hyperparameters found by RandomizedSearchCV()"
      ]
    },
    {
      "cell_type": "markdown",
      "metadata": {
        "id": "LAkhIzsh_guc"
      },
      "source": [
        "### Logistic Regression and Random Forest\n",
        "In a real world scenario, you can try a number of algorithms for the same problem. Let us work with the same default payment dataset to produce Logistic Regression and Random Forest models."
      ]
    },
    {
      "cell_type": "markdown",
      "metadata": {
        "id": "_U2-FpQhhtdv"
      },
      "source": [
        "Q11. Implement a function logistic_regression_model that returns a logistic regression model with the best paprameters. You will use GridSearchCV to find the best parameters. The parameters search space is up to you. If there is any ConvergenceWarning, increase the number of iterations."
      ]
    },
    {
      "cell_type": "code",
      "execution_count": null,
      "metadata": {
        "id": "OxvUsf7I_guc"
      },
      "outputs": [],
      "source": [
        "from sklearn.linear_model import LogisticRegression\n",
        "def logistic_regression_model(X_train, y_train):\n",
        "    ### YOUR CODE HERE ###\n",
        "    classifier = LogisticRegression(max_iter=350)\n",
        "#     classifier.fit(X_train, y_train)\n",
        "    solvers =  ['liblinear', 'saga']\n",
        "    penalty = ['l1','l2']\n",
        "    c_values = [100, 30,10,3, 1.0, 0.3,0.1, 0.03,0.01]\n",
        "    grid = {'solver':solvers,'penalty':penalty,'C':c_values}\n",
        "    grid_search = GridSearchCV(estimator=classifier, param_grid=grid, n_jobs=-1, cv=None, scoring='recall',error_score=0)\n",
        "    grid_result = grid_search.fit(X_train, y_train)\n",
        "    ######################\n",
        "    return grid_result.best_estimator_ # Return a logistic model with the best parameters you found"
      ]
    },
    {
      "cell_type": "markdown",
      "metadata": {
        "id": "peFhmNJYksHl"
      },
      "source": [
        "Q12. Fit the model by training set, obtain predictions on validation set and compute accuracy, precision, recall and F1 score."
      ]
    },
    {
      "cell_type": "code",
      "execution_count": null,
      "metadata": {
        "colab": {
          "base_uri": "https://localhost:8080/"
        },
        "id": "2HmLPe08_guc",
        "outputId": "74637f90-9cac-4a5c-935f-2b588a863627"
      },
      "outputs": [
        {
          "output_type": "stream",
          "name": "stderr",
          "text": [
            "/usr/local/lib/python3.10/dist-packages/sklearn/linear_model/_sag.py:350: ConvergenceWarning: The max_iter was reached which means the coef_ did not converge\n",
            "  warnings.warn(\n",
            "/usr/local/lib/python3.10/dist-packages/sklearn/linear_model/_sag.py:350: ConvergenceWarning: The max_iter was reached which means the coef_ did not converge\n",
            "  warnings.warn(\n"
          ]
        }
      ],
      "source": [
        "# fit the model\n",
        "# compute accuracy,precision,recall on validation set\n",
        "### YOUR CODE HERE ###\n",
        "model_logit = logistic_regression_model(X_train,y_train[:,1])\n",
        "model_logit.fit(X_train,y_train[:,1])\n",
        "y_pred = model_logit.predict(X_val)"
      ]
    },
    {
      "cell_type": "code",
      "execution_count": null,
      "metadata": {
        "colab": {
          "base_uri": "https://localhost:8080/"
        },
        "id": "GwI3C5THyhRx",
        "outputId": "c2a76862-1c38-4203-aff5-934381724ddb"
      },
      "outputs": [
        {
          "output_type": "stream",
          "name": "stdout",
          "text": [
            "Validation Precision = 0.6216216216216216\n",
            "Validation Recall = 0.42592592592592593\n",
            "Validation Accuracy = 0.8118729096989966\n",
            "Validation F1 = 0.5054945054945055\n"
          ]
        }
      ],
      "source": [
        "print(f\"Validation Precision = {precision_score(y_val[:,1],y_pred)}\")\n",
        "print(f\"Validation Recall = {recall_score(y_val[:,1],y_pred)}\")\n",
        "print(f\"Validation Accuracy = {accuracy(y_val[:,1],y_pred)}\")\n",
        "print(f\"Validation F1 = {f1_score(y_val[:,1],y_pred)}\")"
      ]
    },
    {
      "cell_type": "markdown",
      "metadata": {
        "id": "sJ79uCf3mcHN"
      },
      "source": [
        "Q13. Plot the ROC curve by giving appropriate names for title and axes."
      ]
    },
    {
      "cell_type": "code",
      "execution_count": null,
      "metadata": {
        "colab": {
          "base_uri": "https://localhost:8080/",
          "height": 718
        },
        "id": "1cvXDdiH_guc",
        "outputId": "69a9a395-22ab-4bf1-d0c7-96a4e80e6210"
      },
      "outputs": [
        {
          "output_type": "display_data",
          "data": {
            "text/plain": [
              "<Figure size 800x800 with 1 Axes>"
            ],
            "image/png": "[encoded data removed]"
          },
          "metadata": {}
        }
      ],
      "source": [
        "### WRITE CODE HERE\n",
        "from sklearn.metrics import roc_curve,auc\n",
        "import sklearn.metrics as metrics\n",
        "import matplotlib.pyplot as plt\n",
        "\n",
        "validation_probabilities = model_logit.predict_proba(X_val)[:, 1]\n",
        "\n",
        "fpr, tpr,_ = roc_curve(y_val[:,1], validation_probabilities)\n",
        "roc_auc = auc(fpr,tpr)\n",
        "\n",
        "plt.figure(figsize = (8, 8))\n",
        "plt.plot(fpr, tpr, color = 'purple', lw = 2, label = 'ROC curve (AUC = {:.2f})'.format(roc_auc))\n",
        "plt.plot([0, 1], [0, 1], color = 'green', lw = 2, linestyle='--', label='Random')\n",
        "plt.xlabel('False Positive Rate (FPR)')\n",
        "plt.ylabel('True Positive Rate (TPR)')\n",
        "plt.title('ROC Curve on Validation Set')\n",
        "plt.legend(loc='lower right')\n",
        "plt.show()"
      ]
    },
    {
      "cell_type": "markdown",
      "metadata": {
        "id": "UrJqeP4wnAlp"
      },
      "source": [
        "Q14. Implement a function random_forest_model that returns a random forest model with the best paprameters. You will apply GridSearchCV to find the best parameters. The parameter search space is up to you. (Please set the random state of RandomForestClassifier to be 26.)"
      ]
    },
    {
      "cell_type": "code",
      "execution_count": null,
      "metadata": {
        "id": "6FwUS0At_guc"
      },
      "outputs": [],
      "source": [
        "def random_forest_model(X_train, y_train):\n",
        "    ### YOUR CODE HERE ###\n",
        "    classifier = RandomForestClassifier(random_state=26)\n",
        "#   classifier.fit(X_train, y_train)\n",
        "    param_grid = {\n",
        "        'max_depth': [5, 10, 20, 30, None],\n",
        "        'max_features': ['sqrt', 'log2'],\n",
        "        'min_samples_leaf': [1, 2, 4, 8],\n",
        "        'min_samples_split': [2, 5, 10,20],\n",
        "        'n_estimators': [50, 100, 200, 300]\n",
        "    }\n",
        "    grid_search = GridSearchCV(estimator=classifier, param_grid=param_grid, n_jobs=-1, cv=None, scoring='recall')\n",
        "    grid_result = grid_search.fit(X_train, y_train)\n",
        "\n",
        "    return grid_result.best_estimator_# Return a logistic model with the best parameters you found and random_state=26"
      ]
    },
    {
      "cell_type": "markdown",
      "metadata": {
        "id": "dJvKtZ5Ho0by"
      },
      "source": [
        "Q15. Fit the model by training set, obtain predictions on validation set and compute accuracy, precision, recall and F1 score."
      ]
    },
    {
      "cell_type": "code",
      "execution_count": null,
      "metadata": {
        "id": "1ygnG-7U_guc"
      },
      "outputs": [],
      "source": [
        "### WRITE CODE HERE\n",
        "model_rf = random_forest_model(X_train,y_train[:,1])"
      ]
    },
    {
      "cell_type": "code",
      "source": [
        "model_rf.fit(X_train,y_train[:,1])"
      ],
      "metadata": {
        "id": "LSBP-fPb_R8N"
      },
      "execution_count": null,
      "outputs": []
    },
    {
      "cell_type": "code",
      "execution_count": null,
      "metadata": {
        "colab": {
          "base_uri": "https://localhost:8080/"
        },
        "id": "7IOKc4KR80k1",
        "outputId": "b9a25c8e-ecbe-49b1-d0e0-82e2d7a24da3"
      },
      "outputs": [
        {
          "output_type": "stream",
          "name": "stdout",
          "text": [
            "Validation Precision = 0.6216216216216216\n",
            "Validation Recall = 0.42592592592592593\n",
            "Validation Accuracy = 0.8118729096989966\n",
            "Validation F1 = 0.5054945054945055\n"
          ]
        }
      ],
      "source": [
        "y_pred_rf = model_rf.predict(X_val)\n",
        "print(f\"Validation Precision = {precision_score(y_val[:,1],y_pred_rf)}\")\n",
        "print(f\"Validation Recall = {recall_score(y_val[:,1],y_pred_rf)}\")\n",
        "print(f\"Validation Accuracy = {accuracy(y_val[:,1],y_pred_rf)}\")\n",
        "print(f\"Validation F1 = {f1_score(y_val[:,1],y_pred_rf)}\")"
      ]
    },
    {
      "cell_type": "markdown",
      "metadata": {
        "id": "oPN8cSbMo6hh"
      },
      "source": [
        "Q16. Plot the ROC curve by giving appropriate names for title and axes."
      ]
    },
    {
      "cell_type": "code",
      "execution_count": null,
      "metadata": {
        "colab": {
          "base_uri": "https://localhost:8080/",
          "height": 718
        },
        "id": "X7mtOQ1B_guc",
        "outputId": "c9be7c53-3325-402d-d56f-7a49f4ffb8a7"
      },
      "outputs": [
        {
          "output_type": "display_data",
          "data": {
            "text/plain": [
              "<Figure size 800x800 with 1 Axes>"
            ],
            "image/png": "[encoded data removed]"
          },
          "metadata": {}
        }
      ],
      "source": [
        "from sklearn.metrics import roc_curve,auc\n",
        "import sklearn.metrics as metrics\n",
        "import matplotlib.pyplot as plt\n",
        "\n",
        "validation_probabilities = model_rf.predict_proba(X_val)[:, 1]\n",
        "\n",
        "fpr, tpr,_ = roc_curve(y_val[:,1], validation_probabilities)\n",
        "roc_auc = auc(fpr,tpr)\n",
        "\n",
        "plt.figure(figsize = (8, 8))\n",
        "plt.plot(fpr, tpr, color = 'purple', lw = 2, label = 'ROC curve (AUC = {:.2f})'.format(roc_auc))\n",
        "plt.plot([0, 1], [0, 1], color = 'green', lw = 2, linestyle='--', label='Random')\n",
        "plt.xlabel('False Positive Rate (FPR)')\n",
        "plt.ylabel('True Positive Rate (TPR)')\n",
        "plt.title('ROC Curve on Validation Set')\n",
        "plt.legend(loc='lower right')\n",
        "plt.show()"
      ]
    },
    {
      "cell_type": "markdown",
      "metadata": {
        "id": "RIYIR7PX_guc"
      },
      "source": [
        "Q17: Which of the above 3 models (NN, Logistic function and random forest) worked best for you? Explain in details the reason for good/bad performance for each of the models?\n",
        "\n",
        "Ans- A good indicator to use is the ROC curve and therefore the AUC because it measures the overall performance of predicting default. We need to maximize the true positive rate while minimizing the false positive.\n",
        "\n",
        "Also, we can look into the F1 score that takes both precision and recall to calculate the value. The F1 score is particularly valuable when there is a need to strike a balance between precision and recall. In our example, default prediction, false positives and false negatives have significant consequences. The F1 score helps in finding a compromise between these two types of errors.\n",
        "\n",
        "On the other hand, while accuracy gives a general idea of performance, if we have an imbalanced dataset it can be missliding. Therefore, it is not a good choice to select our model based on accuracy. Accuracy doesn't capture the trade-off between sensitivity and specificity.\n",
        "\n",
        "**Therefore, given that AUC is similar in all models but the F1 is clearly better in the second NN, we choose the second NN as our final model.**\n",
        "\n"
      ]
    },
    {
      "cell_type": "markdown",
      "metadata": {
        "id": "SLTYUUkg_guc"
      },
      "source": [
        "Using the best of the above 3 models, obtain predictions for the test set."
      ]
    },
    {
      "cell_type": "code",
      "execution_count": null,
      "metadata": {
        "id": "DXy2-Vm8_guc",
        "colab": {
          "base_uri": "https://localhost:8080/"
        },
        "outputId": "168a9e90-426e-45fd-d48a-e4cc0a66945a"
      },
      "outputs": [
        {
          "output_type": "execute_result",
          "data": {
            "text/plain": [
              "array([[1, 0],\n",
              "       [1, 0],\n",
              "       [0, 1],\n",
              "       ...,\n",
              "       [1, 0],\n",
              "       [1, 0],\n",
              "       [1, 0]])"
            ]
          },
          "metadata": {},
          "execution_count": 135
        }
      ],
      "source": [
        "### YOUR CODE HERE ###\n",
        "y_pred = best_model.predict(test_full)\n",
        "y_pred"
      ]
    }
  ],
  "metadata": {
    "colab": {
      "provenance": []
    },
    "kernelspec": {
      "display_name": "Python 3 (ipykernel)",
      "language": "python",
      "name": "python3"
    },
    "language_info": {
      "codemirror_mode": {
        "name": "ipython",
        "version": 3
      },
      "file_extension": ".py",
      "mimetype": "text/x-python",
      "name": "python",
      "nbconvert_exporter": "python",
      "pygments_lexer": "ipython3",
      "version": "3.11.5"
    }
  },
  "nbformat": 4,
  "nbformat_minor": 0
}